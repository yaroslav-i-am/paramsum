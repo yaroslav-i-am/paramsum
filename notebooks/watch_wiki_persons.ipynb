{
 "cells": [
  {
   "cell_type": "code",
   "execution_count": 9,
   "id": "7bdb9c02-6793-4ac2-9dd7-25c6d435a6e7",
   "metadata": {},
   "outputs": [],
   "source": [
    "import json\n",
    "import random\n",
    "\n",
    "from pprint import pprint"
   ]
  },
  {
   "cell_type": "code",
   "execution_count": 6,
   "id": "82168d81-7f7c-4451-8001-12b92e274132",
   "metadata": {},
   "outputs": [],
   "source": [
    "person_all_headline_counts = '../../repos/aist-repo/wiki_persons_data/person_all_headline_counts.json'\n",
    "with open(person_all_headline_counts, 'rb') as f:\n",
    "    person_all_headline_counts = json.load(f)\n",
    "\n",
    "person_all = '../../repos/aist-repo/wiki_persons_data/person_all.json'\n",
    "with open(person_all, 'rb') as f:\n",
    "    person_all = json.load(f)\n",
    "\n",
    "person_processed = '../../repos/aist-repo/wiki_persons_data/person_processed.json'\n",
    "with open(person_processed, 'rb') as f:\n",
    "    person_processed = json.load(f)"
   ]
  },
  {
   "cell_type": "code",
   "execution_count": 13,
   "id": "85d3f4f1-b6bd-4aaa-be1b-cb56c5f0d21e",
   "metadata": {},
   "outputs": [
    {
     "name": "stdout",
     "output_type": "stream",
     "text": [
      "{'1979': 4,\n",
      " '2 октября 2004  Заб Джуда\\xa0—  Уэйн Мартелл': 1,\n",
      " 'Scène de vie (1990—93)': 1,\n",
      " 'Аккрингтон Стэнли': 1,\n",
      " 'Биография и военная карьера': 1,\n",
      " 'В исполнении артистов Большого театра': 1,\n",
      " 'Математика и нелинейная механика': 1,\n",
      " 'На новосибирской кафедре': 1,\n",
      " 'Научное руководство': 1,\n",
      " 'Покушение 1980 года и конфликт с США': 1,\n",
      " 'Продолжение миссии гуру': 1,\n",
      " 'Прорыв во Флоренции (1962—1967)': 1,\n",
      " 'Прочие серии': 1,\n",
      " 'Работа в ЦК КПСС': 1,\n",
      " 'Снова «Тобол»': 1,\n",
      " 'Трагедия': 2,\n",
      " 'Учебные и учебно-методические разработки': 1}\n"
     ]
    }
   ],
   "source": [
    "def sample_from_dict(d, sample=10):\n",
    "    keys = random.sample(list(d), sample)\n",
    "    values = [d[k] for k in keys]\n",
    "    return dict(zip(keys, values))\n",
    "\n",
    "pprint(sample_from_dict(person_all_headline_counts, 17))"
   ]
  },
  {
   "cell_type": "code",
   "execution_count": 17,
   "id": "315bdb2f-7e48-4bed-abfd-a659c59d1cc3",
   "metadata": {},
   "outputs": [
    {
     "name": "stdout",
     "output_type": "stream",
     "text": [
      "['Бродский, Исаак Израилевич',\n",
      " 'Гу Кайлай',\n",
      " 'Дёмушкин, Дмитрий Николаевич',\n",
      " 'Дрейк, Ник',\n",
      " 'Гуркин, Юрий Александрович',\n",
      " 'Блэк, Тарик',\n",
      " 'Бейкер, Майкл Аллен',\n",
      " 'Брандт, Фёдор Фёдорович',\n",
      " 'Долгачёв, Вячеслав Васильевич',\n",
      " 'Багнис, Факундо']\n"
     ]
    }
   ],
   "source": [
    "pprint(random.sample(list(person_all.keys()), 10))"
   ]
  },
  {
   "cell_type": "code",
   "execution_count": 18,
   "id": "0f03ec1c-64a5-451e-8b0b-0a6a7495294f",
   "metadata": {},
   "outputs": [
    {
     "name": "stdout",
     "output_type": "stream",
     "text": [
      "dict_keys(['Детство', 'Школа', '«Синяя коробочка»', 'Рид-колледж', 'Работа в Atari', '«Клуб самодельных компьютеров»', 'Apple Computer', 'Apple I', 'Apple II', 'Apple III', 'Apple Lisa', 'Macintosh', '1984', 'Кризис и увольнение', 'NeXT Computer', 'Pixar и Disney', 'Возвращение в Apple', 'Think Different', 'iMac', 'Apple Store', 'iTunes', 'iPod', 'iTunes Store', 'iPhone', 'iPad', 'Отставка', 'Бизнес', 'Состояние', 'Стиль управления', 'Изобретения и проекты', 'Отношения с деятелями IT-индустрии', 'Общественная деятельность', 'Скандалы', 'Опционы на акции задним числом', 'Неавторизованные биографии', 'Преследование блогеров', 'Цензура на iPhone и iPad', 'Утилизация электронных отходов', 'Личная жизнь', 'Отношения с биологическими родственниками', 'Отношения с женщинами', 'Крис-Энн Бреннан', 'Барбара Ясински', 'Джоан Баэз', 'Дженнифер Иган', 'Тина Редсе', 'Брак с Лорен Пауэлл', 'Жильё', 'Проблемы со здоровьем', 'Смерть', 'Освещение в СМИ', 'Награды и общественное признание', 'Критика', 'В культуре', 'Книги', 'Документальные фильмы', 'Художественные фильмы', 'Театр', 'Примечания', 'Литература', 'Ссылки'])\n"
     ]
    }
   ],
   "source": [
    "print(person_all['Джобс, Стив'].keys())"
   ]
  },
  {
   "cell_type": "code",
   "execution_count": 34,
   "id": "2e250ec5-5e2b-4d51-8a7f-77e55e4cd6a6",
   "metadata": {},
   "outputs": [
    {
     "name": "stdout",
     "output_type": "stream",
     "text": [
      "61\n",
      "\n",
      "['Утилизация электронных отходов', 'Критика', 'Тина Редсе', 'Театр', 'Pixar и Disney', 'Стиль управления', 'iPad', 'Освещение в СМИ', 'Отношения с деятелями IT-индустрии', 'Школа']\n",
      "\n",
      "<class 'dict'>\n",
      "['Книги о Стиве Джобсе на русском языке:\\n']\n"
     ]
    }
   ],
   "source": [
    "print(len(person_all['Джобс, Стив']), end='\\n\\n')\n",
    "print(random.sample(list(person_all['Джобс, Стив'].keys()), 10), end='\\n\\n')\n",
    "print(type(person_all['Джобс, Стив']))\n",
    "print(person_all['Джобс, Стив']['Литература'])"
   ]
  },
  {
   "cell_type": "code",
   "execution_count": 22,
   "id": "908418c6-1f02-4c76-a118-004115b24cb7",
   "metadata": {},
   "outputs": [
    {
     "name": "stdout",
     "output_type": "stream",
     "text": [
      "146409\n",
      "Стивен Пол Джобс родился февраля года Его родителями были незарегистрированные в браке студенты уроженец Сирии Абдулфаттах Джон Джандали и Джоан Шибле из католической семьи немецких эмигрантов Джоан училась в магистратуре Висконсинского университета а Джандали там же работал ассистентом преподавателя Поскольку родственники Джоан возражали против их отношений а находившийся при смерти отец и вовсе пригрозил лишить е наследства ей пришлось уехать рожать к частному врачу в Сан Франциско и затем отдать реб нка на усыновление \n",
      " Мальчик был усыновл н Полом Джобсом и американкой армянского происхождения Кларой Джобс урожд нной Агопян Своих детей Джобсы иметь не могли Они и назвали при много сына Стивеном Полом Джоан хотела чтобы при мные родители Стивена имели высшее образование и узнав что Клара не окончила колледж а Пол учился только в средней школе подписала бумаги об усыновлении только после того как они дали письменное обязательство оплатить обучение Стивена в колледже Джобс всегда счита\n"
     ]
    }
   ],
   "source": [
    "print(len(person_processed['Джобс, Стив']))\n",
    "print(person_processed['Джобс, Стив'][:1000])"
   ]
  },
  {
   "cell_type": "code",
   "execution_count": null,
   "id": "04e39807-ff24-489b-a528-7ac7d9e53233",
   "metadata": {},
   "outputs": [],
   "source": []
  }
 ],
 "metadata": {
  "kernelspec": {
   "display_name": "Python 3 (ipykernel)",
   "language": "python",
   "name": "python3"
  },
  "language_info": {
   "codemirror_mode": {
    "name": "ipython",
    "version": 3
   },
   "file_extension": ".py",
   "mimetype": "text/x-python",
   "name": "python",
   "nbconvert_exporter": "python",
   "pygments_lexer": "ipython3",
   "version": "3.9.17"
  }
 },
 "nbformat": 4,
 "nbformat_minor": 5
}
