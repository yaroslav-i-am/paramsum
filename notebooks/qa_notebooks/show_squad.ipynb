{
 "cells": [
  {
   "cell_type": "code",
   "execution_count": 1,
   "id": "ab2789e8-653d-42aa-8251-ae991af2053b",
   "metadata": {},
   "outputs": [
    {
     "name": "stderr",
     "output_type": "stream",
     "text": [
      "D:\\ProgramData\\anaconda3\\envs\\kaggle\\lib\\site-packages\\transformers\\utils\\generic.py:441: UserWarning: torch.utils._pytree._register_pytree_node is deprecated. Please use torch.utils._pytree.register_pytree_node instead.\n",
      "  _torch_pytree._register_pytree_node(\n"
     ]
    }
   ],
   "source": [
    "import pandas as pd\n",
    "\n",
    "import transformers, datasets"
   ]
  },
  {
   "cell_type": "markdown",
   "id": "aacefdf5-3785-4a1d-96d5-f199aa898336",
   "metadata": {},
   "source": [
    "## SQuAD"
   ]
  },
  {
   "cell_type": "code",
   "execution_count": 2,
   "id": "c1c6c1d1-8b87-4ab9-9cd1-735eb5e029c3",
   "metadata": {},
   "outputs": [
    {
     "data": {
      "application/vnd.jupyter.widget-view+json": {
       "model_id": "43d02ed3f78145eb879fc9952e2be0f1",
       "version_major": 2,
       "version_minor": 0
      },
      "text/plain": [
       "Downloading readme:   0%|          | 0.00/7.62k [00:00<?, ?B/s]"
      ]
     },
     "metadata": {},
     "output_type": "display_data"
    },
    {
     "data": {
      "application/vnd.jupyter.widget-view+json": {
       "model_id": "3d49c0b166614abc8314165326c8702b",
       "version_major": 2,
       "version_minor": 0
      },
      "text/plain": [
       "Downloading data files:   0%|          | 0/2 [00:00<?, ?it/s]"
      ]
     },
     "metadata": {},
     "output_type": "display_data"
    },
    {
     "data": {
      "application/vnd.jupyter.widget-view+json": {
       "model_id": "b18462d0e9124f7a9423241c6a57c50d",
       "version_major": 2,
       "version_minor": 0
      },
      "text/plain": [
       "Downloading data:   0%|          | 0.00/14.5M [00:00<?, ?B/s]"
      ]
     },
     "metadata": {},
     "output_type": "display_data"
    },
    {
     "data": {
      "application/vnd.jupyter.widget-view+json": {
       "model_id": "0353df81c46d44e8981ae7ef487d9a87",
       "version_major": 2,
       "version_minor": 0
      },
      "text/plain": [
       "Downloading data:   0%|          | 0.00/1.82M [00:00<?, ?B/s]"
      ]
     },
     "metadata": {},
     "output_type": "display_data"
    },
    {
     "data": {
      "application/vnd.jupyter.widget-view+json": {
       "model_id": "032e267530d94e57862d1de7883649d1",
       "version_major": 2,
       "version_minor": 0
      },
      "text/plain": [
       "Extracting data files:   0%|          | 0/2 [00:00<?, ?it/s]"
      ]
     },
     "metadata": {},
     "output_type": "display_data"
    },
    {
     "data": {
      "application/vnd.jupyter.widget-view+json": {
       "model_id": "18c459b919db4df582f6192be1c91ba7",
       "version_major": 2,
       "version_minor": 0
      },
      "text/plain": [
       "Generating train split:   0%|          | 0/87599 [00:00<?, ? examples/s]"
      ]
     },
     "metadata": {},
     "output_type": "display_data"
    },
    {
     "data": {
      "application/vnd.jupyter.widget-view+json": {
       "model_id": "dea926ab0b5d4f319f1cc865434d79fa",
       "version_major": 2,
       "version_minor": 0
      },
      "text/plain": [
       "Generating validation split:   0%|          | 0/10570 [00:00<?, ? examples/s]"
      ]
     },
     "metadata": {},
     "output_type": "display_data"
    }
   ],
   "source": [
    "from datasets import load_dataset\n",
    "\n",
    "dataset = load_dataset(\"rajpurkar/squad\")"
   ]
  },
  {
   "cell_type": "code",
   "execution_count": 8,
   "id": "98b7ade3-f302-40a2-a1e0-b74ddc018a44",
   "metadata": {},
   "outputs": [
    {
     "name": "stdout",
     "output_type": "stream",
     "text": [
      "DatasetDict({\n",
      "    train: Dataset({\n",
      "        features: ['id', 'title', 'context', 'question', 'answers'],\n",
      "        num_rows: 87599\n",
      "    })\n",
      "    validation: Dataset({\n",
      "        features: ['id', 'title', 'context', 'question', 'answers'],\n",
      "        num_rows: 10570\n",
      "    })\n",
      "})\n",
      "{'train': ['id', 'title', 'context', 'question', 'answers'], 'validation': ['id', 'title', 'context', 'question', 'answers']}\n",
      "{'train': (87599, 5), 'validation': (10570, 5)}\n"
     ]
    }
   ],
   "source": [
    "print(dataset)\n",
    "\n",
    "print(dataset.column_names)\n",
    "\n",
    "print(dataset.shape)"
   ]
  },
  {
   "cell_type": "code",
   "execution_count": 14,
   "id": "2325f666-1bdc-4a31-85ad-e15fa0c37ae1",
   "metadata": {},
   "outputs": [
    {
     "name": "stdout",
     "output_type": "stream",
     "text": [
      "Dataset({\n",
      "    features: ['id', 'title', 'context', 'question', 'answers'],\n",
      "    num_rows: 87599\n",
      "})\n",
      "\n",
      "['id', 'title', 'context', 'question', 'answers']\n",
      "89834384\n",
      "\n",
      "{'id': Value(dtype='string', id=None), 'title': Value(dtype='string', id=None), 'context': Value(dtype='string', id=None), 'question': Value(dtype='string', id=None), 'answers': Sequence(feature={'text': Value(dtype='string', id=None), 'answer_start': Value(dtype='int32', id=None)}, length=-1, id=None)}\n"
     ]
    },
    {
     "data": {
      "text/html": [
       "<div>\n",
       "<style scoped>\n",
       "    .dataframe tbody tr th:only-of-type {\n",
       "        vertical-align: middle;\n",
       "    }\n",
       "\n",
       "    .dataframe tbody tr th {\n",
       "        vertical-align: top;\n",
       "    }\n",
       "\n",
       "    .dataframe thead th {\n",
       "        text-align: right;\n",
       "    }\n",
       "</style>\n",
       "<table border=\"1\" class=\"dataframe\">\n",
       "  <thead>\n",
       "    <tr style=\"text-align: right;\">\n",
       "      <th></th>\n",
       "      <th>id</th>\n",
       "      <th>title</th>\n",
       "      <th>context</th>\n",
       "      <th>question</th>\n",
       "      <th>answers</th>\n",
       "    </tr>\n",
       "  </thead>\n",
       "  <tbody>\n",
       "    <tr>\n",
       "      <th>0</th>\n",
       "      <td>5733be284776f41900661182</td>\n",
       "      <td>University_of_Notre_Dame</td>\n",
       "      <td>Architecturally, the school has a Catholic cha...</td>\n",
       "      <td>To whom did the Virgin Mary allegedly appear i...</td>\n",
       "      <td>{'text': ['Saint Bernadette Soubirous'], 'answ...</td>\n",
       "    </tr>\n",
       "    <tr>\n",
       "      <th>1</th>\n",
       "      <td>5733be284776f4190066117f</td>\n",
       "      <td>University_of_Notre_Dame</td>\n",
       "      <td>Architecturally, the school has a Catholic cha...</td>\n",
       "      <td>What is in front of the Notre Dame Main Building?</td>\n",
       "      <td>{'text': ['a copper statue of Christ'], 'answe...</td>\n",
       "    </tr>\n",
       "    <tr>\n",
       "      <th>2</th>\n",
       "      <td>5733be284776f41900661180</td>\n",
       "      <td>University_of_Notre_Dame</td>\n",
       "      <td>Architecturally, the school has a Catholic cha...</td>\n",
       "      <td>The Basilica of the Sacred heart at Notre Dame...</td>\n",
       "      <td>{'text': ['the Main Building'], 'answer_start'...</td>\n",
       "    </tr>\n",
       "    <tr>\n",
       "      <th>3</th>\n",
       "      <td>5733be284776f41900661181</td>\n",
       "      <td>University_of_Notre_Dame</td>\n",
       "      <td>Architecturally, the school has a Catholic cha...</td>\n",
       "      <td>What is the Grotto at Notre Dame?</td>\n",
       "      <td>{'text': ['a Marian place of prayer and reflec...</td>\n",
       "    </tr>\n",
       "    <tr>\n",
       "      <th>4</th>\n",
       "      <td>5733be284776f4190066117e</td>\n",
       "      <td>University_of_Notre_Dame</td>\n",
       "      <td>Architecturally, the school has a Catholic cha...</td>\n",
       "      <td>What sits on top of the Main Building at Notre...</td>\n",
       "      <td>{'text': ['a golden statue of the Virgin Mary'...</td>\n",
       "    </tr>\n",
       "    <tr>\n",
       "      <th>...</th>\n",
       "      <td>...</td>\n",
       "      <td>...</td>\n",
       "      <td>...</td>\n",
       "      <td>...</td>\n",
       "      <td>...</td>\n",
       "    </tr>\n",
       "    <tr>\n",
       "      <th>87594</th>\n",
       "      <td>5735d259012e2f140011a09d</td>\n",
       "      <td>Kathmandu</td>\n",
       "      <td>Kathmandu Metropolitan City (KMC), in order to...</td>\n",
       "      <td>In what US state did Kathmandu first establish...</td>\n",
       "      <td>{'text': ['Oregon'], 'answer_start': [229]}</td>\n",
       "    </tr>\n",
       "    <tr>\n",
       "      <th>87595</th>\n",
       "      <td>5735d259012e2f140011a09e</td>\n",
       "      <td>Kathmandu</td>\n",
       "      <td>Kathmandu Metropolitan City (KMC), in order to...</td>\n",
       "      <td>What was Yangon previously known as?</td>\n",
       "      <td>{'text': ['Rangoon'], 'answer_start': [414]}</td>\n",
       "    </tr>\n",
       "    <tr>\n",
       "      <th>87596</th>\n",
       "      <td>5735d259012e2f140011a09f</td>\n",
       "      <td>Kathmandu</td>\n",
       "      <td>Kathmandu Metropolitan City (KMC), in order to...</td>\n",
       "      <td>With what Belorussian city does Kathmandu have...</td>\n",
       "      <td>{'text': ['Minsk'], 'answer_start': [476]}</td>\n",
       "    </tr>\n",
       "    <tr>\n",
       "      <th>87597</th>\n",
       "      <td>5735d259012e2f140011a0a0</td>\n",
       "      <td>Kathmandu</td>\n",
       "      <td>Kathmandu Metropolitan City (KMC), in order to...</td>\n",
       "      <td>In what year did Kathmandu create its initial ...</td>\n",
       "      <td>{'text': ['1975'], 'answer_start': [199]}</td>\n",
       "    </tr>\n",
       "    <tr>\n",
       "      <th>87598</th>\n",
       "      <td>5735d259012e2f140011a0a1</td>\n",
       "      <td>Kathmandu</td>\n",
       "      <td>Kathmandu Metropolitan City (KMC), in order to...</td>\n",
       "      <td>What is KMC an initialism of?</td>\n",
       "      <td>{'text': ['Kathmandu Metropolitan City'], 'ans...</td>\n",
       "    </tr>\n",
       "  </tbody>\n",
       "</table>\n",
       "<p>87599 rows × 5 columns</p>\n",
       "</div>"
      ],
      "text/plain": [
       "                             id                     title  \\\n",
       "0      5733be284776f41900661182  University_of_Notre_Dame   \n",
       "1      5733be284776f4190066117f  University_of_Notre_Dame   \n",
       "2      5733be284776f41900661180  University_of_Notre_Dame   \n",
       "3      5733be284776f41900661181  University_of_Notre_Dame   \n",
       "4      5733be284776f4190066117e  University_of_Notre_Dame   \n",
       "...                         ...                       ...   \n",
       "87594  5735d259012e2f140011a09d                 Kathmandu   \n",
       "87595  5735d259012e2f140011a09e                 Kathmandu   \n",
       "87596  5735d259012e2f140011a09f                 Kathmandu   \n",
       "87597  5735d259012e2f140011a0a0                 Kathmandu   \n",
       "87598  5735d259012e2f140011a0a1                 Kathmandu   \n",
       "\n",
       "                                                 context  \\\n",
       "0      Architecturally, the school has a Catholic cha...   \n",
       "1      Architecturally, the school has a Catholic cha...   \n",
       "2      Architecturally, the school has a Catholic cha...   \n",
       "3      Architecturally, the school has a Catholic cha...   \n",
       "4      Architecturally, the school has a Catholic cha...   \n",
       "...                                                  ...   \n",
       "87594  Kathmandu Metropolitan City (KMC), in order to...   \n",
       "87595  Kathmandu Metropolitan City (KMC), in order to...   \n",
       "87596  Kathmandu Metropolitan City (KMC), in order to...   \n",
       "87597  Kathmandu Metropolitan City (KMC), in order to...   \n",
       "87598  Kathmandu Metropolitan City (KMC), in order to...   \n",
       "\n",
       "                                                question  \\\n",
       "0      To whom did the Virgin Mary allegedly appear i...   \n",
       "1      What is in front of the Notre Dame Main Building?   \n",
       "2      The Basilica of the Sacred heart at Notre Dame...   \n",
       "3                      What is the Grotto at Notre Dame?   \n",
       "4      What sits on top of the Main Building at Notre...   \n",
       "...                                                  ...   \n",
       "87594  In what US state did Kathmandu first establish...   \n",
       "87595               What was Yangon previously known as?   \n",
       "87596  With what Belorussian city does Kathmandu have...   \n",
       "87597  In what year did Kathmandu create its initial ...   \n",
       "87598                      What is KMC an initialism of?   \n",
       "\n",
       "                                                 answers  \n",
       "0      {'text': ['Saint Bernadette Soubirous'], 'answ...  \n",
       "1      {'text': ['a copper statue of Christ'], 'answe...  \n",
       "2      {'text': ['the Main Building'], 'answer_start'...  \n",
       "3      {'text': ['a Marian place of prayer and reflec...  \n",
       "4      {'text': ['a golden statue of the Virgin Mary'...  \n",
       "...                                                  ...  \n",
       "87594        {'text': ['Oregon'], 'answer_start': [229]}  \n",
       "87595       {'text': ['Rangoon'], 'answer_start': [414]}  \n",
       "87596         {'text': ['Minsk'], 'answer_start': [476]}  \n",
       "87597          {'text': ['1975'], 'answer_start': [199]}  \n",
       "87598  {'text': ['Kathmandu Metropolitan City'], 'ans...  \n",
       "\n",
       "[87599 rows x 5 columns]"
      ]
     },
     "execution_count": 14,
     "metadata": {},
     "output_type": "execute_result"
    }
   ],
   "source": [
    "print(dataset['train'])\n",
    "\n",
    "print(dataset['train'].citation)\n",
    "\n",
    "print(dataset['train'].column_names)\n",
    "\n",
    "print(dataset['train'].dataset_size)\n",
    "\n",
    "print(dataset['train'].description)\n",
    "\n",
    "print(dataset['train'].features)\n",
    "\n",
    "dataset['train'].to_pandas()\n"
   ]
  },
  {
   "cell_type": "code",
   "execution_count": 19,
   "id": "f85075da-0cab-4070-b6e8-415f1f0cda0c",
   "metadata": {},
   "outputs": [
    {
     "data": {
      "text/plain": [
       "442"
      ]
     },
     "execution_count": 19,
     "metadata": {},
     "output_type": "execute_result"
    }
   ],
   "source": [
    "train = dataset['train'].to_pandas()\n",
    "\n",
    "train.title.nunique()"
   ]
  },
  {
   "cell_type": "code",
   "execution_count": 22,
   "id": "7121eebc-4f72-4de1-b046-2d1d4319b127",
   "metadata": {},
   "outputs": [
    {
     "name": "stdout",
     "output_type": "stream",
     "text": [
      "{'text': array(['Saint Bernadette Soubirous'], dtype=object), 'answer_start': array([515])}\n",
      "{'text': array(['a copper statue of Christ'], dtype=object), 'answer_start': array([188])}\n",
      "{'text': array(['the Main Building'], dtype=object), 'answer_start': array([279])}\n",
      "{'text': array(['a Marian place of prayer and reflection'], dtype=object), 'answer_start': array([381])}\n",
      "{'text': array(['a golden statue of the Virgin Mary'], dtype=object), 'answer_start': array([92])}\n",
      "{'text': array(['September 1876'], dtype=object), 'answer_start': array([248])}\n",
      "{'text': array(['twice'], dtype=object), 'answer_start': array([441])}\n",
      "{'text': array(['The Observer'], dtype=object), 'answer_start': array([598])}\n",
      "{'text': array(['three'], dtype=object), 'answer_start': array([126])}\n",
      "{'text': array(['1987'], dtype=object), 'answer_start': array([908])}\n"
     ]
    }
   ],
   "source": [
    "for ans in train['answers'][:10]:\n",
    "    print(ans)"
   ]
  },
  {
   "cell_type": "markdown",
   "id": "20596591-bf80-4623-b38a-1ac4a1a7bebe",
   "metadata": {},
   "source": [
    "---"
   ]
  },
  {
   "cell_type": "markdown",
   "id": "ff306fc1-efad-45a9-b263-bf124ea0229e",
   "metadata": {},
   "source": [
    "## SberQuAD"
   ]
  },
  {
   "cell_type": "code",
   "execution_count": 23,
   "id": "1bcdc388-f3ea-4bce-a129-5199e404e8a8",
   "metadata": {},
   "outputs": [
    {
     "data": {
      "application/vnd.jupyter.widget-view+json": {
       "model_id": "777e9705ce1140cb82557d14002332d5",
       "version_major": 2,
       "version_minor": 0
      },
      "text/plain": [
       "Downloading builder script:   0%|          | 0.00/4.22k [00:00<?, ?B/s]"
      ]
     },
     "metadata": {},
     "output_type": "display_data"
    },
    {
     "data": {
      "application/vnd.jupyter.widget-view+json": {
       "model_id": "9d604dcbcae14216ac2450b1c4aafbae",
       "version_major": 2,
       "version_minor": 0
      },
      "text/plain": [
       "Downloading readme:   0%|          | 0.00/4.96k [00:00<?, ?B/s]"
      ]
     },
     "metadata": {},
     "output_type": "display_data"
    },
    {
     "data": {
      "application/vnd.jupyter.widget-view+json": {
       "model_id": "2549058e613e425e948d7215c2e76d0c",
       "version_major": 2,
       "version_minor": 0
      },
      "text/plain": [
       "Downloading data files:   0%|          | 0/3 [00:00<?, ?it/s]"
      ]
     },
     "metadata": {},
     "output_type": "display_data"
    },
    {
     "data": {
      "application/vnd.jupyter.widget-view+json": {
       "model_id": "14bb6b92492e4f278645f08bbfbe555e",
       "version_major": 2,
       "version_minor": 0
      },
      "text/plain": [
       "Downloading data:   0%|          | 0.00/5.84M [00:00<?, ?B/s]"
      ]
     },
     "metadata": {},
     "output_type": "display_data"
    },
    {
     "data": {
      "application/vnd.jupyter.widget-view+json": {
       "model_id": "cf11fecef73945babe2532ccf8de8f05",
       "version_major": 2,
       "version_minor": 0
      },
      "text/plain": [
       "Downloading data:   0%|          | 0.00/1.93M [00:00<?, ?B/s]"
      ]
     },
     "metadata": {},
     "output_type": "display_data"
    },
    {
     "data": {
      "application/vnd.jupyter.widget-view+json": {
       "model_id": "a79ab36c10354eaca58c7c09acf75f12",
       "version_major": 2,
       "version_minor": 0
      },
      "text/plain": [
       "Downloading data:   0%|          | 0.00/2.73M [00:00<?, ?B/s]"
      ]
     },
     "metadata": {},
     "output_type": "display_data"
    },
    {
     "data": {
      "application/vnd.jupyter.widget-view+json": {
       "model_id": "2ffd5ed2d3d24c7b9958a5f637013b94",
       "version_major": 2,
       "version_minor": 0
      },
      "text/plain": [
       "Extracting data files:   0%|          | 0/3 [00:00<?, ?it/s]"
      ]
     },
     "metadata": {},
     "output_type": "display_data"
    },
    {
     "data": {
      "application/vnd.jupyter.widget-view+json": {
       "model_id": "6e26fb1ff25b46ca8898d3c6449afb46",
       "version_major": 2,
       "version_minor": 0
      },
      "text/plain": [
       "Generating train split:   0%|          | 0/45328 [00:00<?, ? examples/s]"
      ]
     },
     "metadata": {},
     "output_type": "display_data"
    },
    {
     "data": {
      "application/vnd.jupyter.widget-view+json": {
       "model_id": "3d2533ed0f274ecba3bc6da2f29246bf",
       "version_major": 2,
       "version_minor": 0
      },
      "text/plain": [
       "Generating validation split:   0%|          | 0/5036 [00:00<?, ? examples/s]"
      ]
     },
     "metadata": {},
     "output_type": "display_data"
    },
    {
     "data": {
      "application/vnd.jupyter.widget-view+json": {
       "model_id": "60dbb45d74454aaf8a880985e48cdfe9",
       "version_major": 2,
       "version_minor": 0
      },
      "text/plain": [
       "Generating test split:   0%|          | 0/23936 [00:00<?, ? examples/s]"
      ]
     },
     "metadata": {},
     "output_type": "display_data"
    }
   ],
   "source": [
    "from datasets import load_dataset\n",
    "\n",
    "dataset = load_dataset(\"sberquad\")"
   ]
  },
  {
   "cell_type": "code",
   "execution_count": 25,
   "id": "a7be868c-1980-499c-a213-28a92d54c4a6",
   "metadata": {},
   "outputs": [
    {
     "data": {
      "text/html": [
       "<div>\n",
       "<style scoped>\n",
       "    .dataframe tbody tr th:only-of-type {\n",
       "        vertical-align: middle;\n",
       "    }\n",
       "\n",
       "    .dataframe tbody tr th {\n",
       "        vertical-align: top;\n",
       "    }\n",
       "\n",
       "    .dataframe thead th {\n",
       "        text-align: right;\n",
       "    }\n",
       "</style>\n",
       "<table border=\"1\" class=\"dataframe\">\n",
       "  <thead>\n",
       "    <tr style=\"text-align: right;\">\n",
       "      <th></th>\n",
       "      <th>id</th>\n",
       "      <th>title</th>\n",
       "      <th>context</th>\n",
       "      <th>question</th>\n",
       "      <th>answers</th>\n",
       "    </tr>\n",
       "  </thead>\n",
       "  <tbody>\n",
       "    <tr>\n",
       "      <th>0</th>\n",
       "      <td>62310</td>\n",
       "      <td>SberChallenge</td>\n",
       "      <td>В протерозойских отложениях органические остат...</td>\n",
       "      <td>чем представлены органические остатки?</td>\n",
       "      <td>{'text': ['известковыми выделениями сине-зелён...</td>\n",
       "    </tr>\n",
       "    <tr>\n",
       "      <th>1</th>\n",
       "      <td>28101</td>\n",
       "      <td>SberChallenge</td>\n",
       "      <td>В протерозойских отложениях органические остат...</td>\n",
       "      <td>что найдено в кремнистых сланцах железорудной ...</td>\n",
       "      <td>{'text': ['нитевидные водоросли, грибные нити'...</td>\n",
       "    </tr>\n",
       "    <tr>\n",
       "      <th>2</th>\n",
       "      <td>48834</td>\n",
       "      <td>SberChallenge</td>\n",
       "      <td>В протерозойских отложениях органические остат...</td>\n",
       "      <td>что встречается в протерозойских отложениях?</td>\n",
       "      <td>{'text': ['органические остатки'], 'answer_sta...</td>\n",
       "    </tr>\n",
       "    <tr>\n",
       "      <th>3</th>\n",
       "      <td>83056</td>\n",
       "      <td>SberChallenge</td>\n",
       "      <td>В протерозойских отложениях органические остат...</td>\n",
       "      <td>что относится к числу древнейших растительных ...</td>\n",
       "      <td>{'text': ['скопления графито-углистого веществ...</td>\n",
       "    </tr>\n",
       "    <tr>\n",
       "      <th>4</th>\n",
       "      <td>5816</td>\n",
       "      <td>SberChallenge</td>\n",
       "      <td>В протерозойских отложениях органические остат...</td>\n",
       "      <td>как образовалось графито-углистое вещество?</td>\n",
       "      <td>{'text': ['в результате разложения Corycium en...</td>\n",
       "    </tr>\n",
       "    <tr>\n",
       "      <th>...</th>\n",
       "      <td>...</td>\n",
       "      <td>...</td>\n",
       "      <td>...</td>\n",
       "      <td>...</td>\n",
       "      <td>...</td>\n",
       "    </tr>\n",
       "    <tr>\n",
       "      <th>45323</th>\n",
       "      <td>6601</td>\n",
       "      <td>SberChallenge</td>\n",
       "      <td>Познакомившись с двигателем Ленуара, осенью 18...</td>\n",
       "      <td>Когда подали заявку на патент на двигатель с ж...</td>\n",
       "      <td>{'text': ['в январе 1861 года'], 'answer_start...</td>\n",
       "    </tr>\n",
       "    <tr>\n",
       "      <th>45324</th>\n",
       "      <td>84192</td>\n",
       "      <td>SberChallenge</td>\n",
       "      <td>Познакомившись с двигателем Ленуара, осенью 18...</td>\n",
       "      <td>Что создал после отклонения заявки Николаус Ау...</td>\n",
       "      <td>{'text': ['двухтактный атмосферный двигатель в...</td>\n",
       "    </tr>\n",
       "    <tr>\n",
       "      <th>45325</th>\n",
       "      <td>38284</td>\n",
       "      <td>SberChallenge</td>\n",
       "      <td>Главную роль в истории с письменным обязательс...</td>\n",
       "      <td>Что было целью разыгранного Веберами спектакля?</td>\n",
       "      <td>{'text': ['сближение Моцарта с Констанцией'], ...</td>\n",
       "    </tr>\n",
       "    <tr>\n",
       "      <th>45326</th>\n",
       "      <td>73427</td>\n",
       "      <td>SberChallenge</td>\n",
       "      <td>Главную роль в истории с письменным обязательс...</td>\n",
       "      <td>Что не мог подписать Моцарт из-за сильно разви...</td>\n",
       "      <td>{'text': ['заявление'], 'answer_start': [376]}</td>\n",
       "    </tr>\n",
       "    <tr>\n",
       "      <th>45327</th>\n",
       "      <td>10726</td>\n",
       "      <td>SberChallenge</td>\n",
       "      <td>Главную роль в истории с письменным обязательс...</td>\n",
       "      <td>Какое имя у опекуна Констанции и её сестёр?</td>\n",
       "      <td>{'text': ['Иоганн Торварт'], 'answer_start': [...</td>\n",
       "    </tr>\n",
       "  </tbody>\n",
       "</table>\n",
       "<p>45328 rows × 5 columns</p>\n",
       "</div>"
      ],
      "text/plain": [
       "          id          title  \\\n",
       "0      62310  SberChallenge   \n",
       "1      28101  SberChallenge   \n",
       "2      48834  SberChallenge   \n",
       "3      83056  SberChallenge   \n",
       "4       5816  SberChallenge   \n",
       "...      ...            ...   \n",
       "45323   6601  SberChallenge   \n",
       "45324  84192  SberChallenge   \n",
       "45325  38284  SberChallenge   \n",
       "45326  73427  SberChallenge   \n",
       "45327  10726  SberChallenge   \n",
       "\n",
       "                                                 context  \\\n",
       "0      В протерозойских отложениях органические остат...   \n",
       "1      В протерозойских отложениях органические остат...   \n",
       "2      В протерозойских отложениях органические остат...   \n",
       "3      В протерозойских отложениях органические остат...   \n",
       "4      В протерозойских отложениях органические остат...   \n",
       "...                                                  ...   \n",
       "45323  Познакомившись с двигателем Ленуара, осенью 18...   \n",
       "45324  Познакомившись с двигателем Ленуара, осенью 18...   \n",
       "45325  Главную роль в истории с письменным обязательс...   \n",
       "45326  Главную роль в истории с письменным обязательс...   \n",
       "45327  Главную роль в истории с письменным обязательс...   \n",
       "\n",
       "                                                question  \\\n",
       "0                 чем представлены органические остатки?   \n",
       "1      что найдено в кремнистых сланцах железорудной ...   \n",
       "2           что встречается в протерозойских отложениях?   \n",
       "3      что относится к числу древнейших растительных ...   \n",
       "4            как образовалось графито-углистое вещество?   \n",
       "...                                                  ...   \n",
       "45323  Когда подали заявку на патент на двигатель с ж...   \n",
       "45324  Что создал после отклонения заявки Николаус Ау...   \n",
       "45325    Что было целью разыгранного Веберами спектакля?   \n",
       "45326  Что не мог подписать Моцарт из-за сильно разви...   \n",
       "45327        Какое имя у опекуна Констанции и её сестёр?   \n",
       "\n",
       "                                                 answers  \n",
       "0      {'text': ['известковыми выделениями сине-зелён...  \n",
       "1      {'text': ['нитевидные водоросли, грибные нити'...  \n",
       "2      {'text': ['органические остатки'], 'answer_sta...  \n",
       "3      {'text': ['скопления графито-углистого веществ...  \n",
       "4      {'text': ['в результате разложения Corycium en...  \n",
       "...                                                  ...  \n",
       "45323  {'text': ['в январе 1861 года'], 'answer_start...  \n",
       "45324  {'text': ['двухтактный атмосферный двигатель в...  \n",
       "45325  {'text': ['сближение Моцарта с Констанцией'], ...  \n",
       "45326     {'text': ['заявление'], 'answer_start': [376]}  \n",
       "45327  {'text': ['Иоганн Торварт'], 'answer_start': [...  \n",
       "\n",
       "[45328 rows x 5 columns]"
      ]
     },
     "execution_count": 25,
     "metadata": {},
     "output_type": "execute_result"
    }
   ],
   "source": [
    "train = dataset['train'].to_pandas()\n",
    "train"
   ]
  },
  {
   "cell_type": "code",
   "execution_count": 26,
   "id": "e13dd3f2-afd7-44b4-bf9e-a8d77644665d",
   "metadata": {},
   "outputs": [
    {
     "name": "stdout",
     "output_type": "stream",
     "text": [
      "{'text': array(['известковыми выделениями сине-зелёных водорослей'], dtype=object), 'answer_start': array([109])}\n",
      "{'text': array(['нитевидные водоросли, грибные нити'], dtype=object), 'answer_start': array([438])}\n",
      "{'text': array(['органические остатки'], dtype=object), 'answer_start': array([28])}\n",
      "{'text': array(['скопления графито-углистого вещества'], dtype=object), 'answer_start': array([283])}\n",
      "{'text': array(['в результате разложения Corycium enigmaticum'], dtype=object), 'answer_start': array([337])}\n",
      "{'text': array(['в толстый кишечник'], dtype=object), 'answer_start': array([284])}\n",
      "{'text': array(['бродильным процессам с участием эндосимбионтов'], dtype=object), 'answer_start': array([325])}\n",
      "{'text': array(['в тонком кишечнике'], dtype=object), 'answer_start': array([153])}\n",
      "{'text': array(['тонкий и толстый'], dtype=object), 'answer_start': array([42])}\n",
      "{'text': array(['Для видов, кормящихся грубой растительной пищей'], dtype=object), 'answer_start': array([406])}\n"
     ]
    }
   ],
   "source": [
    "for ans in train['answers'][:10]:\n",
    "    print(ans)"
   ]
  },
  {
   "cell_type": "code",
   "execution_count": null,
   "id": "d7f3e85e-bd3c-4878-b544-003c72e337da",
   "metadata": {},
   "outputs": [],
   "source": []
  }
 ],
 "metadata": {
  "kernelspec": {
   "display_name": "Python 3 (ipykernel)",
   "language": "python",
   "name": "python3"
  },
  "language_info": {
   "codemirror_mode": {
    "name": "ipython",
    "version": 3
   },
   "file_extension": ".py",
   "mimetype": "text/x-python",
   "name": "python",
   "nbconvert_exporter": "python",
   "pygments_lexer": "ipython3",
   "version": "3.9.17"
  }
 },
 "nbformat": 4,
 "nbformat_minor": 5
}
