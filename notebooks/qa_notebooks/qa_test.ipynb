{
 "cells": [
  {
   "cell_type": "code",
   "execution_count": 1,
   "id": "046f1c4c-61e0-4b16-9090-ebf2c593adae",
   "metadata": {},
   "outputs": [
    {
     "name": "stdout",
     "output_type": "stream",
     "text": [
      "DEVICE = device(type='cuda')\n"
     ]
    },
    {
     "name": "stderr",
     "output_type": "stream",
     "text": [
      "D:\\ProgramData\\anaconda3\\envs\\kaggle\\lib\\site-packages\\transformers\\utils\\generic.py:441: UserWarning: torch.utils._pytree._register_pytree_node is deprecated. Please use torch.utils._pytree.register_pytree_node instead.\n",
      "  _torch_pytree._register_pytree_node(\n"
     ]
    }
   ],
   "source": [
    "import pandas as pd\n",
    "import numpy as np\n",
    "\n",
    "import torch\n",
    "import transformers\n",
    "\n",
    "DEVICE = torch.device(\"cuda\" if torch.cuda.is_available() else \"cpu\")\n",
    "print(f'{DEVICE = }')"
   ]
  },
  {
   "cell_type": "code",
   "execution_count": 6,
   "id": "ef5c7fb9-4432-48ca-9f9c-d4aa55852fc3",
   "metadata": {},
   "outputs": [
    {
     "data": {
      "text/plain": [
       "{'score': 0.7042880058288574, 'start': 3388, 'end': 3394, 'answer': ' ноль.'}"
      ]
     },
     "execution_count": 6,
     "metadata": {},
     "output_type": "execute_result"
    }
   ],
   "source": [
    "from transformers import pipeline\n",
    "\n",
    "model = pipeline(model=\"AlexKay/xlm-roberta-large-qa-multilingual-finedtuned-ru\")\n",
    "model(question=\"Where do I live?\", context=\"My name is Wolfgang and I live in Berlin\")"
   ]
  },
  {
   "cell_type": "code",
   "execution_count": 14,
   "id": "5e97b671-01c4-4d0d-935d-529bc7b91e4d",
   "metadata": {},
   "outputs": [
    {
     "data": {
      "text/plain": [
       "{'score': 0.24656541645526886,\n",
       " 'start': 2066,\n",
       " 'end': 2087,\n",
       " 'answer': ' недовольства собакой'}"
      ]
     },
     "execution_count": 14,
     "metadata": {},
     "output_type": "execute_result"
    }
   ],
   "source": [
    "model(question=\"Какие эмоции?\", context=\"Как много в кинематографе переоцененных фильмов...        Немолодой профессор случайно находит на вокзале щенка - то ли кем-то потерянного, то ли выброшенного. Рука не поднимается оставить его там, поэтому он забирает его к себе домой, несмотря на то, что жена против новых животных после гибели любимой собаки. Жену удается уговорить, и оставить щенка себе. Профессор узнает от своего друга-японца, что это порода акита-ину - очень независимая, но безумно преданная. И что щенок сам выбрал себе хозяина - и профессору не стоит никому его отдавать. Щенка нарекли Хати. Ну, а дальше начинает разворачиваться загадочная история с ожиданием собакой своего хозяина каждый день на вокзале строго в одно и то же время. Поначалу все удивлялись, что он туда в принципе приходит, но потом удивлением становится 'прогул' Хатико своего задания, неизвестно откуда взявшегося. И так проходит несколько лет...  В зной и мороз Хати всегда на своем посту. Но неожиданно профессор умирает. Но пес не покидает своего поста ещё в течение многих-многих лет.         Несомненно, история действительно трогательная, душещипательная. Но снято - не лучшим образом, если не сказать вообще худшим, каким только можно снять. После просмотра возникает вопрос - ну почему по такому потрясающему случаю снят такой бездарный фильм? А бездарен он по одной простой причине - по отсутствию игры. Из всех актеров здесь лучше всех играет собака, точнее совокупность собак. Гир здесь интеллигентный профессор, который любит свою жену и принес домой собаку. Больше никаких особенных черт мы в нем мы не успеваем разглядеть. Наверное, в фильмы Гира часто берут из-за внешности, и он решает, что можно забыть о какой-то там роли, написанной  в сценарии.         Относительно Аллен. Есть актрисы некрасивые, но харизматичные (та же Бетт Дэвис из старого Голливуда), есть красивые и нехаризматичные (половина современных актрис, берущих только ухоженной внешностью), а есть некрасивые и в то же время без обаяния. Вот Аллен можно причислить к последним - по крайней мере по этому фильму. Никаких эмоций кроме недовольства собакой здесь мы не наблюдаем. Сцена, где она встретила собаку на вокзале спустя много лет - одна из самых фальшивых в этом творении. Такое ощущение, что собака так и не заняла в ее сердце ни сантиметра места. Вместо слез все время только унылое лицо.         Я абсолютно уверена в том, что фильм переоценен именно из-за той истории, что положена в основу, что-то вроде 'ну как можно быть недовольным фильмом с такой трагедией'? Да, трагедия несомненно есть в оригинале, но не на пленке. И именно на наших эмоциях хотели сыграть создатели - кто же останется равнодушным к столь потрясающему явлению в отношениях 'собака-человек'. В этот век равнодушия человека к человеку мы все ещё хотим верить, что неравнодушие возможно, что возможна сильная привязанность. А поскольку животные врать не умеют, то и верим мы в такие истории. И поэтому-то к ним и обращаемся. Ну и разрекламированность данного фильма уже подразумевает, что человек, только приступив к просмотру, тут же растрогается, а слезы помогут позабыть о присутствии в кадре каких-то актеров. Лично я не растрогалась, глядя на людей. Растрогалась тогда, когда собака осталась совершенно одна, и никто ей не мешал смотреть вдаль и искренне верить в то, что хозяин придет.         Сюжет - хороший, сильный. Игры и проживания этой драмы самими актерами - ноль.        В итоге оценка получается где-то посередине.         4 из 10\")\n"
   ]
  },
  {
   "cell_type": "code",
   "execution_count": null,
   "id": "acaaa540-66e0-4423-892b-955d29a8d7e1",
   "metadata": {},
   "outputs": [],
   "source": []
  },
  {
   "cell_type": "code",
   "execution_count": null,
   "id": "7e7424e1-230e-49f5-b38f-e6bdde2616e3",
   "metadata": {},
   "outputs": [],
   "source": []
  },
  {
   "cell_type": "code",
   "execution_count": null,
   "id": "96c2968f-4226-4406-9ff3-42f0f1b92cd2",
   "metadata": {},
   "outputs": [],
   "source": []
  },
  {
   "cell_type": "code",
   "execution_count": null,
   "id": "cf85a3b6-cb4c-4aea-af49-4388b3349dcb",
   "metadata": {},
   "outputs": [],
   "source": []
  },
  {
   "cell_type": "code",
   "execution_count": null,
   "id": "d142f365-aa64-43f3-8e1d-41339d6c4763",
   "metadata": {},
   "outputs": [],
   "source": []
  },
  {
   "cell_type": "code",
   "execution_count": null,
   "id": "59512f8c-21cf-4497-b43a-cf3df6fe3014",
   "metadata": {},
   "outputs": [],
   "source": []
  },
  {
   "cell_type": "markdown",
   "id": "87254e10-a73e-4b69-bd1f-1574e15c2295",
   "metadata": {},
   "source": [
    "---"
   ]
  },
  {
   "cell_type": "code",
   "execution_count": 2,
   "id": "87e9ac5a-71db-4d7d-835d-e80dd0088c73",
   "metadata": {},
   "outputs": [
    {
     "data": {
      "application/vnd.jupyter.widget-view+json": {
       "model_id": "ae51660a86744803bd47221b4d73ab1a",
       "version_major": 2,
       "version_minor": 0
      },
      "text/plain": [
       "Downloading tokenizer_config.json:   0%|          | 0.00/20.4k [00:00<?, ?B/s]"
      ]
     },
     "metadata": {},
     "output_type": "display_data"
    },
    {
     "name": "stderr",
     "output_type": "stream",
     "text": [
      "D:\\ProgramData\\anaconda3\\envs\\kaggle\\lib\\site-packages\\huggingface_hub\\file_download.py:137: UserWarning: `huggingface_hub` cache-system uses symlinks by default to efficiently store duplicated files but your machine does not support them in C:\\Users\\Yaroslav Pristalov\\.cache\\huggingface\\hub. Caching files will still work but in a degraded version that might require more space on your disk. This warning can be disabled by setting the `HF_HUB_DISABLE_SYMLINKS_WARNING` environment variable. For more details, see https://huggingface.co/docs/huggingface_hub/how-to-cache#limitations.\n",
      "To support symlinks on Windows, you either need to activate Developer Mode or to run Python as an administrator. In order to see activate developer mode, see this article: https://docs.microsoft.com/en-us/windows/apps/get-started/enable-your-device-for-development\n",
      "  warnings.warn(message)\n"
     ]
    },
    {
     "data": {
      "application/vnd.jupyter.widget-view+json": {
       "model_id": "5b89bf5b03634a93b6d3d26209f363ba",
       "version_major": 2,
       "version_minor": 0
      },
      "text/plain": [
       "Downloading spiece.model:   0%|          | 0.00/1.00M [00:00<?, ?B/s]"
      ]
     },
     "metadata": {},
     "output_type": "display_data"
    },
    {
     "data": {
      "application/vnd.jupyter.widget-view+json": {
       "model_id": "0b3560cc4ab44ee7b241d7fe2d43dcc1",
       "version_major": 2,
       "version_minor": 0
      },
      "text/plain": [
       "Downloading (…)cial_tokens_map.json:   0%|          | 0.00/2.20k [00:00<?, ?B/s]"
      ]
     },
     "metadata": {},
     "output_type": "display_data"
    },
    {
     "name": "stderr",
     "output_type": "stream",
     "text": [
      "You are using the default legacy behaviour of the <class 'transformers.models.t5.tokenization_t5.T5Tokenizer'>. This is expected, and simply means that the `legacy` (previous) behavior will be used so nothing changes for you. If you want to use the new behaviour, set `legacy=False`. This should only be set if you understand what it means, and thouroughly read the reason why this was added as explained in https://github.com/huggingface/transformers/pull/24565\n",
      "Special tokens have been added in the vocabulary, make sure the associated word embeddings are fine-tuned or trained.\n"
     ]
    },
    {
     "data": {
      "application/vnd.jupyter.widget-view+json": {
       "model_id": "275f517db03046abb3f8456796381c6e",
       "version_major": 2,
       "version_minor": 0
      },
      "text/plain": [
       "Downloading config.json:   0%|          | 0.00/1.39k [00:00<?, ?B/s]"
      ]
     },
     "metadata": {},
     "output_type": "display_data"
    },
    {
     "name": "stderr",
     "output_type": "stream",
     "text": [
      "D:\\ProgramData\\anaconda3\\envs\\kaggle\\lib\\site-packages\\transformers\\utils\\generic.py:309: UserWarning: torch.utils._pytree._register_pytree_node is deprecated. Please use torch.utils._pytree.register_pytree_node instead.\n",
      "  _torch_pytree._register_pytree_node(\n",
      "D:\\ProgramData\\anaconda3\\envs\\kaggle\\lib\\site-packages\\transformers\\utils\\generic.py:309: UserWarning: torch.utils._pytree._register_pytree_node is deprecated. Please use torch.utils._pytree.register_pytree_node instead.\n",
      "  _torch_pytree._register_pytree_node(\n"
     ]
    },
    {
     "data": {
      "application/vnd.jupyter.widget-view+json": {
       "model_id": "b882eeeb8aa24ba0bdadbdb4646b796a",
       "version_major": 2,
       "version_minor": 0
      },
      "text/plain": [
       "Downloading pytorch_model.bin:   0%|          | 0.00/892M [00:00<?, ?B/s]"
      ]
     },
     "metadata": {},
     "output_type": "display_data"
    }
   ],
   "source": [
    "# Load model directly\n",
    "from transformers import AutoTokenizer, AutoModelForSeq2SeqLM\n",
    "\n",
    "tokenizer = AutoTokenizer.from_pretrained(\"ai-forever/ruT5-base\")\n",
    "model = AutoModelForSeq2SeqLM.from_pretrained(\"ai-forever/ruT5-base\")"
   ]
  },
  {
   "cell_type": "code",
   "execution_count": 3,
   "id": "ac706dc3-1b1b-4b88-ad83-2d3779fe2ad0",
   "metadata": {},
   "outputs": [
    {
     "name": "stdout",
     "output_type": "stream",
     "text": [
      "Скажи, Вкусные пряники?\n",
      "tensor([[10162,     3,    32,  2578,    66,  4139,   840,    25,     2]])\n",
      "Скажи, Вкусные пряники?</s>\n",
      "\n"
     ]
    },
    {
     "name": "stderr",
     "output_type": "stream",
     "text": [
      "D:\\ProgramData\\anaconda3\\envs\\kaggle\\lib\\site-packages\\transformers\\generation\\utils.py:1273: UserWarning: Using the model-agnostic default `max_length` (=20) to control the generation length. We recommend setting `max_new_tokens` to control the maximum length of the generation.\n",
      "  warnings.warn(\n"
     ]
    },
    {
     "name": "stdout",
     "output_type": "stream",
     "text": [
      "output_ids = tensor([[    0, 32099,     3,     3,     3,     3,     3,     3,     3,     3,\n",
      "             3,     3,     3,     3,     3,     3,     3,     3,     3,     3]])\n",
      ",,,,,,,,,,,,,,,,,,\n"
     ]
    }
   ],
   "source": [
    "input_text = \"Скажи, Вкусные пряники?\"\n",
    "input_ids = tokenizer(\n",
    "    [input_text], \n",
    "    return_tensors=\"pt\",\n",
    "    add_special_tokens=True\n",
    "    \n",
    ").input_ids\n",
    "print(input_text, input_ids, tokenizer.decode(input_ids[0]), sep='\\n', end='\\n\\n')\n",
    "\n",
    "output_ids = model.generate(input_ids)\n",
    "print(f'{output_ids = }')\n",
    "output_text = tokenizer.decode(output_ids[0], skip_special_tokens=True)\n",
    "\n",
    "print(output_text)"
   ]
  },
  {
   "cell_type": "code",
   "execution_count": 34,
   "id": "04c21d48-df33-4d32-bc58-32e755df1e7c",
   "metadata": {},
   "outputs": [
    {
     "name": "stdout",
     "output_type": "stream",
     "text": [
      "Скажи\n",
      ",\n",
      "В\n",
      "кус\n",
      "ные\n",
      "пря\n",
      "ники\n",
      "?\n",
      "</s>\n"
     ]
    }
   ],
   "source": [
    "for el in input_ids[0]:\n",
    "    print(tokenizer.decode(torch.tensor([el])))"
   ]
  },
  {
   "cell_type": "code",
   "execution_count": null,
   "id": "7fdd3dcc-86e6-419d-868d-3a8b1b0108fc",
   "metadata": {},
   "outputs": [],
   "source": []
  }
 ],
 "metadata": {
  "kernelspec": {
   "display_name": "Python 3 (ipykernel)",
   "language": "python",
   "name": "python3"
  },
  "language_info": {
   "codemirror_mode": {
    "name": "ipython",
    "version": 3
   },
   "file_extension": ".py",
   "mimetype": "text/x-python",
   "name": "python",
   "nbconvert_exporter": "python",
   "pygments_lexer": "ipython3",
   "version": "3.9.17"
  }
 },
 "nbformat": 4,
 "nbformat_minor": 5
}
