{
 "cells": [
  {
   "cell_type": "code",
   "execution_count": 17,
   "id": "0789d3c3",
   "metadata": {},
   "outputs": [
    {
     "name": "stdout",
     "output_type": "stream",
     "text": [
      "D:\\Programming\\Research\\Thesis\\repos\\aist-repo\n"
     ]
    }
   ],
   "source": [
    "%cd ../../repos/aist-repo"
   ]
  },
  {
   "cell_type": "code",
   "execution_count": 18,
   "id": "11f14b72",
   "metadata": {},
   "outputs": [
    {
     "name": "stdout",
     "output_type": "stream",
     "text": [
      " ’®¬ ў гбва®©бвўҐ D Ё¬ҐҐв ¬ҐвЄг Ќ®ўл© в®¬\n",
      " ‘ҐаЁ©­л© ­®¬Ґа в®¬ : 4E58-E081\n",
      "\n",
      " ‘®¤Ґа¦Ё¬®Ґ Ї ЇЄЁ D:\\Programming\\Research\\Thesis\\repos\\aist-repo\n",
      "\n",
      "22.01.2024  09:57    <DIR>          .\n",
      "15.01.2024  10:13    <DIR>          ..\n",
      "08.01.2024  17:57    <DIR>          .git\n",
      "08.01.2024  16:31             1я077 README.md\n",
      "12.01.2024  15:54    <DIR>          src\n",
      "08.01.2024  16:32    <DIR>          wiki_persons_data\n",
      "               1 д ©«®ў          1я077 Ў ©в\n",
      "               5 Ї Ї®Є  496я138я801я152 Ў ©в бў®Ў®¤­®\n"
     ]
    }
   ],
   "source": [
    "%ls"
   ]
  },
  {
   "cell_type": "code",
   "execution_count": 19,
   "id": "fba824b4",
   "metadata": {},
   "outputs": [
    {
     "name": "stdout",
     "output_type": "stream",
     "text": [
      "d = 0:\n"
     ]
    },
    {
     "name": "stderr",
     "output_type": "stream",
     "text": [
      "D:\\ProgramData\\anaconda3\\envs\\abae\\lib\\site-packages\\gensim\\utils.py:860: UserWarning: detected Windows; aliasing chunkize to chunkize_serial\n",
      "  warnings.warn(\"detected Windows; aliasing chunkize to chunkize_serial\")\n",
      "Traceback (most recent call last):\n",
      "  File \"D:\\ProgramData\\anaconda3\\envs\\abae\\lib\\runpy.py\", line 193, in _run_module_as_main\n",
      "    \"__main__\", mod_spec)\n",
      "  File \"D:\\ProgramData\\anaconda3\\envs\\abae\\lib\\runpy.py\", line 85, in _run_code\n",
      "    exec(code, run_globals)\n",
      "  File \"D:\\Programming\\Research\\Thesis\\repos\\aist-repo\\src\\main.py\", line 131, in <module>\n",
      "    start_abae(d, 1)\n",
      "  File \"D:\\Programming\\Research\\Thesis\\repos\\aist-repo\\src\\main.py\", line 66, in start_abae\n",
      "    data, plain_texts, topic_idx = reader.read_json_to_flat('abae/embeddings_wiki_abae_spacy_1.json')\n",
      "  File \"D:\\Programming\\Research\\Thesis\\repos\\aist-repo\\src\\data_reader.py\", line 13, in read_json_to_flat\n",
      "    with open(filepath, encoding='utf-8') as json_file:\n",
      "FileNotFoundError: [Errno 2] No such file or directory: 'abae/embeddings_wiki_abae_spacy_1.json'\n"
     ]
    }
   ],
   "source": [
    "!python -m src.main"
   ]
  },
  {
   "cell_type": "code",
   "execution_count": 13,
   "id": "58b4e750",
   "metadata": {},
   "outputs": [
    {
     "name": "stdout",
     "output_type": "stream",
     "text": [
      "Collecting ufal.udpipe\n",
      "  Downloading ufal.udpipe-1.3.1.1-cp36-cp36m-win_amd64.whl (940 kB)\n",
      "Installing collected packages: ufal.udpipe\n",
      "Successfully installed ufal.udpipe-1.3.1.1\n"
     ]
    }
   ],
   "source": [
    "!pip install ufal.udpipe"
   ]
  },
  {
   "cell_type": "code",
   "execution_count": 15,
   "id": "b5fb3c72",
   "metadata": {},
   "outputs": [
    {
     "name": "stderr",
     "output_type": "stream",
     "text": [
      "python: can't open file 'evaluation.py': [Errno 2] No such file or directory\n"
     ]
    }
   ],
   "source": [
    "!python evaluation.py \\\n",
    "--domain restaurant \\\n",
    "--out-dir ../output"
   ]
  },
  {
   "cell_type": "code",
   "execution_count": null,
   "id": "a0a900b9",
   "metadata": {},
   "outputs": [],
   "source": []
  }
 ],
 "metadata": {
  "kernelspec": {
   "display_name": "Python 3",
   "language": "python",
   "name": "python3"
  },
  "language_info": {
   "codemirror_mode": {
    "name": "ipython",
    "version": 3
   },
   "file_extension": ".py",
   "mimetype": "text/x-python",
   "name": "python",
   "nbconvert_exporter": "python",
   "pygments_lexer": "ipython3",
   "version": "3.6.13"
  }
 },
 "nbformat": 4,
 "nbformat_minor": 5
}
