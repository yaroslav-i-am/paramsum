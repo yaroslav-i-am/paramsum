{
 "cells": [
  {
   "cell_type": "code",
   "execution_count": 103,
   "id": "dc7dd88b-4c26-4e36-9ab4-82d5900de173",
   "metadata": {},
   "outputs": [],
   "source": [
    "import pandas as pd\n",
    "pd.set_option('display.max_rows', 1000)\n",
    "\n",
    "import numpy as np\n",
    "\n",
    "import seaborn as sns\n",
    "import matplotlib.pyplot as plt"
   ]
  },
  {
   "cell_type": "code",
   "execution_count": 92,
   "id": "11f1c4d1-56cd-47c7-9c91-44bff77f4933",
   "metadata": {},
   "outputs": [
    {
     "data": {
      "text/html": [
       "<div>\n",
       "<style scoped>\n",
       "    .dataframe tbody tr th:only-of-type {\n",
       "        vertical-align: middle;\n",
       "    }\n",
       "\n",
       "    .dataframe tbody tr th {\n",
       "        vertical-align: top;\n",
       "    }\n",
       "\n",
       "    .dataframe thead th {\n",
       "        text-align: right;\n",
       "    }\n",
       "</style>\n",
       "<table border=\"1\" class=\"dataframe\">\n",
       "  <thead>\n",
       "    <tr style=\"text-align: right;\">\n",
       "      <th></th>\n",
       "      <th>review</th>\n",
       "      <th>aspect</th>\n",
       "      <th>gpt_markup</th>\n",
       "    </tr>\n",
       "  </thead>\n",
       "  <tbody>\n",
       "    <tr>\n",
       "      <th>0</th>\n",
       "      <td>53-ий анимационный фильм студии Дисней получил...</td>\n",
       "      <td>общее мнение о фильме</td>\n",
       "      <td>d7qjvusmfsjmq8hshab2</td>\n",
       "    </tr>\n",
       "    <tr>\n",
       "      <th>1</th>\n",
       "      <td>53-ий анимационный фильм студии Дисней получил...</td>\n",
       "      <td>мнение о режиссёре</td>\n",
       "      <td>d7q5cmu5e2oumqs1790h</td>\n",
       "    </tr>\n",
       "    <tr>\n",
       "      <th>2</th>\n",
       "      <td>53-ий анимационный фильм студии Дисней получил...</td>\n",
       "      <td>описание игры актёров</td>\n",
       "      <td>d7q0e32aj0c1sl3d2om2</td>\n",
       "    </tr>\n",
       "    <tr>\n",
       "      <th>3</th>\n",
       "      <td>53-ий анимационный фильм студии Дисней получил...</td>\n",
       "      <td>описание личности персонажей</td>\n",
       "      <td>d7qc3au3u43r7jb650vo</td>\n",
       "    </tr>\n",
       "    <tr>\n",
       "      <th>4</th>\n",
       "      <td>53-ий анимационный фильм студии Дисней получил...</td>\n",
       "      <td>характеристика внешности персонажей</td>\n",
       "      <td>d7qjlvece6uttl9pc3en</td>\n",
       "    </tr>\n",
       "    <tr>\n",
       "      <th>...</th>\n",
       "      <td>...</td>\n",
       "      <td>...</td>\n",
       "      <td>...</td>\n",
       "    </tr>\n",
       "    <tr>\n",
       "      <th>8977</th>\n",
       "      <td>Когда я впервые увидела, что скоро Киану Ривз ...</td>\n",
       "      <td>характеристика внешности персонажей</td>\n",
       "      <td>d7qoj13fh20q2te36hho</td>\n",
       "    </tr>\n",
       "    <tr>\n",
       "      <th>8978</th>\n",
       "      <td>Когда я впервые увидела, что скоро Киану Ривз ...</td>\n",
       "      <td>описание эмоций от просмотра фильма</td>\n",
       "      <td>d7qf8kb2d74ggflff4eq</td>\n",
       "    </tr>\n",
       "    <tr>\n",
       "      <th>8979</th>\n",
       "      <td>Когда я впервые увидела, что скоро Киану Ривз ...</td>\n",
       "      <td>описание декораций и графики</td>\n",
       "      <td>d7qdo67hkr5len0f12t6</td>\n",
       "    </tr>\n",
       "    <tr>\n",
       "      <th>8980</th>\n",
       "      <td>Когда я впервые увидела, что скоро Киану Ривз ...</td>\n",
       "      <td>философские рассуждения</td>\n",
       "      <td>d7q2ukh8aic1mturnfk5</td>\n",
       "    </tr>\n",
       "    <tr>\n",
       "      <th>8981</th>\n",
       "      <td>Когда я впервые увидела, что скоро Киану Ривз ...</td>\n",
       "      <td>мнение о музыке в фильме</td>\n",
       "      <td>d7q1qqjng1ici7u7n1cl</td>\n",
       "    </tr>\n",
       "  </tbody>\n",
       "</table>\n",
       "<p>8982 rows × 3 columns</p>\n",
       "</div>"
      ],
      "text/plain": [
       "                                                 review  \\\n",
       "0     53-ий анимационный фильм студии Дисней получил...   \n",
       "1     53-ий анимационный фильм студии Дисней получил...   \n",
       "2     53-ий анимационный фильм студии Дисней получил...   \n",
       "3     53-ий анимационный фильм студии Дисней получил...   \n",
       "4     53-ий анимационный фильм студии Дисней получил...   \n",
       "...                                                 ...   \n",
       "8977  Когда я впервые увидела, что скоро Киану Ривз ...   \n",
       "8978  Когда я впервые увидела, что скоро Киану Ривз ...   \n",
       "8979  Когда я впервые увидела, что скоро Киану Ривз ...   \n",
       "8980  Когда я впервые увидела, что скоро Киану Ривз ...   \n",
       "8981  Когда я впервые увидела, что скоро Киану Ривз ...   \n",
       "\n",
       "                                   aspect            gpt_markup  \n",
       "0                   общее мнение о фильме  d7qjvusmfsjmq8hshab2  \n",
       "1                      мнение о режиссёре  d7q5cmu5e2oumqs1790h  \n",
       "2                   описание игры актёров  d7q0e32aj0c1sl3d2om2  \n",
       "3            описание личности персонажей  d7qc3au3u43r7jb650vo  \n",
       "4     характеристика внешности персонажей  d7qjlvece6uttl9pc3en  \n",
       "...                                   ...                   ...  \n",
       "8977  характеристика внешности персонажей  d7qoj13fh20q2te36hho  \n",
       "8978  описание эмоций от просмотра фильма  d7qf8kb2d74ggflff4eq  \n",
       "8979         описание декораций и графики  d7qdo67hkr5len0f12t6  \n",
       "8980              философские рассуждения  d7q2ukh8aic1mturnfk5  \n",
       "8981             мнение о музыке в фильме  d7q1qqjng1ici7u7n1cl  \n",
       "\n",
       "[8982 rows x 3 columns]"
      ]
     },
     "execution_count": 92,
     "metadata": {},
     "output_type": "execute_result"
    }
   ],
   "source": [
    "part_out = pd.read_csv('../data/part_out_markup.csv')\n",
    "part_out"
   ]
  },
  {
   "cell_type": "code",
   "execution_count": 94,
   "id": "9b945674-1f68-49e9-8356-4e0db73518af",
   "metadata": {},
   "outputs": [
    {
     "data": {
      "text/html": [
       "<div>\n",
       "<style scoped>\n",
       "    .dataframe tbody tr th:only-of-type {\n",
       "        vertical-align: middle;\n",
       "    }\n",
       "\n",
       "    .dataframe tbody tr th {\n",
       "        vertical-align: top;\n",
       "    }\n",
       "\n",
       "    .dataframe thead th {\n",
       "        text-align: right;\n",
       "    }\n",
       "</style>\n",
       "<table border=\"1\" class=\"dataframe\">\n",
       "  <thead>\n",
       "    <tr style=\"text-align: right;\">\n",
       "      <th></th>\n",
       "      <th>review</th>\n",
       "      <th>aspect</th>\n",
       "      <th>gpt_markup</th>\n",
       "    </tr>\n",
       "  </thead>\n",
       "  <tbody>\n",
       "    <tr>\n",
       "      <th>0</th>\n",
       "      <td>53-ий анимационный фильм студии Дисней получил...</td>\n",
       "      <td>общее мнение о фильме</td>\n",
       "      <td>* Время проходит так быстро, а хочется ещё.\\n*...</td>\n",
       "    </tr>\n",
       "    <tr>\n",
       "      <th>1</th>\n",
       "      <td>53-ий анимационный фильм студии Дисней получил...</td>\n",
       "      <td>мнение о режиссёре</td>\n",
       "      <td>* Режиссёрам</td>\n",
       "    </tr>\n",
       "    <tr>\n",
       "      <th>2</th>\n",
       "      <td>53-ий анимационный фильм студии Дисней получил...</td>\n",
       "      <td>описание игры актёров</td>\n",
       "      <td>NaN</td>\n",
       "    </tr>\n",
       "    <tr>\n",
       "      <th>3</th>\n",
       "      <td>53-ий анимационный фильм студии Дисней получил...</td>\n",
       "      <td>описание личности персонажей</td>\n",
       "      <td>* В обеих героинях наблюдаются ум, отвага, спо...</td>\n",
       "    </tr>\n",
       "    <tr>\n",
       "      <th>4</th>\n",
       "      <td>53-ий анимационный фильм студии Дисней получил...</td>\n",
       "      <td>характеристика внешности персонажей</td>\n",
       "      <td>NaN</td>\n",
       "    </tr>\n",
       "    <tr>\n",
       "      <th>...</th>\n",
       "      <td>...</td>\n",
       "      <td>...</td>\n",
       "      <td>...</td>\n",
       "    </tr>\n",
       "    <tr>\n",
       "      <th>8977</th>\n",
       "      <td>Когда я впервые увидела, что скоро Киану Ривз ...</td>\n",
       "      <td>характеристика внешности персонажей</td>\n",
       "      <td>NaN</td>\n",
       "    </tr>\n",
       "    <tr>\n",
       "      <th>8978</th>\n",
       "      <td>Когда я впервые увидела, что скоро Киану Ривз ...</td>\n",
       "      <td>описание эмоций от просмотра фильма</td>\n",
       "      <td>NaN</td>\n",
       "    </tr>\n",
       "    <tr>\n",
       "      <th>8979</th>\n",
       "      <td>Когда я впервые увидела, что скоро Киану Ривз ...</td>\n",
       "      <td>описание декораций и графики</td>\n",
       "      <td>NaN</td>\n",
       "    </tr>\n",
       "    <tr>\n",
       "      <th>8980</th>\n",
       "      <td>Когда я впервые увидела, что скоро Киану Ривз ...</td>\n",
       "      <td>философские рассуждения</td>\n",
       "      <td>NaN</td>\n",
       "    </tr>\n",
       "    <tr>\n",
       "      <th>8981</th>\n",
       "      <td>Когда я впервые увидела, что скоро Киану Ривз ...</td>\n",
       "      <td>мнение о музыке в фильме</td>\n",
       "      <td>* Ну и самым лучшим в данном фильме был саундт...</td>\n",
       "    </tr>\n",
       "  </tbody>\n",
       "</table>\n",
       "<p>8982 rows × 3 columns</p>\n",
       "</div>"
      ],
      "text/plain": [
       "                                                 review  \\\n",
       "0     53-ий анимационный фильм студии Дисней получил...   \n",
       "1     53-ий анимационный фильм студии Дисней получил...   \n",
       "2     53-ий анимационный фильм студии Дисней получил...   \n",
       "3     53-ий анимационный фильм студии Дисней получил...   \n",
       "4     53-ий анимационный фильм студии Дисней получил...   \n",
       "...                                                 ...   \n",
       "8977  Когда я впервые увидела, что скоро Киану Ривз ...   \n",
       "8978  Когда я впервые увидела, что скоро Киану Ривз ...   \n",
       "8979  Когда я впервые увидела, что скоро Киану Ривз ...   \n",
       "8980  Когда я впервые увидела, что скоро Киану Ривз ...   \n",
       "8981  Когда я впервые увидела, что скоро Киану Ривз ...   \n",
       "\n",
       "                                   aspect  \\\n",
       "0                   общее мнение о фильме   \n",
       "1                      мнение о режиссёре   \n",
       "2                   описание игры актёров   \n",
       "3            описание личности персонажей   \n",
       "4     характеристика внешности персонажей   \n",
       "...                                   ...   \n",
       "8977  характеристика внешности персонажей   \n",
       "8978  описание эмоций от просмотра фильма   \n",
       "8979         описание декораций и графики   \n",
       "8980              философские рассуждения   \n",
       "8981             мнение о музыке в фильме   \n",
       "\n",
       "                                             gpt_markup  \n",
       "0     * Время проходит так быстро, а хочется ещё.\\n*...  \n",
       "1                                          * Режиссёрам  \n",
       "2                                                   NaN  \n",
       "3     * В обеих героинях наблюдаются ум, отвага, спо...  \n",
       "4                                                   NaN  \n",
       "...                                                 ...  \n",
       "8977                                                NaN  \n",
       "8978                                                NaN  \n",
       "8979                                                NaN  \n",
       "8980                                                NaN  \n",
       "8981  * Ну и самым лучшим в данном фильме был саундт...  \n",
       "\n",
       "[8982 rows x 3 columns]"
      ]
     },
     "execution_count": 94,
     "metadata": {},
     "output_type": "execute_result"
    }
   ],
   "source": [
    "out = pd.read_csv('../data/out_markup.csv')\n",
    "out"
   ]
  },
  {
   "cell_type": "code",
   "execution_count": 63,
   "id": "bc890113-747e-4ca6-9aa5-68396e5d7303",
   "metadata": {},
   "outputs": [
    {
     "data": {
      "text/plain": [
       "199    d7qls7k9usig4nga6vm7\n",
       "Name: gpt_markup, dtype: object"
      ]
     },
     "execution_count": 63,
     "metadata": {},
     "output_type": "execute_result"
    }
   ],
   "source": [
    "out['gpt_markup'][out['gpt_markup'].str.contains('d7q').fillna(False)]"
   ]
  },
  {
   "cell_type": "code",
   "execution_count": 124,
   "id": "929f30ad-86e6-4a1a-a87d-ef02c35b83cb",
   "metadata": {},
   "outputs": [
    {
     "data": {
      "text/html": [
       "<div>\n",
       "<style scoped>\n",
       "    .dataframe tbody tr th:only-of-type {\n",
       "        vertical-align: middle;\n",
       "    }\n",
       "\n",
       "    .dataframe tbody tr th {\n",
       "        vertical-align: top;\n",
       "    }\n",
       "\n",
       "    .dataframe thead th {\n",
       "        text-align: right;\n",
       "    }\n",
       "</style>\n",
       "<table border=\"1\" class=\"dataframe\">\n",
       "  <thead>\n",
       "    <tr style=\"text-align: right;\">\n",
       "      <th></th>\n",
       "      <th>review</th>\n",
       "      <th>aspect</th>\n",
       "      <th>gpt_markup</th>\n",
       "      <th>gpt_markup_preprocessed</th>\n",
       "    </tr>\n",
       "  </thead>\n",
       "  <tbody>\n",
       "    <tr>\n",
       "      <th>0</th>\n",
       "      <td>53-ий анимационный фильм студии Дисней получил...</td>\n",
       "      <td>общее мнение о фильме</td>\n",
       "      <td>* Время проходит так быстро, а хочется ещё.\\n*...</td>\n",
       "      <td>['Время проходит так быстро, а хочется ещё.', ...</td>\n",
       "    </tr>\n",
       "    <tr>\n",
       "      <th>1</th>\n",
       "      <td>53-ий анимационный фильм студии Дисней получил...</td>\n",
       "      <td>описание игры актёров</td>\n",
       "      <td>NaN</td>\n",
       "      <td>['-']</td>\n",
       "    </tr>\n",
       "    <tr>\n",
       "      <th>2</th>\n",
       "      <td>53-ий анимационный фильм студии Дисней получил...</td>\n",
       "      <td>описание личности персонажей</td>\n",
       "      <td>* В обеих героинях наблюдаются ум, отвага, спо...</td>\n",
       "      <td>['В обеих героинях наблюдаются ум, отвага, спо...</td>\n",
       "    </tr>\n",
       "    <tr>\n",
       "      <th>3</th>\n",
       "      <td>53-ий анимационный фильм студии Дисней получил...</td>\n",
       "      <td>характеристика внешности персонажей</td>\n",
       "      <td>NaN</td>\n",
       "      <td>['-']</td>\n",
       "    </tr>\n",
       "    <tr>\n",
       "      <th>4</th>\n",
       "      <td>53-ий анимационный фильм студии Дисней получил...</td>\n",
       "      <td>описание эмоций от просмотра фильма</td>\n",
       "      <td>NaN</td>\n",
       "      <td>['-']</td>\n",
       "    </tr>\n",
       "    <tr>\n",
       "      <th>...</th>\n",
       "      <td>...</td>\n",
       "      <td>...</td>\n",
       "      <td>...</td>\n",
       "      <td>...</td>\n",
       "    </tr>\n",
       "    <tr>\n",
       "      <th>8470</th>\n",
       "      <td>Когда я впервые увидела, что скоро Киану Ривз ...</td>\n",
       "      <td>характеристика внешности персонажей</td>\n",
       "      <td>NaN</td>\n",
       "      <td>['-']</td>\n",
       "    </tr>\n",
       "    <tr>\n",
       "      <th>8471</th>\n",
       "      <td>Когда я впервые увидела, что скоро Киану Ривз ...</td>\n",
       "      <td>описание эмоций от просмотра фильма</td>\n",
       "      <td>NaN</td>\n",
       "      <td>['-']</td>\n",
       "    </tr>\n",
       "    <tr>\n",
       "      <th>8472</th>\n",
       "      <td>Когда я впервые увидела, что скоро Киану Ривз ...</td>\n",
       "      <td>описание декораций и графики</td>\n",
       "      <td>NaN</td>\n",
       "      <td>['-']</td>\n",
       "    </tr>\n",
       "    <tr>\n",
       "      <th>8473</th>\n",
       "      <td>Когда я впервые увидела, что скоро Киану Ривз ...</td>\n",
       "      <td>философские рассуждения</td>\n",
       "      <td>NaN</td>\n",
       "      <td>['-']</td>\n",
       "    </tr>\n",
       "    <tr>\n",
       "      <th>8474</th>\n",
       "      <td>Когда я впервые увидела, что скоро Киану Ривз ...</td>\n",
       "      <td>мнение о музыке в фильме</td>\n",
       "      <td>* Ну и самым лучшим в данном фильме был саундт...</td>\n",
       "      <td>['Ну и самым лучшим в данном фильме был саундт...</td>\n",
       "    </tr>\n",
       "  </tbody>\n",
       "</table>\n",
       "<p>8475 rows × 4 columns</p>\n",
       "</div>"
      ],
      "text/plain": [
       "                                                 review  \\\n",
       "0     53-ий анимационный фильм студии Дисней получил...   \n",
       "1     53-ий анимационный фильм студии Дисней получил...   \n",
       "2     53-ий анимационный фильм студии Дисней получил...   \n",
       "3     53-ий анимационный фильм студии Дисней получил...   \n",
       "4     53-ий анимационный фильм студии Дисней получил...   \n",
       "...                                                 ...   \n",
       "8470  Когда я впервые увидела, что скоро Киану Ривз ...   \n",
       "8471  Когда я впервые увидела, что скоро Киану Ривз ...   \n",
       "8472  Когда я впервые увидела, что скоро Киану Ривз ...   \n",
       "8473  Когда я впервые увидела, что скоро Киану Ривз ...   \n",
       "8474  Когда я впервые увидела, что скоро Киану Ривз ...   \n",
       "\n",
       "                                   aspect  \\\n",
       "0                   общее мнение о фильме   \n",
       "1                   описание игры актёров   \n",
       "2            описание личности персонажей   \n",
       "3     характеристика внешности персонажей   \n",
       "4     описание эмоций от просмотра фильма   \n",
       "...                                   ...   \n",
       "8470  характеристика внешности персонажей   \n",
       "8471  описание эмоций от просмотра фильма   \n",
       "8472         описание декораций и графики   \n",
       "8473              философские рассуждения   \n",
       "8474             мнение о музыке в фильме   \n",
       "\n",
       "                                             gpt_markup  \\\n",
       "0     * Время проходит так быстро, а хочется ещё.\\n*...   \n",
       "1                                                   NaN   \n",
       "2     * В обеих героинях наблюдаются ум, отвага, спо...   \n",
       "3                                                   NaN   \n",
       "4                                                   NaN   \n",
       "...                                                 ...   \n",
       "8470                                                NaN   \n",
       "8471                                                NaN   \n",
       "8472                                                NaN   \n",
       "8473                                                NaN   \n",
       "8474  * Ну и самым лучшим в данном фильме был саундт...   \n",
       "\n",
       "                                gpt_markup_preprocessed  \n",
       "0     ['Время проходит так быстро, а хочется ещё.', ...  \n",
       "1                                                 ['-']  \n",
       "2     ['В обеих героинях наблюдаются ум, отвага, спо...  \n",
       "3                                                 ['-']  \n",
       "4                                                 ['-']  \n",
       "...                                                 ...  \n",
       "8470                                              ['-']  \n",
       "8471                                              ['-']  \n",
       "8472                                              ['-']  \n",
       "8473                                              ['-']  \n",
       "8474  ['Ну и самым лучшим в данном фильме был саундт...  \n",
       "\n",
       "[8475 rows x 4 columns]"
      ]
     },
     "execution_count": 124,
     "metadata": {},
     "output_type": "execute_result"
    }
   ],
   "source": [
    "preprocessed_out = pd.read_csv('../data/preprocessed_out_markup.csv')\n",
    "preprocessed_out"
   ]
  },
  {
   "cell_type": "code",
   "execution_count": 96,
   "id": "690bd5ad-c35e-4d04-b1a0-bf33a2d3d9c9",
   "metadata": {},
   "outputs": [
    {
     "data": {
      "text/plain": [
       "295"
      ]
     },
     "execution_count": 96,
     "metadata": {},
     "output_type": "execute_result"
    }
   ],
   "source": [
    "(preprocessed_out['gpt_markup_preprocessed'] == \"['<SOME_ASPECT>']\").sum()"
   ]
  },
  {
   "cell_type": "code",
   "execution_count": 106,
   "id": "fe521c86-def1-4583-a235-a169849bb889",
   "metadata": {},
   "outputs": [
    {
     "name": "stderr",
     "output_type": "stream",
     "text": [
      "D:\\ProgramData\\anaconda3\\envs\\kaggle\\lib\\site-packages\\seaborn\\_oldcore.py:1498: FutureWarning: is_categorical_dtype is deprecated and will be removed in a future version. Use isinstance(dtype, CategoricalDtype) instead\n",
      "  if pd.api.types.is_categorical_dtype(vector):\n",
      "D:\\ProgramData\\anaconda3\\envs\\kaggle\\lib\\site-packages\\seaborn\\_oldcore.py:1498: FutureWarning: is_categorical_dtype is deprecated and will be removed in a future version. Use isinstance(dtype, CategoricalDtype) instead\n",
      "  if pd.api.types.is_categorical_dtype(vector):\n",
      "D:\\ProgramData\\anaconda3\\envs\\kaggle\\lib\\site-packages\\seaborn\\_oldcore.py:1119: FutureWarning: use_inf_as_na option is deprecated and will be removed in a future version. Convert inf values to NaN before operating instead.\n",
      "  with pd.option_context('mode.use_inf_as_na', True):\n",
      "D:\\ProgramData\\anaconda3\\envs\\kaggle\\lib\\site-packages\\seaborn\\axisgrid.py:118: UserWarning: The figure layout has changed to tight\n",
      "  self._figure.tight_layout(*args, **kwargs)\n"
     ]
    },
    {
     "data": {
      "image/png": "[encoded data removed]",
      "text/plain": [
       "<Figure size 500x500 with 1 Axes>"
      ]
     },
     "metadata": {},
     "output_type": "display_data"
    }
   ],
   "source": [
    "g = sns.displot(\n",
    "    preprocessed_out['aspect'][preprocessed_out['gpt_markup_preprocessed'] == \"['<SOME_ASPECT>']\"].str.capitalize()\n",
    ").set_xticklabels(rotation=45, horizontalalignment='right')\n",
    "plt.xlabel('Aspect title')\n",
    "plt.title('Number of failed summaries per aspect')\n",
    "\n",
    "plt.savefig('../data/Number of failed summaries per aspect.png', bbox_inches='tight', dpi=400)"
   ]
  },
  {
   "cell_type": "code",
   "execution_count": 110,
   "id": "fdbfe20c-868b-429e-bce8-c151830ce2e4",
   "metadata": {},
   "outputs": [
    {
     "data": {
      "text/html": [
       "<div>\n",
       "<style scoped>\n",
       "    .dataframe tbody tr th:only-of-type {\n",
       "        vertical-align: middle;\n",
       "    }\n",
       "\n",
       "    .dataframe tbody tr th {\n",
       "        vertical-align: top;\n",
       "    }\n",
       "\n",
       "    .dataframe thead th {\n",
       "        text-align: right;\n",
       "    }\n",
       "</style>\n",
       "<table border=\"1\" class=\"dataframe\">\n",
       "  <thead>\n",
       "    <tr style=\"text-align: right;\">\n",
       "      <th></th>\n",
       "      <th>review</th>\n",
       "      <th>aspect</th>\n",
       "      <th>gpt_markup</th>\n",
       "      <th>gpt_markup_preprocessed</th>\n",
       "    </tr>\n",
       "  </thead>\n",
       "  <tbody>\n",
       "    <tr>\n",
       "      <th>0</th>\n",
       "      <td>53-ий анимационный фильм студии Дисней получил...</td>\n",
       "      <td>общее мнение о фильме</td>\n",
       "      <td>* Время проходит так быстро, а хочется ещё.\\n*...</td>\n",
       "      <td>['Время проходит так быстро, а хочется ещё.', ...</td>\n",
       "    </tr>\n",
       "    <tr>\n",
       "      <th>1</th>\n",
       "      <td>53-ий анимационный фильм студии Дисней получил...</td>\n",
       "      <td>описание игры актёров</td>\n",
       "      <td>NaN</td>\n",
       "      <td>['-']</td>\n",
       "    </tr>\n",
       "    <tr>\n",
       "      <th>2</th>\n",
       "      <td>53-ий анимационный фильм студии Дисней получил...</td>\n",
       "      <td>описание личности персонажей</td>\n",
       "      <td>* В обеих героинях наблюдаются ум, отвага, спо...</td>\n",
       "      <td>['В обеих героинях наблюдаются ум, отвага, спо...</td>\n",
       "    </tr>\n",
       "    <tr>\n",
       "      <th>3</th>\n",
       "      <td>53-ий анимационный фильм студии Дисней получил...</td>\n",
       "      <td>характеристика внешности персонажей</td>\n",
       "      <td>NaN</td>\n",
       "      <td>['-']</td>\n",
       "    </tr>\n",
       "    <tr>\n",
       "      <th>4</th>\n",
       "      <td>53-ий анимационный фильм студии Дисней получил...</td>\n",
       "      <td>описание эмоций от просмотра фильма</td>\n",
       "      <td>NaN</td>\n",
       "      <td>['-']</td>\n",
       "    </tr>\n",
       "    <tr>\n",
       "      <th>...</th>\n",
       "      <td>...</td>\n",
       "      <td>...</td>\n",
       "      <td>...</td>\n",
       "      <td>...</td>\n",
       "    </tr>\n",
       "    <tr>\n",
       "      <th>8470</th>\n",
       "      <td>Когда я впервые увидела, что скоро Киану Ривз ...</td>\n",
       "      <td>характеристика внешности персонажей</td>\n",
       "      <td>NaN</td>\n",
       "      <td>['-']</td>\n",
       "    </tr>\n",
       "    <tr>\n",
       "      <th>8471</th>\n",
       "      <td>Когда я впервые увидела, что скоро Киану Ривз ...</td>\n",
       "      <td>описание эмоций от просмотра фильма</td>\n",
       "      <td>NaN</td>\n",
       "      <td>['-']</td>\n",
       "    </tr>\n",
       "    <tr>\n",
       "      <th>8472</th>\n",
       "      <td>Когда я впервые увидела, что скоро Киану Ривз ...</td>\n",
       "      <td>описание декораций и графики</td>\n",
       "      <td>NaN</td>\n",
       "      <td>['-']</td>\n",
       "    </tr>\n",
       "    <tr>\n",
       "      <th>8473</th>\n",
       "      <td>Когда я впервые увидела, что скоро Киану Ривз ...</td>\n",
       "      <td>философские рассуждения</td>\n",
       "      <td>NaN</td>\n",
       "      <td>['-']</td>\n",
       "    </tr>\n",
       "    <tr>\n",
       "      <th>8474</th>\n",
       "      <td>Когда я впервые увидела, что скоро Киану Ривз ...</td>\n",
       "      <td>мнение о музыке в фильме</td>\n",
       "      <td>* Ну и самым лучшим в данном фильме был саундт...</td>\n",
       "      <td>['Ну и самым лучшим в данном фильме был саундт...</td>\n",
       "    </tr>\n",
       "  </tbody>\n",
       "</table>\n",
       "<p>8475 rows × 4 columns</p>\n",
       "</div>"
      ],
      "text/plain": [
       "                                                 review  \\\n",
       "0     53-ий анимационный фильм студии Дисней получил...   \n",
       "1     53-ий анимационный фильм студии Дисней получил...   \n",
       "2     53-ий анимационный фильм студии Дисней получил...   \n",
       "3     53-ий анимационный фильм студии Дисней получил...   \n",
       "4     53-ий анимационный фильм студии Дисней получил...   \n",
       "...                                                 ...   \n",
       "8470  Когда я впервые увидела, что скоро Киану Ривз ...   \n",
       "8471  Когда я впервые увидела, что скоро Киану Ривз ...   \n",
       "8472  Когда я впервые увидела, что скоро Киану Ривз ...   \n",
       "8473  Когда я впервые увидела, что скоро Киану Ривз ...   \n",
       "8474  Когда я впервые увидела, что скоро Киану Ривз ...   \n",
       "\n",
       "                                   aspect  \\\n",
       "0                   общее мнение о фильме   \n",
       "1                   описание игры актёров   \n",
       "2            описание личности персонажей   \n",
       "3     характеристика внешности персонажей   \n",
       "4     описание эмоций от просмотра фильма   \n",
       "...                                   ...   \n",
       "8470  характеристика внешности персонажей   \n",
       "8471  описание эмоций от просмотра фильма   \n",
       "8472         описание декораций и графики   \n",
       "8473              философские рассуждения   \n",
       "8474             мнение о музыке в фильме   \n",
       "\n",
       "                                             gpt_markup  \\\n",
       "0     * Время проходит так быстро, а хочется ещё.\\n*...   \n",
       "1                                                   NaN   \n",
       "2     * В обеих героинях наблюдаются ум, отвага, спо...   \n",
       "3                                                   NaN   \n",
       "4                                                   NaN   \n",
       "...                                                 ...   \n",
       "8470                                                NaN   \n",
       "8471                                                NaN   \n",
       "8472                                                NaN   \n",
       "8473                                                NaN   \n",
       "8474  * Ну и самым лучшим в данном фильме был саундт...   \n",
       "\n",
       "                                gpt_markup_preprocessed  \n",
       "0     ['Время проходит так быстро, а хочется ещё.', ...  \n",
       "1                                                 ['-']  \n",
       "2     ['В обеих героинях наблюдаются ум, отвага, спо...  \n",
       "3                                                 ['-']  \n",
       "4                                                 ['-']  \n",
       "...                                                 ...  \n",
       "8470                                              ['-']  \n",
       "8471                                              ['-']  \n",
       "8472                                              ['-']  \n",
       "8473                                              ['-']  \n",
       "8474  ['Ну и самым лучшим в данном фильме был саундт...  \n",
       "\n",
       "[8475 rows x 4 columns]"
      ]
     },
     "execution_count": 110,
     "metadata": {},
     "output_type": "execute_result"
    }
   ],
   "source": [
    "preprocessed_out = pd.read_csv('../data/preprocessed_out_markup.csv')\n",
    "preprocessed_out"
   ]
  },
  {
   "cell_type": "code",
   "execution_count": 111,
   "id": "f2d63e5f-5d16-4d03-80e2-28a632ff796a",
   "metadata": {},
   "outputs": [
    {
     "data": {
      "text/plain": [
       "0"
      ]
     },
     "execution_count": 111,
     "metadata": {},
     "output_type": "execute_result"
    }
   ],
   "source": [
    "(preprocessed_out['gpt_markup_preprocessed'] == \"['<SOME_ASPECT>']\").sum()"
   ]
  },
  {
   "cell_type": "code",
   "execution_count": 125,
   "id": "c0521db8-84ee-4517-bbc6-2786a56984e4",
   "metadata": {},
   "outputs": [
    {
     "data": {
      "text/html": [
       "<div>\n",
       "<style scoped>\n",
       "    .dataframe tbody tr th:only-of-type {\n",
       "        vertical-align: middle;\n",
       "    }\n",
       "\n",
       "    .dataframe tbody tr th {\n",
       "        vertical-align: top;\n",
       "    }\n",
       "\n",
       "    .dataframe thead th {\n",
       "        text-align: right;\n",
       "    }\n",
       "</style>\n",
       "<table border=\"1\" class=\"dataframe\">\n",
       "  <thead>\n",
       "    <tr style=\"text-align: right;\">\n",
       "      <th></th>\n",
       "      <th>review</th>\n",
       "      <th>aspect</th>\n",
       "      <th>gpt_markup</th>\n",
       "      <th>gpt_markup_preprocessed</th>\n",
       "    </tr>\n",
       "  </thead>\n",
       "  <tbody>\n",
       "    <tr>\n",
       "      <th>0</th>\n",
       "      <td>53-ий анимационный фильм студии Дисней получил...</td>\n",
       "      <td>общее мнение о фильме</td>\n",
       "      <td>* Время проходит так быстро, а хочется ещё.\\n*...</td>\n",
       "      <td>['Время проходит так быстро, а хочется ещё.', ...</td>\n",
       "    </tr>\n",
       "    <tr>\n",
       "      <th>1</th>\n",
       "      <td>53-ий анимационный фильм студии Дисней получил...</td>\n",
       "      <td>описание игры актёров</td>\n",
       "      <td>NaN</td>\n",
       "      <td>['-']</td>\n",
       "    </tr>\n",
       "    <tr>\n",
       "      <th>2</th>\n",
       "      <td>53-ий анимационный фильм студии Дисней получил...</td>\n",
       "      <td>описание личности персонажей</td>\n",
       "      <td>* В обеих героинях наблюдаются ум, отвага, спо...</td>\n",
       "      <td>['В обеих героинях наблюдаются ум, отвага, спо...</td>\n",
       "    </tr>\n",
       "    <tr>\n",
       "      <th>3</th>\n",
       "      <td>53-ий анимационный фильм студии Дисней получил...</td>\n",
       "      <td>характеристика внешности персонажей</td>\n",
       "      <td>NaN</td>\n",
       "      <td>['-']</td>\n",
       "    </tr>\n",
       "    <tr>\n",
       "      <th>4</th>\n",
       "      <td>53-ий анимационный фильм студии Дисней получил...</td>\n",
       "      <td>описание эмоций от просмотра фильма</td>\n",
       "      <td>NaN</td>\n",
       "      <td>['-']</td>\n",
       "    </tr>\n",
       "    <tr>\n",
       "      <th>...</th>\n",
       "      <td>...</td>\n",
       "      <td>...</td>\n",
       "      <td>...</td>\n",
       "      <td>...</td>\n",
       "    </tr>\n",
       "    <tr>\n",
       "      <th>8470</th>\n",
       "      <td>Когда я впервые увидела, что скоро Киану Ривз ...</td>\n",
       "      <td>характеристика внешности персонажей</td>\n",
       "      <td>NaN</td>\n",
       "      <td>['-']</td>\n",
       "    </tr>\n",
       "    <tr>\n",
       "      <th>8471</th>\n",
       "      <td>Когда я впервые увидела, что скоро Киану Ривз ...</td>\n",
       "      <td>описание эмоций от просмотра фильма</td>\n",
       "      <td>NaN</td>\n",
       "      <td>['-']</td>\n",
       "    </tr>\n",
       "    <tr>\n",
       "      <th>8472</th>\n",
       "      <td>Когда я впервые увидела, что скоро Киану Ривз ...</td>\n",
       "      <td>описание декораций и графики</td>\n",
       "      <td>NaN</td>\n",
       "      <td>['-']</td>\n",
       "    </tr>\n",
       "    <tr>\n",
       "      <th>8473</th>\n",
       "      <td>Когда я впервые увидела, что скоро Киану Ривз ...</td>\n",
       "      <td>философские рассуждения</td>\n",
       "      <td>NaN</td>\n",
       "      <td>['-']</td>\n",
       "    </tr>\n",
       "    <tr>\n",
       "      <th>8474</th>\n",
       "      <td>Когда я впервые увидела, что скоро Киану Ривз ...</td>\n",
       "      <td>мнение о музыке в фильме</td>\n",
       "      <td>* Ну и самым лучшим в данном фильме был саундт...</td>\n",
       "      <td>['Ну и самым лучшим в данном фильме был саундт...</td>\n",
       "    </tr>\n",
       "  </tbody>\n",
       "</table>\n",
       "<p>8475 rows × 4 columns</p>\n",
       "</div>"
      ],
      "text/plain": [
       "                                                 review  \\\n",
       "0     53-ий анимационный фильм студии Дисней получил...   \n",
       "1     53-ий анимационный фильм студии Дисней получил...   \n",
       "2     53-ий анимационный фильм студии Дисней получил...   \n",
       "3     53-ий анимационный фильм студии Дисней получил...   \n",
       "4     53-ий анимационный фильм студии Дисней получил...   \n",
       "...                                                 ...   \n",
       "8470  Когда я впервые увидела, что скоро Киану Ривз ...   \n",
       "8471  Когда я впервые увидела, что скоро Киану Ривз ...   \n",
       "8472  Когда я впервые увидела, что скоро Киану Ривз ...   \n",
       "8473  Когда я впервые увидела, что скоро Киану Ривз ...   \n",
       "8474  Когда я впервые увидела, что скоро Киану Ривз ...   \n",
       "\n",
       "                                   aspect  \\\n",
       "0                   общее мнение о фильме   \n",
       "1                   описание игры актёров   \n",
       "2            описание личности персонажей   \n",
       "3     характеристика внешности персонажей   \n",
       "4     описание эмоций от просмотра фильма   \n",
       "...                                   ...   \n",
       "8470  характеристика внешности персонажей   \n",
       "8471  описание эмоций от просмотра фильма   \n",
       "8472         описание декораций и графики   \n",
       "8473              философские рассуждения   \n",
       "8474             мнение о музыке в фильме   \n",
       "\n",
       "                                             gpt_markup  \\\n",
       "0     * Время проходит так быстро, а хочется ещё.\\n*...   \n",
       "1                                                   NaN   \n",
       "2     * В обеих героинях наблюдаются ум, отвага, спо...   \n",
       "3                                                   NaN   \n",
       "4                                                   NaN   \n",
       "...                                                 ...   \n",
       "8470                                                NaN   \n",
       "8471                                                NaN   \n",
       "8472                                                NaN   \n",
       "8473                                                NaN   \n",
       "8474  * Ну и самым лучшим в данном фильме был саундт...   \n",
       "\n",
       "                                gpt_markup_preprocessed  \n",
       "0     ['Время проходит так быстро, а хочется ещё.', ...  \n",
       "1                                                 ['-']  \n",
       "2     ['В обеих героинях наблюдаются ум, отвага, спо...  \n",
       "3                                                 ['-']  \n",
       "4                                                 ['-']  \n",
       "...                                                 ...  \n",
       "8470                                              ['-']  \n",
       "8471                                              ['-']  \n",
       "8472                                              ['-']  \n",
       "8473                                              ['-']  \n",
       "8474  ['Ну и самым лучшим в данном фильме был саундт...  \n",
       "\n",
       "[8475 rows x 4 columns]"
      ]
     },
     "execution_count": 125,
     "metadata": {},
     "output_type": "execute_result"
    }
   ],
   "source": [
    "preprocessed_out = pd.read_csv('../data/preprocessed_out_markup.csv')\n",
    "preprocessed_out"
   ]
  },
  {
   "cell_type": "code",
   "execution_count": 133,
   "id": "11a0e214-79ed-47a7-ba7f-938fa2783466",
   "metadata": {},
   "outputs": [
    {
     "data": {
      "text/html": [
       "<div>\n",
       "<style scoped>\n",
       "    .dataframe tbody tr th:only-of-type {\n",
       "        vertical-align: middle;\n",
       "    }\n",
       "\n",
       "    .dataframe tbody tr th {\n",
       "        vertical-align: top;\n",
       "    }\n",
       "\n",
       "    .dataframe thead th {\n",
       "        text-align: right;\n",
       "    }\n",
       "</style>\n",
       "<table border=\"1\" class=\"dataframe\">\n",
       "  <thead>\n",
       "    <tr style=\"text-align: right;\">\n",
       "      <th></th>\n",
       "      <th>review</th>\n",
       "      <th>aspect</th>\n",
       "      <th>aspect_occurrence</th>\n",
       "    </tr>\n",
       "  </thead>\n",
       "  <tbody>\n",
       "    <tr>\n",
       "      <th>0</th>\n",
       "      <td>Выходя из кинотеатра, вы думаете - фильм гениа...</td>\n",
       "      <td>мнение о режиссёре</td>\n",
       "      <td>['-']</td>\n",
       "    </tr>\n",
       "    <tr>\n",
       "      <th>1</th>\n",
       "      <td>Не думала, что после просмотра долгожданного ф...</td>\n",
       "      <td>мнение о музыке в фильме</td>\n",
       "      <td>['-']</td>\n",
       "    </tr>\n",
       "    <tr>\n",
       "      <th>2</th>\n",
       "      <td>Сколько в нашем мире людей недовольных своей ж...</td>\n",
       "      <td>мнение о режиссёре</td>\n",
       "      <td>['Габриэле Муччино превосходно справился с зад...</td>\n",
       "    </tr>\n",
       "    <tr>\n",
       "      <th>3</th>\n",
       "      <td>А вы что видите глядя на картины Дали, Да Винч...</td>\n",
       "      <td>общее мнение о фильме</td>\n",
       "      <td>['Это Вселенная! Новый мир со своей биосферой,...</td>\n",
       "    </tr>\n",
       "    <tr>\n",
       "      <th>4</th>\n",
       "      <td>В полной мере открыл для себя личность Кемерон...</td>\n",
       "      <td>мнение о режиссёре</td>\n",
       "      <td>['-']</td>\n",
       "    </tr>\n",
       "    <tr>\n",
       "      <th>...</th>\n",
       "      <td>...</td>\n",
       "      <td>...</td>\n",
       "      <td>...</td>\n",
       "    </tr>\n",
       "    <tr>\n",
       "      <th>8470</th>\n",
       "      <td>Это уже мой сотый отзыв. Ух, как время бежит! ...</td>\n",
       "      <td>описание игры актёров</td>\n",
       "      <td>['Актеры   играют великолепно. Порадовали   Рэ...</td>\n",
       "    </tr>\n",
       "    <tr>\n",
       "      <th>8471</th>\n",
       "      <td>Ожидала ли я того, что получила от просмотра «...</td>\n",
       "      <td>описание декораций и графики</td>\n",
       "      <td>['-']</td>\n",
       "    </tr>\n",
       "    <tr>\n",
       "      <th>8472</th>\n",
       "      <td>День премьеры был пропущен - четверг, рабочий ...</td>\n",
       "      <td>мнение о режиссёре</td>\n",
       "      <td>['Дэвид Йэтс вернулся к тому, с чего начали']</td>\n",
       "    </tr>\n",
       "    <tr>\n",
       "      <th>8473</th>\n",
       "      <td>Страна чудес, да и только! Ох, сколько раз сни...</td>\n",
       "      <td>мнение о режиссёре</td>\n",
       "      <td>['как нашему много уважаемому режиссёру']</td>\n",
       "    </tr>\n",
       "    <tr>\n",
       "      <th>8474</th>\n",
       "      <td>Фильм понравился. Несмотря на нестыковки сюжет...</td>\n",
       "      <td>описание игры актёров</td>\n",
       "      <td>['Вот вы спрашиваете, а почему это главная гер...</td>\n",
       "    </tr>\n",
       "  </tbody>\n",
       "</table>\n",
       "<p>8475 rows × 3 columns</p>\n",
       "</div>"
      ],
      "text/plain": [
       "                                                 review  \\\n",
       "0     Выходя из кинотеатра, вы думаете - фильм гениа...   \n",
       "1     Не думала, что после просмотра долгожданного ф...   \n",
       "2     Сколько в нашем мире людей недовольных своей ж...   \n",
       "3     А вы что видите глядя на картины Дали, Да Винч...   \n",
       "4     В полной мере открыл для себя личность Кемерон...   \n",
       "...                                                 ...   \n",
       "8470  Это уже мой сотый отзыв. Ух, как время бежит! ...   \n",
       "8471  Ожидала ли я того, что получила от просмотра «...   \n",
       "8472  День премьеры был пропущен - четверг, рабочий ...   \n",
       "8473  Страна чудес, да и только! Ох, сколько раз сни...   \n",
       "8474  Фильм понравился. Несмотря на нестыковки сюжет...   \n",
       "\n",
       "                            aspect  \\\n",
       "0               мнение о режиссёре   \n",
       "1         мнение о музыке в фильме   \n",
       "2               мнение о режиссёре   \n",
       "3            общее мнение о фильме   \n",
       "4               мнение о режиссёре   \n",
       "...                            ...   \n",
       "8470         описание игры актёров   \n",
       "8471  описание декораций и графики   \n",
       "8472            мнение о режиссёре   \n",
       "8473            мнение о режиссёре   \n",
       "8474         описание игры актёров   \n",
       "\n",
       "                                      aspect_occurrence  \n",
       "0                                                 ['-']  \n",
       "1                                                 ['-']  \n",
       "2     ['Габриэле Муччино превосходно справился с зад...  \n",
       "3     ['Это Вселенная! Новый мир со своей биосферой,...  \n",
       "4                                                 ['-']  \n",
       "...                                                 ...  \n",
       "8470  ['Актеры   играют великолепно. Порадовали   Рэ...  \n",
       "8471                                              ['-']  \n",
       "8472      ['Дэвид Йэтс вернулся к тому, с чего начали']  \n",
       "8473          ['как нашему много уважаемому режиссёру']  \n",
       "8474  ['Вот вы спрашиваете, а почему это главная гер...  \n",
       "\n",
       "[8475 rows x 3 columns]"
      ]
     },
     "execution_count": 133,
     "metadata": {},
     "output_type": "execute_result"
    }
   ],
   "source": [
    "final_markup = preprocessed_out[['review', 'aspect', 'gpt_markup_preprocessed']].sample(frac=1.0).reset_index(drop=True)\n",
    "final_markup.columns = ['review', 'aspect', 'aspect_occurrence']\n",
    "final_markup"
   ]
  },
  {
   "cell_type": "code",
   "execution_count": 147,
   "id": "b8618e68-da0e-43a9-81c0-28a1a9718770",
   "metadata": {},
   "outputs": [
    {
     "name": "stderr",
     "output_type": "stream",
     "text": [
      "D:\\ProgramData\\anaconda3\\envs\\kaggle\\lib\\site-packages\\seaborn\\_oldcore.py:1498: FutureWarning: is_categorical_dtype is deprecated and will be removed in a future version. Use isinstance(dtype, CategoricalDtype) instead\n",
      "  if pd.api.types.is_categorical_dtype(vector):\n",
      "D:\\ProgramData\\anaconda3\\envs\\kaggle\\lib\\site-packages\\seaborn\\_oldcore.py:1498: FutureWarning: is_categorical_dtype is deprecated and will be removed in a future version. Use isinstance(dtype, CategoricalDtype) instead\n",
      "  if pd.api.types.is_categorical_dtype(vector):\n",
      "D:\\ProgramData\\anaconda3\\envs\\kaggle\\lib\\site-packages\\seaborn\\_oldcore.py:1119: FutureWarning: use_inf_as_na option is deprecated and will be removed in a future version. Convert inf values to NaN before operating instead.\n",
      "  with pd.option_context('mode.use_inf_as_na', True):\n",
      "D:\\ProgramData\\anaconda3\\envs\\kaggle\\lib\\site-packages\\seaborn\\axisgrid.py:118: UserWarning: The figure layout has changed to tight\n",
      "  self._figure.tight_layout(*args, **kwargs)\n"
     ]
    },
    {
     "data": {
      "image/png": "[encoded data removed]",
      "text/plain": [
       "<Figure size 800x400 with 1 Axes>"
      ]
     },
     "metadata": {},
     "output_type": "display_data"
    }
   ],
   "source": [
    "g = sns.displot(\n",
    "    y=final_markup['aspect'].str.capitalize(),\n",
    "    height=4,\n",
    "    aspect=2\n",
    ").set_xticklabels(rotation=0, horizontalalignment='center')\n",
    "plt.ylabel('Aspect title')\n",
    "plt.title('Aspects distribution in final dataset')\n",
    "\n",
    "plt.savefig('../data/Aspects distribution in final dataset.png', bbox_inches='tight', dpi=400)"
   ]
  },
  {
   "cell_type": "code",
   "execution_count": 148,
   "id": "13a0ae16-825f-44a8-ae0c-592768da0fe0",
   "metadata": {},
   "outputs": [
    {
     "data": {
      "text/plain": [
       "9"
      ]
     },
     "execution_count": 148,
     "metadata": {},
     "output_type": "execute_result"
    }
   ],
   "source": [
    "final_markup['aspect'].nunique()"
   ]
  },
  {
   "cell_type": "code",
   "execution_count": 149,
   "id": "a23bd82d-f8f0-489d-ac31-871c3ff6b78e",
   "metadata": {},
   "outputs": [
    {
     "data": {
      "text/plain": [
       "986"
      ]
     },
     "execution_count": 149,
     "metadata": {},
     "output_type": "execute_result"
    }
   ],
   "source": [
    "final_markup['review'].nunique()"
   ]
  },
  {
   "cell_type": "code",
   "execution_count": 152,
   "id": "2823a5ea-e8f4-461e-be0c-0e325919cc15",
   "metadata": {},
   "outputs": [
    {
     "data": {
      "text/plain": [
       "3712"
      ]
     },
     "execution_count": 152,
     "metadata": {},
     "output_type": "execute_result"
    }
   ],
   "source": [
    "(final_markup['aspect_occurrence'] == \"['-']\").sum()"
   ]
  },
  {
   "cell_type": "code",
   "execution_count": 153,
   "id": "a8b8c817-e6dc-4879-963c-51d628da0c8b",
   "metadata": {},
   "outputs": [
    {
     "data": {
      "text/plain": [
       "8475"
      ]
     },
     "execution_count": 153,
     "metadata": {},
     "output_type": "execute_result"
    }
   ],
   "source": [
    "len(final_markup['aspect_occurrence'])"
   ]
  },
  {
   "cell_type": "code",
   "execution_count": 154,
   "id": "0a49feda-db27-48d2-8e8f-18ae21a2ef40",
   "metadata": {},
   "outputs": [],
   "source": [
    "clean_reviews = pd.read_csv('../data/clean_reviews.csv')\n",
    "reviews = pd.read_csv('../data/reviews.csv')"
   ]
  },
  {
   "cell_type": "code",
   "execution_count": 196,
   "id": "f8203a20-7120-4b05-8d74-6d9992f9a5dd",
   "metadata": {},
   "outputs": [
    {
     "data": {
      "text/plain": [
       "26401"
      ]
     },
     "execution_count": 196,
     "metadata": {},
     "output_type": "execute_result"
    }
   ],
   "source": [
    "(clean_reviews['review'] == reviews['review']).sum()"
   ]
  },
  {
   "cell_type": "code",
   "execution_count": 197,
   "id": "8e406f2d-cb51-4d3f-82c8-d42a7bd69272",
   "metadata": {},
   "outputs": [
    {
     "data": {
      "text/plain": [
       "0        «Зеленую милю» я смотрела два раза: 10 лет наз...\n",
       "1        Период конца девяностых годов-начало двухтысяч...\n",
       "2        Очень сложно писать рецензию на этот фильм, та...\n",
       "3        Любимая многими миллионами ценителями киноиску...\n",
       "4        В нашем мире существует много разных фильмов. ...\n",
       "                               ...                        \n",
       "90642    Фильм «Ламборгини: Человек-легенда» снят в 202...\n",
       "90643    Эй, рагацци, вы это серьёзно, ТАК показывать и...\n",
       "90644    Вообще, говоря о байопиках, стоит отметить, чт...\n",
       "90645    Визуальное качество, впрочем, также не безупре...\n",
       "90646    «Голову с плеч!»\\r\\n\\r\\n© Приговор королевы \\r...\n",
       "Name: review, Length: 90647, dtype: object"
      ]
     },
     "execution_count": 197,
     "metadata": {},
     "output_type": "execute_result"
    }
   ],
   "source": [
    "clean_reviews['review']"
   ]
  },
  {
   "cell_type": "code",
   "execution_count": 198,
   "id": "f8fd43f8-1ef9-4adf-aa11-06e45a5849de",
   "metadata": {},
   "outputs": [
    {
     "data": {
      "text/plain": [
       "0        «Зеленую милю» я смотрела два раза: 10 лет наз...\n",
       "1        Период конца девяностых годов-начало двухтысяч...\n",
       "2        Очень сложно писать рецензию на этот фильм, та...\n",
       "3        Любимая многими миллионами ценителями киноиску...\n",
       "4        В нашем мире существует много разных фильмов. ...\n",
       "                               ...                        \n",
       "90642    Фильм «Ламборгини: Человек-легенда» снят в 202...\n",
       "90643    Эй, рагацци, вы это серьёзно, ТАК показывать и...\n",
       "90644    Вообще, говоря о байопиках, стоит отметить, чт...\n",
       "90645    Визуальное качество, впрочем, также не безупре...\n",
       "90646    <i>«Голову с плеч!»\\r\\n\\r\\n© Приговор королевы...\n",
       "Name: review, Length: 90647, dtype: object"
      ]
     },
     "execution_count": 198,
     "metadata": {},
     "output_type": "execute_result"
    }
   ],
   "source": [
    "reviews['review']"
   ]
  },
  {
   "cell_type": "code",
   "execution_count": 183,
   "id": "83c13765-d0a2-480f-83b3-6b008941c6f5",
   "metadata": {},
   "outputs": [
    {
     "data": {
      "application/vnd.jupyter.widget-view+json": {
       "model_id": "5d798add33a344ea99219b64fafc0b97",
       "version_major": 2,
       "version_minor": 0
      },
      "text/plain": [
       "  0%|          | 0/8475 [00:00<?, ?it/s]"
      ]
     },
     "metadata": {},
     "output_type": "display_data"
    }
   ],
   "source": [
    "existing_indices = []\n",
    "from tqdm.notebook import trange\n",
    "\n",
    "for i in trange(len(final_markup)):\n",
    "    review = final_markup['review'].iloc[i]\n",
    "    cont = clean_reviews['review'].str.startswith(review[:150])\n",
    "    if cont.any():\n",
    "        existing_indices.append(clean_reviews['review'].index[cont][0])\n",
    "    else:\n",
    "        existing_indices.append(None)\n",
    "        "
   ]
  },
  {
   "cell_type": "code",
   "execution_count": 199,
   "id": "0904e157-02a5-4437-af93-2290409ee131",
   "metadata": {},
   "outputs": [
    {
     "data": {
      "text/plain": [
       "803"
      ]
     },
     "execution_count": 199,
     "metadata": {},
     "output_type": "execute_result"
    }
   ],
   "source": [
    "reviews.film_id.nunique()"
   ]
  },
  {
   "cell_type": "code",
   "execution_count": 200,
   "id": "889ae824-3524-468e-8cfe-b15257727d25",
   "metadata": {},
   "outputs": [
    {
     "data": {
      "text/plain": [
       "False"
      ]
     },
     "execution_count": 200,
     "metadata": {},
     "output_type": "execute_result"
    }
   ],
   "source": [
    "np.isnan(existing_indices).any()"
   ]
  },
  {
   "cell_type": "code",
   "execution_count": 202,
   "id": "bc8f3ee2-5d38-4f3c-a85e-ab2202059798",
   "metadata": {},
   "outputs": [
    {
     "data": {
      "text/plain": [
       "314"
      ]
     },
     "execution_count": 202,
     "metadata": {},
     "output_type": "execute_result"
    }
   ],
   "source": [
    "reviews.iloc[existing_indices]['film_id'].nunique()"
   ]
  },
  {
   "cell_type": "code",
   "execution_count": null,
   "id": "e6b23ffc-d48d-4fe2-81d9-99f3b7835116",
   "metadata": {},
   "outputs": [],
   "source": []
  },
  {
   "cell_type": "code",
   "execution_count": null,
   "id": "482af952-b808-476d-a7c2-0a165fc584f5",
   "metadata": {},
   "outputs": [],
   "source": []
  },
  {
   "cell_type": "code",
   "execution_count": null,
   "id": "9b33796c-4748-4eff-8030-339b69426e48",
   "metadata": {},
   "outputs": [],
   "source": []
  },
  {
   "cell_type": "code",
   "execution_count": null,
   "id": "8b7a61f9-b807-436a-99a1-b2d055a283e0",
   "metadata": {},
   "outputs": [],
   "source": []
  },
  {
   "cell_type": "code",
   "execution_count": null,
   "id": "067af22a-0005-4fe4-9dd7-ea74ed0503df",
   "metadata": {},
   "outputs": [],
   "source": []
  },
  {
   "cell_type": "code",
   "execution_count": null,
   "id": "1e188a1b-2d72-4f20-a611-61cee22ab6c6",
   "metadata": {},
   "outputs": [],
   "source": []
  },
  {
   "cell_type": "code",
   "execution_count": 121,
   "id": "76f6171c-114e-4c2e-b0c1-5b0130dcb448",
   "metadata": {},
   "outputs": [
    {
     "name": "stdout",
     "output_type": "stream",
     "text": [
      "Аспект:\t\t Описание эмоций от просмотра фильма\n",
      "Разметка:\t ['«Один дома» - фильм, который видел почти каждый, и я уверена, что у всех оставалось неизгладимое впечатление от него']\n",
      "\n",
      "Аспект:\t\t Мнение о музыке в фильме\n",
      "Разметка:\t ['прекрасная музыка.']\n",
      "\n",
      "Аспект:\t\t Характеристика внешности персонажей\n",
      "Разметка:\t ['-']\n",
      "\n",
      "Аспект:\t\t Описание личности персонажей\n",
      "Разметка:\t ['бегающий по дому неизвестный мальчик. Хоть в его внешности и не было ничего зловещего, но сам его образ, по моему мнению, зловещий']\n",
      "\n",
      "Аспект:\t\t Мнение о режиссёре\n",
      "Разметка:\t ['-']\n",
      "\n",
      "Аспект:\t\t Описание личности персонажей\n",
      "Разметка:\t ['чудаковатый, но с изюминкой главный злодей', 'аристократичный, элегантный и уже не молодой Колин Фёрт']\n",
      "\n",
      "Аспект:\t\t Описание личности персонажей\n",
      "Разметка:\t ['Оскароносца Бена Кингсли хотелось бы отдельно отметить. Его герой на протяжении всего фильма менял мое к нему отношение', 'Ди Каприо сыграл довольно типичную для него роль жесткого храбреца']\n",
      "\n",
      "Аспект:\t\t Описание личности персонажей\n",
      "Разметка:\t ['Ник с каждым моментом все больше и больше переходит грани дозволеного, превращаясь в одержимого.']\n",
      "\n",
      "Аспект:\t\t Мнение о режиссёре\n",
      "Разметка:\t ['«Джон Уик» исключением не стал, и можно смело утверждать, что именно Ривз вытягивает его на себе.']\n",
      "\n",
      "Аспект:\t\t Описание личности персонажей\n",
      "Разметка:\t ['Брэд Питт, который уже второй раз работает с Финчером, в очередной раз предстает этаким бойцом, человеком, у которого лицо украшено сотнями шрамов']\n",
      "\n",
      "Аспект:\t\t Мнение о режиссёре\n",
      "Разметка:\t ['-']\n",
      "\n",
      "Аспект:\t\t Характеристика внешности персонажей\n",
      "Разметка:\t ['-']\n",
      "\n",
      "Аспект:\t\t Характеристика внешности персонажей\n",
      "Разметка:\t ['-']\n",
      "\n",
      "Аспект:\t\t Мнение о музыке в фильме\n",
      "Разметка:\t ['-']\n",
      "\n",
      "Аспект:\t\t Описание декораций и графики\n",
      "Разметка:\t ['Грамотные планы, мгновенные пролеты камеры по разрушенному Готэму, масштабные взрывы, во всей красе показанные зрителям — на что же тут жаловаться?']\n",
      "\n",
      "Аспект:\t\t Описание личности персонажей\n",
      "Разметка:\t ['Преданность... После этого фильма я переосмыслил для себя значение этого слова. Преданность не для красоты, когда ты говоришь своему партнеру по бизнесу: \"Я с тобой, чтобы у нас в бизнесе не было!\" и сам чувствуешь, как это круто звучит и надеешься, что он тоже это почувствовал. Преданность не в каких-то конкретных ситуациях, а безусловная, когда ты предан кому-то навсегда, вопреки логике и выгоде. До этого состояния еще нужно подняться...']\n",
      "\n",
      "Аспект:\t\t Описание декораций и графики\n",
      "Разметка:\t ['Главная Героиня уже не маленькая девочка']\n",
      "\n",
      "Аспект:\t\t Философские рассуждения\n",
      "Разметка:\t ['Взаимоотношения лишенного зрения человека, настолько уверенного в себе, с молодым, полным сил, и таким наивным юношей.']\n",
      "\n",
      "Аспект:\t\t Мнение о режиссёре\n",
      "Разметка:\t ['Джосс Уидон хорошо постарался!']\n",
      "\n",
      "Аспект:\t\t Мнение о режиссёре\n",
      "Разметка:\t ['Найт Шьямалан определенно взял новую для себя высоту, в связи с чем хочется пожелать ему дальнейших творческих успехов и еще более крутых фильмов.', 'судя по всему, решил тряхнуть стариной и вытащить из дебрей двухтысячного симпатичный и амбициозный сценарий \"Неуязвимого\". Вытащив, пристально осмотреть его со всех сторон, вспомнить удачи и учесть недочеты, и создать нечто на голову выше бессмертного киношедевра с Брюссом Уиллисом.']\n",
      "\n"
     ]
    }
   ],
   "source": [
    "for i in np.random.randint(0, len(preprocessed_out), size=20):\n",
    "    print('Аспект:\\t\\t', preprocessed_out['aspect'].iloc[i].capitalize())\n",
    "    print('Разметка:\\t', preprocessed_out['gpt_markup_preprocessed'].iloc[i], end='\\n\\n')"
   ]
  },
  {
   "cell_type": "code",
   "execution_count": 122,
   "id": "11439a4f-b61f-4fcf-b7f0-df5b86652ab3",
   "metadata": {},
   "outputs": [
    {
     "data": {
      "text/plain": [
       "4855"
      ]
     },
     "execution_count": 122,
     "metadata": {},
     "output_type": "execute_result"
    }
   ],
   "source": [
    "(~preprocessed_out['gpt_markup'].isna()).sum()"
   ]
  },
  {
   "cell_type": "code",
   "execution_count": 123,
   "id": "92657d66-d0f1-4bda-87b9-30723e5bdce4",
   "metadata": {},
   "outputs": [
    {
     "data": {
      "text/plain": [
       "4855"
      ]
     },
     "execution_count": 123,
     "metadata": {},
     "output_type": "execute_result"
    }
   ],
   "source": [
    "(preprocessed_out['gpt_markup'].str.startswith('* ')).sum()"
   ]
  },
  {
   "cell_type": "code",
   "execution_count": null,
   "id": "c8bbb0c3-fb29-4b0d-b850-e6d1f904f15b",
   "metadata": {},
   "outputs": [],
   "source": []
  },
  {
   "cell_type": "code",
   "execution_count": null,
   "id": "ebc036e6-2deb-41cb-b6e0-7c6496b05507",
   "metadata": {},
   "outputs": [],
   "source": []
  },
  {
   "cell_type": "code",
   "execution_count": null,
   "id": "c2031d23-93c2-4720-951e-6555430970c4",
   "metadata": {},
   "outputs": [],
   "source": []
  },
  {
   "cell_type": "code",
   "execution_count": 22,
   "id": "fd1ef763-fe25-4960-afd2-13f54b8b3278",
   "metadata": {},
   "outputs": [
    {
     "data": {
      "text/html": [
       "<div>\n",
       "<style scoped>\n",
       "    .dataframe tbody tr th:only-of-type {\n",
       "        vertical-align: middle;\n",
       "    }\n",
       "\n",
       "    .dataframe tbody tr th {\n",
       "        vertical-align: top;\n",
       "    }\n",
       "\n",
       "    .dataframe thead th {\n",
       "        text-align: right;\n",
       "    }\n",
       "</style>\n",
       "<table border=\"1\" class=\"dataframe\">\n",
       "  <thead>\n",
       "    <tr style=\"text-align: right;\">\n",
       "      <th></th>\n",
       "      <th>review</th>\n",
       "      <th>aspect</th>\n",
       "      <th>gpt_markup</th>\n",
       "    </tr>\n",
       "  </thead>\n",
       "  <tbody>\n",
       "    <tr>\n",
       "      <th>0</th>\n",
       "      <td>53-ий анимационный фильм студии Дисней получил...</td>\n",
       "      <td>общее мнение о фильме</td>\n",
       "      <td>d7qjvusmfsjmq8hshab2</td>\n",
       "    </tr>\n",
       "    <tr>\n",
       "      <th>1</th>\n",
       "      <td>53-ий анимационный фильм студии Дисней получил...</td>\n",
       "      <td>мнение о режиссёре</td>\n",
       "      <td>d7q5cmu5e2oumqs1790h</td>\n",
       "    </tr>\n",
       "    <tr>\n",
       "      <th>2</th>\n",
       "      <td>53-ий анимационный фильм студии Дисней получил...</td>\n",
       "      <td>описание игры актёров</td>\n",
       "      <td>d7q0e32aj0c1sl3d2om2</td>\n",
       "    </tr>\n",
       "    <tr>\n",
       "      <th>3</th>\n",
       "      <td>53-ий анимационный фильм студии Дисней получил...</td>\n",
       "      <td>описание личности персонажей</td>\n",
       "      <td>d7qc3au3u43r7jb650vo</td>\n",
       "    </tr>\n",
       "    <tr>\n",
       "      <th>4</th>\n",
       "      <td>53-ий анимационный фильм студии Дисней получил...</td>\n",
       "      <td>характеристика внешности персонажей</td>\n",
       "      <td>d7qjlvece6uttl9pc3en</td>\n",
       "    </tr>\n",
       "    <tr>\n",
       "      <th>...</th>\n",
       "      <td>...</td>\n",
       "      <td>...</td>\n",
       "      <td>...</td>\n",
       "    </tr>\n",
       "    <tr>\n",
       "      <th>9974</th>\n",
       "      <td>Когда я впервые увидела, что скоро Киану Ривз ...</td>\n",
       "      <td>характеристика внешности персонажей</td>\n",
       "      <td>d7qoj13fh20q2te36hho</td>\n",
       "    </tr>\n",
       "    <tr>\n",
       "      <th>9975</th>\n",
       "      <td>Когда я впервые увидела, что скоро Киану Ривз ...</td>\n",
       "      <td>описание эмоций от просмотра фильма</td>\n",
       "      <td>d7qf8kb2d74ggflff4eq</td>\n",
       "    </tr>\n",
       "    <tr>\n",
       "      <th>9976</th>\n",
       "      <td>Когда я впервые увидела, что скоро Киану Ривз ...</td>\n",
       "      <td>описание декораций и графики</td>\n",
       "      <td>d7qdo67hkr5len0f12t6</td>\n",
       "    </tr>\n",
       "    <tr>\n",
       "      <th>9977</th>\n",
       "      <td>Когда я впервые увидела, что скоро Киану Ривз ...</td>\n",
       "      <td>философские рассуждения</td>\n",
       "      <td>d7q2ukh8aic1mturnfk5</td>\n",
       "    </tr>\n",
       "    <tr>\n",
       "      <th>9978</th>\n",
       "      <td>Когда я впервые увидела, что скоро Киану Ривз ...</td>\n",
       "      <td>мнение о музыке в фильме</td>\n",
       "      <td>d7q1qqjng1ici7u7n1cl</td>\n",
       "    </tr>\n",
       "  </tbody>\n",
       "</table>\n",
       "<p>8982 rows × 3 columns</p>\n",
       "</div>"
      ],
      "text/plain": [
       "                                                 review  \\\n",
       "0     53-ий анимационный фильм студии Дисней получил...   \n",
       "1     53-ий анимационный фильм студии Дисней получил...   \n",
       "2     53-ий анимационный фильм студии Дисней получил...   \n",
       "3     53-ий анимационный фильм студии Дисней получил...   \n",
       "4     53-ий анимационный фильм студии Дисней получил...   \n",
       "...                                                 ...   \n",
       "9974  Когда я впервые увидела, что скоро Киану Ривз ...   \n",
       "9975  Когда я впервые увидела, что скоро Киану Ривз ...   \n",
       "9976  Когда я впервые увидела, что скоро Киану Ривз ...   \n",
       "9977  Когда я впервые увидела, что скоро Киану Ривз ...   \n",
       "9978  Когда я впервые увидела, что скоро Киану Ривз ...   \n",
       "\n",
       "                                   aspect            gpt_markup  \n",
       "0                   общее мнение о фильме  d7qjvusmfsjmq8hshab2  \n",
       "1                      мнение о режиссёре  d7q5cmu5e2oumqs1790h  \n",
       "2                   описание игры актёров  d7q0e32aj0c1sl3d2om2  \n",
       "3            описание личности персонажей  d7qc3au3u43r7jb650vo  \n",
       "4     характеристика внешности персонажей  d7qjlvece6uttl9pc3en  \n",
       "...                                   ...                   ...  \n",
       "9974  характеристика внешности персонажей  d7qoj13fh20q2te36hho  \n",
       "9975  описание эмоций от просмотра фильма  d7qf8kb2d74ggflff4eq  \n",
       "9976         описание декораций и графики  d7qdo67hkr5len0f12t6  \n",
       "9977              философские рассуждения  d7q2ukh8aic1mturnfk5  \n",
       "9978             мнение о музыке в фильме  d7q1qqjng1ici7u7n1cl  \n",
       "\n",
       "[8982 rows x 3 columns]"
      ]
     },
     "execution_count": 22,
     "metadata": {},
     "output_type": "execute_result"
    }
   ],
   "source": [
    "out = out[out['gpt_markup'] != 'gpt_markup']\n",
    "out.to_csv('../data/out_markup.csv', index=False)\n",
    "out"
   ]
  },
  {
   "cell_type": "code",
   "execution_count": null,
   "id": "b139a760-bb1d-4fd7-a29c-eecd0d324d6a",
   "metadata": {},
   "outputs": [],
   "source": []
  }
 ],
 "metadata": {
  "kernelspec": {
   "display_name": "Python 3 (ipykernel)",
   "language": "python",
   "name": "python3"
  },
  "language_info": {
   "codemirror_mode": {
    "name": "ipython",
    "version": 3
   },
   "file_extension": ".py",
   "mimetype": "text/x-python",
   "name": "python",
   "nbconvert_exporter": "python",
   "pygments_lexer": "ipython3",
   "version": "3.9.17"
  }
 },
 "nbformat": 4,
 "nbformat_minor": 5
}
