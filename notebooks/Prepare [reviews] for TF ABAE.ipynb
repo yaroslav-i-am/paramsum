{
 "cells": [
  {
   "cell_type": "code",
   "execution_count": 2,
   "id": "20106811-4c80-4022-9dcd-5f80ae9d8f2b",
   "metadata": {},
   "outputs": [
    {
     "name": "stdout",
     "output_type": "stream",
     "text": [
      "D:\\Programming\\Research\\Thesis\\paramsum\n"
     ]
    }
   ],
   "source": [
    "%cd .."
   ]
  },
  {
   "cell_type": "code",
   "execution_count": 3,
   "id": "07e2dff1-0689-4a63-a224-d2792e27beec",
   "metadata": {},
   "outputs": [
    {
     "name": "stdout",
     "output_type": "stream",
     "text": [
      "INFO: Pandarallel will run on 8 workers.\n",
      "INFO: Pandarallel will use standard multiprocessing data transfer (pipe) to transfer data between the main process and workers.\n",
      "\n",
      "WARNING: You are on Windows. If you detect any issue with pandarallel, be sure you checked out the Troubleshooting page:\n",
      "https://nalepae.github.io/pandarallel/troubleshooting/\n",
      "\n",
      " 154324 ['Кинг', 'Дарабонт', 'Перси', 'Депрессия', 'Делакруа', 'Майкл Кларк Дункан', 'Фрэнк Дарабонт', 'Стивен Кинг', 'Том Хэнкс', 'Том']\n"
     ]
    }
   ],
   "source": [
    "import pandas as pd\n",
    "\n",
    "import string\n",
    "\n",
    "from pandarallel import pandarallel\n",
    "pandarallel.initialize(progress_bar=True, nb_workers=8)\n",
    "\n",
    "from nltk.corpus import stopwords\n",
    "russian_stopwords = stopwords.words(\"russian\")\n",
    "\n",
    "from tqdm.notebook import tqdm\n",
    "tqdm.pandas()\n",
    "\n",
    "import matplotlib.pyplot as plt\n",
    "\n",
    "from IPython.display import display\n",
    "\n",
    "with open('./data/ne_list.txt', 'rt', encoding='UTF-8') as f:\n",
    "    named_entities = f.read().split('\\n')\n",
    "    print('\\n', len(named_entities), named_entities[:10])\n",
    "\n",
    "from sklearn.model_selection import train_test_split\n",
    "\n",
    "SEED = 42\n",
    "    "
   ]
  },
  {
   "cell_type": "code",
   "execution_count": 4,
   "id": "85e864ce-a077-4861-af08-811a11f8b756",
   "metadata": {},
   "outputs": [],
   "source": [
    "import re\n",
    "from typing import List\n",
    "\n",
    "punct = list(string.punctuation)\n",
    "punct.extend(['..', '...', '!!!', '«', '»'])\n",
    "\n",
    "def str_clean(review: str, char_clean: bool = False, clean_mark_number_patterns: bool = False, lowercase: bool = False, replace_yo: bool = False):\n",
    "    import re\n",
    "\n",
    "    if char_clean:\n",
    "        _html_pattern = r'<[^<]+?>'\n",
    "        _escape_pattern = r'[\\n|\\r|\\b]'\n",
    "        review = re.sub(_html_pattern, '  ', review)\n",
    "        review = re.sub(_escape_pattern, '  ', review)\n",
    "\n",
    "    if clean_mark_number_patterns:\n",
    "        mark_number_pattern = r'\\d{1,2} из \\d{1,2}'\n",
    "        review = re.sub(mark_number_pattern, '  ', review)\n",
    "\n",
    "    if replace_yo:\n",
    "        review = review.replace('ё', 'е')\n",
    "        review = review.replace('Ё', 'Е')\n",
    "\n",
    "    if lowercase:\n",
    "        review = review.lower()\n",
    "\n",
    "    return review\n",
    "    \n",
    "\n",
    "def per_token_clean(\n",
    "        review: str, lowercase: bool = False, tokenizer_type: str = 'razdel', lemmatizer_type: str = None, \n",
    "        stopwords: List[str] = None, punctuation: List[str] = None, named_entities: List[str] = None,\n",
    "        replace_yo=False, tagger=None, lemmatizer=None \n",
    "    ) -> str:\n",
    "\n",
    "    if tokenizer_type == 'razdel':\n",
    "        import razdel\n",
    "        review_tokens = [token.text for token in list(razdel.tokenize(review))]\n",
    "\n",
    "    elif tokenizer_type == 'TreebankWordTokenizer':\n",
    "        from nltk.tokenize import TreebankWordTokenizer\n",
    "        review_tokens = TreebankWordTokenizer().tokenize(review)\n",
    "\n",
    "    elif tokenizer_type == 'rutokenizer':\n",
    "        import rutokenizer\n",
    "        tokenizer = rutokenizer.Tokenizer()\n",
    "        tokenizer.load()\n",
    "        review_tokens = tokenizer.tokenize(review)\n",
    "    else:\n",
    "        raise NotImplementedError('Unknown tokenizer')\n",
    "\n",
    "    if punctuation:\n",
    "        review_tokens = [token for token in review_tokens if token not in punctuation]\n",
    "        \n",
    "    if named_entities:\n",
    "        review_tokens = [token for token in review_tokens if token not in named_entities]\n",
    "\n",
    "    if lemmatizer_type:\n",
    "        if lemmatizer_type == 'pymorphy3':\n",
    "            import pymorphy3\n",
    "            morph = pymorphy3.MorphAnalyzer(lang='ru')\n",
    "            review_tokens = [morph.parse(token)[0].normal_form for token in review_tokens]\n",
    "\n",
    "        elif lemmatizer_type == 'rulemma':\n",
    "            tags = tagger.tag(review_tokens)\n",
    "            lemmas = lemmatizer.lemmatize(tags)\n",
    "            review_tokens = list(map(lambda tpl: tpl[2], lemmas))\n",
    "        else:\n",
    "            raise NotImplementedError('Unknown lemmatizer')\n",
    "\n",
    "    if named_entities:\n",
    "        review_tokens = [token for token in review_tokens if token not in named_entities]\n",
    "\n",
    "    if stopwords:\n",
    "        review_tokens = [token for token in review_tokens if token not in stopwords]\n",
    "\n",
    "    review = ' '.join(review_tokens)\n",
    "\n",
    "    if replace_yo:\n",
    "        review = review.replace('ё', 'е')\n",
    "        review = review.replace('Ё', 'Е')\n",
    "\n",
    "    if lowercase:\n",
    "        review = review.lower()\n",
    "\n",
    "    return review"
   ]
  },
  {
   "cell_type": "code",
   "execution_count": 7,
   "id": "aaa11420-9bb2-4c67-a9ef-142cfacbeb34",
   "metadata": {},
   "outputs": [],
   "source": [
    "reviews = pd.read_csv('./data/reviews.csv', index_col=0)"
   ]
  },
  {
   "cell_type": "code",
   "execution_count": 16,
   "id": "03f169a9-078c-4922-8fde-53583c98c41f",
   "metadata": {},
   "outputs": [
    {
     "data": {
      "text/html": [
       "<div>\n",
       "<style scoped>\n",
       "    .dataframe tbody tr th:only-of-type {\n",
       "        vertical-align: middle;\n",
       "    }\n",
       "\n",
       "    .dataframe tbody tr th {\n",
       "        vertical-align: top;\n",
       "    }\n",
       "\n",
       "    .dataframe thead th {\n",
       "        text-align: right;\n",
       "    }\n",
       "</style>\n",
       "<table border=\"1\" class=\"dataframe\">\n",
       "  <thead>\n",
       "    <tr style=\"text-align: right;\">\n",
       "      <th></th>\n",
       "      <th>review</th>\n",
       "    </tr>\n",
       "  </thead>\n",
       "  <tbody>\n",
       "    <tr>\n",
       "      <th>0</th>\n",
       "      <td>Я очень долго собирался посмотреть этот фильм....</td>\n",
       "    </tr>\n",
       "    <tr>\n",
       "      <th>1</th>\n",
       "      <td>Перед нами очередной дуеэт   Мартина Скорсезе ...</td>\n",
       "    </tr>\n",
       "    <tr>\n",
       "      <th>2</th>\n",
       "      <td>Новое событие в жизни поклонников творчества «...</td>\n",
       "    </tr>\n",
       "    <tr>\n",
       "      <th>3</th>\n",
       "      <td>Хороший военно-исторический фильм, рекомендую....</td>\n",
       "    </tr>\n",
       "    <tr>\n",
       "      <th>4</th>\n",
       "      <td>Друзья решил поделиться с вами - как я сегодн...</td>\n",
       "    </tr>\n",
       "    <tr>\n",
       "      <th>...</th>\n",
       "      <td>...</td>\n",
       "    </tr>\n",
       "    <tr>\n",
       "      <th>90642</th>\n",
       "      <td>Теперь уже можно с уверенностью утверждать, чт...</td>\n",
       "    </tr>\n",
       "    <tr>\n",
       "      <th>90643</th>\n",
       "      <td>Пересмотрел этот фильм ещё раз, чтобы написать...</td>\n",
       "    </tr>\n",
       "    <tr>\n",
       "      <th>90644</th>\n",
       "      <td>Это с одной стороны. Так сказать, «верхи не мо...</td>\n",
       "    </tr>\n",
       "    <tr>\n",
       "      <th>90645</th>\n",
       "      <td>Должна сказать, что при первом просмотре этот ...</td>\n",
       "    </tr>\n",
       "    <tr>\n",
       "      <th>90646</th>\n",
       "      <td>Добрался до меня когда-то упущенный в кинотеат...</td>\n",
       "    </tr>\n",
       "  </tbody>\n",
       "</table>\n",
       "<p>90647 rows × 1 columns</p>\n",
       "</div>"
      ],
      "text/plain": [
       "                                                  review\n",
       "0      Я очень долго собирался посмотреть этот фильм....\n",
       "1      Перед нами очередной дуеэт   Мартина Скорсезе ...\n",
       "2      Новое событие в жизни поклонников творчества «...\n",
       "3      Хороший военно-исторический фильм, рекомендую....\n",
       "4       Друзья решил поделиться с вами - как я сегодн...\n",
       "...                                                  ...\n",
       "90642  Теперь уже можно с уверенностью утверждать, чт...\n",
       "90643  Пересмотрел этот фильм ещё раз, чтобы написать...\n",
       "90644  Это с одной стороны. Так сказать, «верхи не мо...\n",
       "90645  Должна сказать, что при первом просмотре этот ...\n",
       "90646  Добрался до меня когда-то упущенный в кинотеат...\n",
       "\n",
       "[90647 rows x 1 columns]"
      ]
     },
     "execution_count": 16,
     "metadata": {},
     "output_type": "execute_result"
    }
   ],
   "source": [
    "reviews.sample(frac=1.0).reset_index(drop=True)[['review']]"
   ]
  },
  {
   "cell_type": "code",
   "execution_count": 4,
   "id": "6ff9dad2-6438-4fac-b212-bab168a2e768",
   "metadata": {},
   "outputs": [
    {
     "data": {
      "text/html": [
       "<div>\n",
       "<style scoped>\n",
       "    .dataframe tbody tr th:only-of-type {\n",
       "        vertical-align: middle;\n",
       "    }\n",
       "\n",
       "    .dataframe tbody tr th {\n",
       "        vertical-align: top;\n",
       "    }\n",
       "\n",
       "    .dataframe thead th {\n",
       "        text-align: right;\n",
       "    }\n",
       "</style>\n",
       "<table border=\"1\" class=\"dataframe\">\n",
       "  <thead>\n",
       "    <tr style=\"text-align: right;\">\n",
       "      <th></th>\n",
       "      <th>review</th>\n",
       "    </tr>\n",
       "  </thead>\n",
       "  <tbody>\n",
       "    <tr>\n",
       "      <th>0</th>\n",
       "      <td>«Зеленую милю» я смотрела два раза: 10 лет наз...</td>\n",
       "    </tr>\n",
       "    <tr>\n",
       "      <th>1</th>\n",
       "      <td>Период конца девяностых годов-начало двухтысяч...</td>\n",
       "    </tr>\n",
       "    <tr>\n",
       "      <th>2</th>\n",
       "      <td>Очень сложно писать рецензию на этот фильм, та...</td>\n",
       "    </tr>\n",
       "    <tr>\n",
       "      <th>3</th>\n",
       "      <td>Любимая многими миллионами ценителями киноиску...</td>\n",
       "    </tr>\n",
       "    <tr>\n",
       "      <th>4</th>\n",
       "      <td>В нашем мире существует много разных фильмов. ...</td>\n",
       "    </tr>\n",
       "    <tr>\n",
       "      <th>...</th>\n",
       "      <td>...</td>\n",
       "    </tr>\n",
       "    <tr>\n",
       "      <th>90642</th>\n",
       "      <td>Фильм «Ламборгини: Человек-легенда» снят в 202...</td>\n",
       "    </tr>\n",
       "    <tr>\n",
       "      <th>90643</th>\n",
       "      <td>Эй, рагацци, вы это серьёзно, ТАК показывать и...</td>\n",
       "    </tr>\n",
       "    <tr>\n",
       "      <th>90644</th>\n",
       "      <td>Вообще, говоря о байопиках, стоит отметить, чт...</td>\n",
       "    </tr>\n",
       "    <tr>\n",
       "      <th>90645</th>\n",
       "      <td>Визуальное качество, впрочем, также не безупре...</td>\n",
       "    </tr>\n",
       "    <tr>\n",
       "      <th>90646</th>\n",
       "      <td>&lt;i&gt;«Голову с плеч!»\\r\\n\\r\\n© Приговор королевы...</td>\n",
       "    </tr>\n",
       "  </tbody>\n",
       "</table>\n",
       "<p>90647 rows × 1 columns</p>\n",
       "</div>"
      ],
      "text/plain": [
       "                                                  review\n",
       "0      «Зеленую милю» я смотрела два раза: 10 лет наз...\n",
       "1      Период конца девяностых годов-начало двухтысяч...\n",
       "2      Очень сложно писать рецензию на этот фильм, та...\n",
       "3      Любимая многими миллионами ценителями киноиску...\n",
       "4      В нашем мире существует много разных фильмов. ...\n",
       "...                                                  ...\n",
       "90642  Фильм «Ламборгини: Человек-легенда» снят в 202...\n",
       "90643  Эй, рагацци, вы это серьёзно, ТАК показывать и...\n",
       "90644  Вообще, говоря о байопиках, стоит отметить, чт...\n",
       "90645  Визуальное качество, впрочем, также не безупре...\n",
       "90646  <i>«Голову с плеч!»\\r\\n\\r\\n© Приговор королевы...\n",
       "\n",
       "[90647 rows x 1 columns]"
      ]
     },
     "execution_count": 4,
     "metadata": {},
     "output_type": "execute_result"
    }
   ],
   "source": [
    "# cur_reviews = reviews.query('film_id == 405609')[['review']]\n",
    "cur_reviews = reviews[['review']]\n",
    "cur_reviews"
   ]
  },
  {
   "cell_type": "code",
   "execution_count": 7,
   "id": "46d4a14b-958d-4155-8921-d488707efb49",
   "metadata": {},
   "outputs": [
    {
     "data": {
      "text/plain": [
       "'Очень сложно писать рецензию на этот фильм, так как это просто нужно видеть. Это один из самых эмоциональных и сильных фильмов за всю историю кинематографа, который заслужено, на момент написания рецензии,\\xa0 находится на первом месте по оценкам.         Определенно картина обязана своим успехом первоисточнику. Работа снята по мотивам известного писателя Стивена Кинга. Но взять первоисточник это лишь фундамент, нужно также грамотно его реализовать и с этим создатели справились превосходно.         Главной заслугой ленты я считаю драматургию. Я считаю, и думаю многие согласятся, что вызвать сильную скорбь и грусть гораздо сложнее чем улыбку. Для этого нужно проделать большую работу над персонажами, чтобы им хотелось сопереживать и выстроить грамотную историю. И с этими двумя аспектами у картины нет никаких проблем. Режиссер ленты сумел правильно перенести историю на экран, используя хорошие ходы и оставляя детали вместе с зацепками. Произведение идёт три часа и за это время мы успеваем детально проникнутся персонажами и прочувствовать их эмоции. И что не менее важно, то что по ходу действия мы узнаем все более новую информацию и только ближе к концу фильма собираем весь пазл и видим полную картину происходящего.         Очень хочется похвалить актеров. Все заключенные и охранники прекрасно справились со своей ролью. У некоторых было немного времени, некоторые блистали всю ленту, но каждый отыграл на славу и ты готов наблюдать за ними без остановки. Но всё же самую сильную игру выдали Майкл Кларк Дункан и Том Хенкс. В данном произведении им нет равных и они заслуживают лишь аплодисменты.         И в заключении, ещё одним аспектом, нанесенным в плюсы картины является высказывание авторов. Создатели умело говорят с нами о жестокости мира, о справедливости и борьбе. Не обходится стороной и также тема жизни и смерти, что вызывает уважение. И после просмотра вам определенно останется над чем подумать и возможно вы даже пересмотрите взгляды на жизнь.         Вердикт. Это безусловно один из лучших фильмов в истории кино. Если вы ещё не видели данное произведение, то обязательно ознакомьтесь с ним. Не побоюсь сказать, что это шедевр, который заставляет поверить в магию кино.         10 из 10'"
      ]
     },
     "execution_count": 7,
     "metadata": {},
     "output_type": "execute_result"
    }
   ],
   "source": [
    "cur_reviews.iloc[2, 0]"
   ]
  },
  {
   "cell_type": "code",
   "execution_count": 8,
   "id": "d73bfc14-b624-44fa-9067-3724bfe7b5b1",
   "metadata": {},
   "outputs": [
    {
     "data": {
      "application/vnd.jupyter.widget-view+json": {
       "model_id": "7d051f532b0041ab9fc45a0cfec7ce56",
       "version_major": 2,
       "version_minor": 0
      },
      "text/plain": [
       "VBox(children=(HBox(children=(IntProgress(value=0, description='0.00%', max=11331), Label(value='0 / 11331')))…"
      ]
     },
     "metadata": {},
     "output_type": "display_data"
    },
    {
     "name": "stderr",
     "output_type": "stream",
     "text": [
      "C:\\Users\\Yaroslav Pristalov\\AppData\\Local\\Temp\\ipykernel_32152\\1314494033.py:1: SettingWithCopyWarning: \n",
      "A value is trying to be set on a copy of a slice from a DataFrame.\n",
      "Try using .loc[row_indexer,col_indexer] = value instead\n",
      "\n",
      "See the caveats in the documentation: https://pandas.pydata.org/pandas-docs/stable/user_guide/indexing.html#returning-a-view-versus-a-copy\n",
      "  cur_reviews['review'] = cur_reviews['review'].parallel_apply(\n"
     ]
    },
    {
     "data": {
      "text/html": [
       "<div>\n",
       "<style scoped>\n",
       "    .dataframe tbody tr th:only-of-type {\n",
       "        vertical-align: middle;\n",
       "    }\n",
       "\n",
       "    .dataframe tbody tr th {\n",
       "        vertical-align: top;\n",
       "    }\n",
       "\n",
       "    .dataframe thead th {\n",
       "        text-align: right;\n",
       "    }\n",
       "</style>\n",
       "<table border=\"1\" class=\"dataframe\">\n",
       "  <thead>\n",
       "    <tr style=\"text-align: right;\">\n",
       "      <th></th>\n",
       "      <th>review</th>\n",
       "    </tr>\n",
       "  </thead>\n",
       "  <tbody>\n",
       "    <tr>\n",
       "      <th>0</th>\n",
       "      <td>«Зеленую милю» я смотрела два раза: 10 лет наз...</td>\n",
       "    </tr>\n",
       "    <tr>\n",
       "      <th>1</th>\n",
       "      <td>Период конца девяностых годов-начало двухтысяч...</td>\n",
       "    </tr>\n",
       "    <tr>\n",
       "      <th>2</th>\n",
       "      <td>Очень сложно писать рецензию на этот фильм, та...</td>\n",
       "    </tr>\n",
       "    <tr>\n",
       "      <th>3</th>\n",
       "      <td>Любимая многими миллионами ценителями киноиску...</td>\n",
       "    </tr>\n",
       "    <tr>\n",
       "      <th>4</th>\n",
       "      <td>В нашем мире существует много разных фильмов. ...</td>\n",
       "    </tr>\n",
       "    <tr>\n",
       "      <th>...</th>\n",
       "      <td>...</td>\n",
       "    </tr>\n",
       "    <tr>\n",
       "      <th>90642</th>\n",
       "      <td>Фильм «Ламборгини: Человек-легенда» снят в 202...</td>\n",
       "    </tr>\n",
       "    <tr>\n",
       "      <th>90643</th>\n",
       "      <td>Эй, рагацци, вы это серьезно, ТАК показывать и...</td>\n",
       "    </tr>\n",
       "    <tr>\n",
       "      <th>90644</th>\n",
       "      <td>Вообще, говоря о байопиках, стоит отметить, чт...</td>\n",
       "    </tr>\n",
       "    <tr>\n",
       "      <th>90645</th>\n",
       "      <td>Визуальное качество, впрочем, также не безупре...</td>\n",
       "    </tr>\n",
       "    <tr>\n",
       "      <th>90646</th>\n",
       "      <td>«Голову с плеч!»        © Приговор королевы ...</td>\n",
       "    </tr>\n",
       "  </tbody>\n",
       "</table>\n",
       "<p>90647 rows × 1 columns</p>\n",
       "</div>"
      ],
      "text/plain": [
       "                                                  review\n",
       "0      «Зеленую милю» я смотрела два раза: 10 лет наз...\n",
       "1      Период конца девяностых годов-начало двухтысяч...\n",
       "2      Очень сложно писать рецензию на этот фильм, та...\n",
       "3      Любимая многими миллионами ценителями киноиску...\n",
       "4      В нашем мире существует много разных фильмов. ...\n",
       "...                                                  ...\n",
       "90642  Фильм «Ламборгини: Человек-легенда» снят в 202...\n",
       "90643  Эй, рагацци, вы это серьезно, ТАК показывать и...\n",
       "90644  Вообще, говоря о байопиках, стоит отметить, чт...\n",
       "90645  Визуальное качество, впрочем, также не безупре...\n",
       "90646    «Голову с плеч!»        © Приговор королевы ...\n",
       "\n",
       "[90647 rows x 1 columns]"
      ]
     },
     "metadata": {},
     "output_type": "display_data"
    }
   ],
   "source": [
    "cur_reviews['review'] = cur_reviews['review'].parallel_apply(\n",
    "    str_clean,\n",
    "    char_clean = True,\n",
    "    clean_mark_number_patterns = True,\n",
    "    lowercase = False,  \n",
    "    replace_yo = True\n",
    ")\n",
    "\n",
    "display(cur_reviews)"
   ]
  },
  {
   "cell_type": "code",
   "execution_count": 9,
   "id": "67d2ad80-1910-49ff-8e36-5224c8e3401c",
   "metadata": {},
   "outputs": [
    {
     "data": {
      "text/plain": [
       "'Очень сложно писать рецензию на этот фильм, так как это просто нужно видеть. Это один из самых эмоциональных и сильных фильмов за всю историю кинематографа, который заслужено, на момент написания рецензии,\\xa0 находится на первом месте по оценкам.         Определенно картина обязана своим успехом первоисточнику. Работа снята по мотивам известного писателя Стивена Кинга. Но взять первоисточник это лишь фундамент, нужно также грамотно его реализовать и с этим создатели справились превосходно.         Главной заслугой ленты я считаю драматургию. Я считаю, и думаю многие согласятся, что вызвать сильную скорбь и грусть гораздо сложнее чем улыбку. Для этого нужно проделать большую работу над персонажами, чтобы им хотелось сопереживать и выстроить грамотную историю. И с этими двумя аспектами у картины нет никаких проблем. Режиссер ленты сумел правильно перенести историю на экран, используя хорошие ходы и оставляя детали вместе с зацепками. Произведение идет три часа и за это время мы успеваем детально проникнутся персонажами и прочувствовать их эмоции. И что не менее важно, то что по ходу действия мы узнаем все более новую информацию и только ближе к концу фильма собираем весь пазл и видим полную картину происходящего.         Очень хочется похвалить актеров. Все заключенные и охранники прекрасно справились со своей ролью. У некоторых было немного времени, некоторые блистали всю ленту, но каждый отыграл на славу и ты готов наблюдать за ними без остановки. Но все же самую сильную игру выдали Майкл Кларк Дункан и Том Хенкс. В данном произведении им нет равных и они заслуживают лишь аплодисменты.         И в заключении, еще одним аспектом, нанесенным в плюсы картины является высказывание авторов. Создатели умело говорят с нами о жестокости мира, о справедливости и борьбе. Не обходится стороной и также тема жизни и смерти, что вызывает уважение. И после просмотра вам определенно останется над чем подумать и возможно вы даже пересмотрите взгляды на жизнь.         Вердикт. Это безусловно один из лучших фильмов в истории кино. Если вы еще не видели данное произведение, то обязательно ознакомьтесь с ним. Не побоюсь сказать, что это шедевр, который заставляет поверить в магию кино.           '"
      ]
     },
     "execution_count": 9,
     "metadata": {},
     "output_type": "execute_result"
    }
   ],
   "source": [
    "cur_reviews.iloc[2, 0]"
   ]
  },
  {
   "cell_type": "code",
   "execution_count": null,
   "id": "f6ee6fc3-c6dc-4bd9-a325-e22b9cad347d",
   "metadata": {},
   "outputs": [],
   "source": [
    "from razdel import sentenize\n",
    "\n",
    "all_sents = []\n",
    "\n",
    "for review in tqdm(cur_reviews['review']):\n",
    "    all_sents.extend(list(map(lambda substr_obj: substr_obj.text, list(sentenize(review)))))\n",
    "\n",
    "all_sents"
   ]
  },
  {
   "cell_type": "code",
   "execution_count": 11,
   "id": "3b36c1a2-1ad0-4597-8f5c-de58e1cb430c",
   "metadata": {},
   "outputs": [
    {
     "data": {
      "text/html": [
       "<div>\n",
       "<style scoped>\n",
       "    .dataframe tbody tr th:only-of-type {\n",
       "        vertical-align: middle;\n",
       "    }\n",
       "\n",
       "    .dataframe tbody tr th {\n",
       "        vertical-align: top;\n",
       "    }\n",
       "\n",
       "    .dataframe thead th {\n",
       "        text-align: right;\n",
       "    }\n",
       "</style>\n",
       "<table border=\"1\" class=\"dataframe\">\n",
       "  <thead>\n",
       "    <tr style=\"text-align: right;\">\n",
       "      <th></th>\n",
       "      <th>review</th>\n",
       "    </tr>\n",
       "  </thead>\n",
       "  <tbody>\n",
       "    <tr>\n",
       "      <th>0</th>\n",
       "      <td>«Зеленую милю» я смотрела два раза: 10 лет наз...</td>\n",
       "    </tr>\n",
       "    <tr>\n",
       "      <th>1</th>\n",
       "      <td>Первый раз у меня было примерно такое впечатле...</td>\n",
       "    </tr>\n",
       "    <tr>\n",
       "      <th>2</th>\n",
       "      <td>Я плакала над глубокой и грустной историей, ко...</td>\n",
       "    </tr>\n",
       "    <tr>\n",
       "      <th>3</th>\n",
       "      <td>Сейчас же я решила освежить впечатления и поще...</td>\n",
       "    </tr>\n",
       "    <tr>\n",
       "      <th>4</th>\n",
       "      <td>После взросления и прочтения книги фильм Дараб...</td>\n",
       "    </tr>\n",
       "    <tr>\n",
       "      <th>...</th>\n",
       "      <td>...</td>\n",
       "    </tr>\n",
       "    <tr>\n",
       "      <th>2248016</th>\n",
       "      <td>Некоторые сцены по задумке Бертона должны, по ...</td>\n",
       "    </tr>\n",
       "    <tr>\n",
       "      <th>2248017</th>\n",
       "      <td>Толкование официальных иллюстраций к книгам Кэ...</td>\n",
       "    </tr>\n",
       "    <tr>\n",
       "      <th>2248018</th>\n",
       "      <td>Картинка с Бармаглотом, которая в XIX веке воз...</td>\n",
       "    </tr>\n",
       "    <tr>\n",
       "      <th>2248019</th>\n",
       "      <td>Зная, насколько книга опережала свое время, не...</td>\n",
       "    </tr>\n",
       "    <tr>\n",
       "      <th>2248020</th>\n",
       "      <td>Однако посредственность окупается  , поэтому п...</td>\n",
       "    </tr>\n",
       "  </tbody>\n",
       "</table>\n",
       "<p>2248021 rows × 1 columns</p>\n",
       "</div>"
      ],
      "text/plain": [
       "                                                    review\n",
       "0        «Зеленую милю» я смотрела два раза: 10 лет наз...\n",
       "1        Первый раз у меня было примерно такое впечатле...\n",
       "2        Я плакала над глубокой и грустной историей, ко...\n",
       "3        Сейчас же я решила освежить впечатления и поще...\n",
       "4        После взросления и прочтения книги фильм Дараб...\n",
       "...                                                    ...\n",
       "2248016  Некоторые сцены по задумке Бертона должны, по ...\n",
       "2248017  Толкование официальных иллюстраций к книгам Кэ...\n",
       "2248018  Картинка с Бармаглотом, которая в XIX веке воз...\n",
       "2248019  Зная, насколько книга опережала свое время, не...\n",
       "2248020  Однако посредственность окупается  , поэтому п...\n",
       "\n",
       "[2248021 rows x 1 columns]"
      ]
     },
     "execution_count": 11,
     "metadata": {},
     "output_type": "execute_result"
    }
   ],
   "source": [
    "cur_reviews = pd.DataFrame(all_sents, columns=['review'])\n",
    "cur_reviews"
   ]
  },
  {
   "cell_type": "code",
   "execution_count": 12,
   "id": "1b3d138b-167f-4ea0-8406-b08d66b4f87e",
   "metadata": {},
   "outputs": [
    {
     "data": {
      "text/plain": [
       "(False, False)"
      ]
     },
     "execution_count": 12,
     "metadata": {},
     "output_type": "execute_result"
    }
   ],
   "source": [
    "cur_reviews.review.str.contains('ё').any(), cur_reviews.review.str.contains('Ё').any()"
   ]
  },
  {
   "cell_type": "code",
   "execution_count": 14,
   "id": "38b3344c-e3b4-42f4-bf48-18efdaac7aa6",
   "metadata": {},
   "outputs": [
    {
     "data": {
      "application/vnd.jupyter.widget-view+json": {
       "model_id": "03504bc06a1244ecb821f3a367c6d382",
       "version_major": 2,
       "version_minor": 0
      },
      "text/plain": [
       "VBox(children=(HBox(children=(IntProgress(value=0, description='0.00%', max=13), Label(value='0 / 13'))), HBox…"
      ]
     },
     "metadata": {},
     "output_type": "display_data"
    },
    {
     "data": {
      "text/plain": [
       "0                    зеленый миля смотреть 10 год назад\n",
       "1     примерно впечатление который говорить большинс...\n",
       "2     плакать глубокий грустный история который надо...\n",
       "3     решить освежить впечатление пощекотать эмоция ...\n",
       "4     взросление прочтение книга фильм показаться пл...\n",
       "                            ...                        \n",
       "95                       надзиратель уэтмор садист псих\n",
       "96      бесить весь миля еще сильный раздражать зритель\n",
       "97    аккуратно причесать отгладить мечтать увидеть ...\n",
       "98                          миля это 3-й часовой шедевр\n",
       "99                         человек конец сдержать слеза\n",
       "Name: review, Length: 100, dtype: object"
      ]
     },
     "execution_count": 14,
     "metadata": {},
     "output_type": "execute_result"
    }
   ],
   "source": [
    "cur_reviews['review'][:100].parallel_apply(\n",
    "    per_token_clean,\n",
    "    lowercase = True,\n",
    "    tokenizer_type = 'razdel',\n",
    "    lemmatizer_type = 'pymorphy3',\n",
    "    stopwords = russian_stopwords,\n",
    "    punctuation = punct,\n",
    "    named_entities = named_entities,\n",
    "    replace_yo = True\n",
    ")"
   ]
  },
  {
   "cell_type": "code",
   "execution_count": 15,
   "id": "6097477a-648d-48e8-bd16-db3afb04547b",
   "metadata": {},
   "outputs": [
    {
     "data": {
      "application/vnd.jupyter.widget-view+json": {
       "model_id": "7a1bcd71b5bc4ee2bbed2249e9b1ddd7",
       "version_major": 2,
       "version_minor": 0
      },
      "text/plain": [
       "VBox(children=(HBox(children=(IntProgress(value=0, description='0.00%', max=281003), Label(value='0 / 281003')…"
      ]
     },
     "metadata": {},
     "output_type": "display_data"
    }
   ],
   "source": [
    "cur_reviews['review'] = cur_reviews['review'].parallel_apply(\n",
    "    per_token_clean,\n",
    "    lowercase = True,\n",
    "    tokenizer_type = 'razdel',\n",
    "    lemmatizer_type = 'pymorphy3',\n",
    "    stopwords = russian_stopwords,\n",
    "    punctuation = punct,\n",
    "    named_entities = named_entities,\n",
    "    replace_yo = True\n",
    ")"
   ]
  },
  {
   "cell_type": "code",
   "execution_count": 16,
   "id": "d1884491-9fb6-4dd1-8334-a92f9348f12f",
   "metadata": {},
   "outputs": [
    {
     "data": {
      "text/html": [
       "<div>\n",
       "<style scoped>\n",
       "    .dataframe tbody tr th:only-of-type {\n",
       "        vertical-align: middle;\n",
       "    }\n",
       "\n",
       "    .dataframe tbody tr th {\n",
       "        vertical-align: top;\n",
       "    }\n",
       "\n",
       "    .dataframe thead th {\n",
       "        text-align: right;\n",
       "    }\n",
       "</style>\n",
       "<table border=\"1\" class=\"dataframe\">\n",
       "  <thead>\n",
       "    <tr style=\"text-align: right;\">\n",
       "      <th></th>\n",
       "      <th>review</th>\n",
       "    </tr>\n",
       "  </thead>\n",
       "  <tbody>\n",
       "    <tr>\n",
       "      <th>0</th>\n",
       "      <td>зеленый миля смотреть 10 год назад</td>\n",
       "    </tr>\n",
       "    <tr>\n",
       "      <th>1</th>\n",
       "      <td>примерно впечатление который говорить большинс...</td>\n",
       "    </tr>\n",
       "    <tr>\n",
       "      <th>2</th>\n",
       "      <td>плакать глубокий грустный история который надо...</td>\n",
       "    </tr>\n",
       "    <tr>\n",
       "      <th>3</th>\n",
       "      <td>решить освежить впечатление пощекотать эмоция ...</td>\n",
       "    </tr>\n",
       "    <tr>\n",
       "      <th>4</th>\n",
       "      <td>взросление прочтение книга фильм показаться пл...</td>\n",
       "    </tr>\n",
       "    <tr>\n",
       "      <th>...</th>\n",
       "      <td>...</td>\n",
       "    </tr>\n",
       "    <tr>\n",
       "      <th>2248016</th>\n",
       "      <td>некоторый сцена задумка должный идея вызывать ...</td>\n",
       "    </tr>\n",
       "    <tr>\n",
       "      <th>2248017</th>\n",
       "      <td>толкование официальный иллюстрация книга кэрро...</td>\n",
       "    </tr>\n",
       "    <tr>\n",
       "      <th>2248018</th>\n",
       "      <td>картинка который xix век возмущать родитель из...</td>\n",
       "    </tr>\n",
       "    <tr>\n",
       "      <th>2248019</th>\n",
       "      <td>знать насколько книга опережать свой время нев...</td>\n",
       "    </tr>\n",
       "    <tr>\n",
       "      <th>2248020</th>\n",
       "      <td>однако посредственность окупаться поэтому увид...</td>\n",
       "    </tr>\n",
       "  </tbody>\n",
       "</table>\n",
       "<p>2248021 rows × 1 columns</p>\n",
       "</div>"
      ],
      "text/plain": [
       "                                                    review\n",
       "0                       зеленый миля смотреть 10 год назад\n",
       "1        примерно впечатление который говорить большинс...\n",
       "2        плакать глубокий грустный история который надо...\n",
       "3        решить освежить впечатление пощекотать эмоция ...\n",
       "4        взросление прочтение книга фильм показаться пл...\n",
       "...                                                    ...\n",
       "2248016  некоторый сцена задумка должный идея вызывать ...\n",
       "2248017  толкование официальный иллюстрация книга кэрро...\n",
       "2248018  картинка который xix век возмущать родитель из...\n",
       "2248019  знать насколько книга опережать свой время нев...\n",
       "2248020  однако посредственность окупаться поэтому увид...\n",
       "\n",
       "[2248021 rows x 1 columns]"
      ]
     },
     "execution_count": 16,
     "metadata": {},
     "output_type": "execute_result"
    }
   ],
   "source": [
    "cur_reviews"
   ]
  },
  {
   "cell_type": "code",
   "execution_count": 17,
   "id": "8afbc8e5-870e-4c59-a33c-b754589fe3a9",
   "metadata": {
    "scrolled": true
   },
   "outputs": [
    {
     "data": {
      "text/plain": [
       "'зеленый миля смотреть 10 год назад примерно впечатление который говорить большинство зритель плакать глубокий грустный история который надолго оставить след душа подросток несколько год назад прочитать оригинальный роман кинг периодически думать насколько хороший точный экранизация хотя фильм успеть подзабыть некоторый момент еще живой память решить освежить впечатление пощекотать эмоция это парадоксальный образ сработать взросление прочтение книга фильм показаться плоский блин немного раскрывать тема который замахиваться довольно странно учитывать фильм идти час это являться экранизация большой книга тема расизм злоупотребление власть жизнь смерть — все это отдаваться откуп зрительский восприятие нелепый весь линия травля весь фильм толком непонятно сослуживец ненавидеть хотеть убить милый потенциально вредный животное работать блат время депрессия ага честно сюжетный линия выглядеть разборка старшеклассник работа тюремный блок кстати ради больший слезовыжималка сценарист умолчать преступление выставить положительный персонаж роман-то нравиться постоянный заигрывание тюремщик это выкрутить абсурд это сценарист режиссер общий просто зеленый миля невозможно экранизировать помимо событие рефлексия печальный воспоминание внутренний рассуждение герой мораль общественный норма большой плотный роман завязка забитый вещь который перевести язык все считать сделать все сила фильм получиться настолько хороший насколько это вообще возможно кстати кое-что получиться идеально атмосфера фильм идеально передавать общий тон книга актерский игра речь запасть душа проделать фантастический работа мерка профессиональный актер вроде полноценный образование испытывать фильм чувство ранний считать огромный несправедливость взять жаль картина все шанс период конец девяностый годов-начало двухтысячный подарить большой количество великолепный качественный кинолента который сегодняшний день пересматривать каждый получать удовольствие миля режиссер фрэнк фильм который также недавно пересмотреть снятой мотив роман стивен кинг главный роль исполнить легендарный который давно войти список голливуд хороший харизматичный талантливый актер событие картина разворачиваться 1935 год иполнить роля начальник тюремный блок смертник имя самый приятный каждый день приходиться иметь дело омерзительный личность сидеть тюремный камера хотя все личность омерзительный некоторый выглядеть вполне нормальный человек знать думать все человек совершить убийство также проблема здоровье меняться день тюрьма привозить гигант момент коллега работа жизнь измениться фильм выдержать высокий уровень тюремный блок камера заключить вс минимум это придавать фильм свой мрачный атмосфера отнести драма глубокий осмыслить драма фильм затрагивать несколько важный жизненный аспект фильм также иметься смешной момент грустный момент неприятный момент каждый персонаж обладать свой уникальный характер особенность тюремщик отметить кларк дункан покоиться мир джитер исполнить роль эдуард делокруа приручить ручной мышонок среди надзиратель это великолпный это убеждаться это фильм иметь особый связь джон напарник деманна самый противный персонаж это персонаж роль который исполнить среди женский состав исполнить роль жена патришиа который сыграть роль больной жена начальник тюрьма очень долгий продолжительность фильм фильм казаться затянутый смотреться дыхание держать напряжение персонаж интересно наблюдать фильм заставлять многое задуматься оставлять немало размышление время заставлять немного ужаснуться миля шедевр который фильм занести золотой список кинематограф сложно писать рецензия фильм это просто нужно видеть самый эмоциональный сильный фильм весь история кинематограф который заслужить момент написание рецензия находиться первый место оценка картина обязать свой успех первоисточник снятой мотив известный писатель стивен кинг взять первоисточник это лишь фундамент нужно также грамотно реализовать это создатель справиться превосходно главный заслуга лента считать драматургия считать думать многие согласиться вызвать сильный скорбь грусть гораздо сложный улыбка это нужно проделать больший работа персонаж хотеться сопереживать выстроить грамотный история аспект картина никакой проблема лента суметь правильно перенести история экран использовать хороший ход оставлять деталь вместе зацепка произведение идти час это время успевать детально проникнуться персонаж прочувствовать эмоция менее важно ход действие узнать все новый информация близкий конец фильм собирать весь пазл видеть полный картина происходить хотеться похвалить актер заключить охранник прекрасно справиться свой роль'"
      ]
     },
     "execution_count": 17,
     "metadata": {},
     "output_type": "execute_result"
    }
   ],
   "source": [
    "cur_reviews.review[:50].str.cat(sep=' ')"
   ]
  },
  {
   "cell_type": "code",
   "execution_count": 18,
   "id": "e9e4351b-4de7-4d17-9c8a-b38c25d18f78",
   "metadata": {},
   "outputs": [],
   "source": [
    "cur_reviews.to_csv('./preprocessed_reviews.csv', index=False)"
   ]
  },
  {
   "cell_type": "code",
   "execution_count": 25,
   "id": "b91042dd-0916-4e51-a1ac-76d790e3cb77",
   "metadata": {},
   "outputs": [
    {
     "data": {
      "text/html": [
       "<div>\n",
       "<style scoped>\n",
       "    .dataframe tbody tr th:only-of-type {\n",
       "        vertical-align: middle;\n",
       "    }\n",
       "\n",
       "    .dataframe tbody tr th {\n",
       "        vertical-align: top;\n",
       "    }\n",
       "\n",
       "    .dataframe thead th {\n",
       "        text-align: right;\n",
       "    }\n",
       "</style>\n",
       "<table border=\"1\" class=\"dataframe\">\n",
       "  <thead>\n",
       "    <tr style=\"text-align: right;\">\n",
       "      <th></th>\n",
       "      <th>review</th>\n",
       "    </tr>\n",
       "  </thead>\n",
       "  <tbody>\n",
       "    <tr>\n",
       "      <th>0</th>\n",
       "      <td>зеленый миля смотреть 10 год назад</td>\n",
       "    </tr>\n",
       "    <tr>\n",
       "      <th>1</th>\n",
       "      <td>примерно впечатление который говорить большинс...</td>\n",
       "    </tr>\n",
       "    <tr>\n",
       "      <th>2</th>\n",
       "      <td>плакать глубокий грустный история который надо...</td>\n",
       "    </tr>\n",
       "    <tr>\n",
       "      <th>3</th>\n",
       "      <td>решить освежить впечатление пощекотать эмоция ...</td>\n",
       "    </tr>\n",
       "    <tr>\n",
       "      <th>4</th>\n",
       "      <td>взросление прочтение книга фильм показаться пл...</td>\n",
       "    </tr>\n",
       "    <tr>\n",
       "      <th>...</th>\n",
       "      <td>...</td>\n",
       "    </tr>\n",
       "    <tr>\n",
       "      <th>2248016</th>\n",
       "      <td>некоторый сцена задумка должный идея вызывать ...</td>\n",
       "    </tr>\n",
       "    <tr>\n",
       "      <th>2248017</th>\n",
       "      <td>толкование официальный иллюстрация книга кэрро...</td>\n",
       "    </tr>\n",
       "    <tr>\n",
       "      <th>2248018</th>\n",
       "      <td>картинка который xix век возмущать родитель из...</td>\n",
       "    </tr>\n",
       "    <tr>\n",
       "      <th>2248019</th>\n",
       "      <td>знать насколько книга опережать свой время нев...</td>\n",
       "    </tr>\n",
       "    <tr>\n",
       "      <th>2248020</th>\n",
       "      <td>однако посредственность окупаться поэтому увид...</td>\n",
       "    </tr>\n",
       "  </tbody>\n",
       "</table>\n",
       "<p>2248021 rows × 1 columns</p>\n",
       "</div>"
      ],
      "text/plain": [
       "                                                    review\n",
       "0                       зеленый миля смотреть 10 год назад\n",
       "1        примерно впечатление который говорить большинс...\n",
       "2        плакать глубокий грустный история который надо...\n",
       "3        решить освежить впечатление пощекотать эмоция ...\n",
       "4        взросление прочтение книга фильм показаться пл...\n",
       "...                                                    ...\n",
       "2248016  некоторый сцена задумка должный идея вызывать ...\n",
       "2248017  толкование официальный иллюстрация книга кэрро...\n",
       "2248018  картинка который xix век возмущать родитель из...\n",
       "2248019  знать насколько книга опережать свой время нев...\n",
       "2248020  однако посредственность окупаться поэтому увид...\n",
       "\n",
       "[2248021 rows x 1 columns]"
      ]
     },
     "execution_count": 25,
     "metadata": {},
     "output_type": "execute_result"
    }
   ],
   "source": [
    "cur_reviews"
   ]
  },
  {
   "cell_type": "code",
   "execution_count": 32,
   "id": "f12cb99d-37a2-4520-8c55-9c6922a4f50d",
   "metadata": {},
   "outputs": [
    {
     "data": {
      "text/html": [
       "<div>\n",
       "<style scoped>\n",
       "    .dataframe tbody tr th:only-of-type {\n",
       "        vertical-align: middle;\n",
       "    }\n",
       "\n",
       "    .dataframe tbody tr th {\n",
       "        vertical-align: top;\n",
       "    }\n",
       "\n",
       "    .dataframe thead th {\n",
       "        text-align: right;\n",
       "    }\n",
       "</style>\n",
       "<table border=\"1\" class=\"dataframe\">\n",
       "  <thead>\n",
       "    <tr style=\"text-align: right;\">\n",
       "      <th></th>\n",
       "      <th>review</th>\n",
       "    </tr>\n",
       "  </thead>\n",
       "  <tbody>\n",
       "    <tr>\n",
       "      <th>259488</th>\n",
       "      <td>реклама видеть еще лето зацепить захватывать с...</td>\n",
       "    </tr>\n",
       "    <tr>\n",
       "      <th>1689047</th>\n",
       "      <td>умело передавать зритель порция адреналин держ...</td>\n",
       "    </tr>\n",
       "    <tr>\n",
       "      <th>1899527</th>\n",
       "      <td>это чванство сторона покрыть карта простой объ...</td>\n",
       "    </tr>\n",
       "    <tr>\n",
       "      <th>568020</th>\n",
       "      <td>считать имя это верх творческий личность</td>\n",
       "    </tr>\n",
       "    <tr>\n",
       "      <th>809477</th>\n",
       "      <td>ранее известный режиссер фильм-мясорубка назва...</td>\n",
       "    </tr>\n",
       "    <tr>\n",
       "      <th>...</th>\n",
       "      <td>...</td>\n",
       "    </tr>\n",
       "    <tr>\n",
       "      <th>732180</th>\n",
       "      <td>фильм по-моему это создать отличный атмосфера ...</td>\n",
       "    </tr>\n",
       "    <tr>\n",
       "      <th>110268</th>\n",
       "      <td>вселенная властелин кольцо масштабный безграни...</td>\n",
       "    </tr>\n",
       "    <tr>\n",
       "      <th>1692743</th>\n",
       "      <td>минимум эмоция сцена казаться напрашиваться</td>\n",
       "    </tr>\n",
       "    <tr>\n",
       "      <th>2229084</th>\n",
       "      <td>никто нигде ждать</td>\n",
       "    </tr>\n",
       "    <tr>\n",
       "      <th>2219110</th>\n",
       "      <td>дать</td>\n",
       "    </tr>\n",
       "  </tbody>\n",
       "</table>\n",
       "<p>2203060 rows × 1 columns</p>\n",
       "</div>"
      ],
      "text/plain": [
       "                                                    review\n",
       "259488   реклама видеть еще лето зацепить захватывать с...\n",
       "1689047  умело передавать зритель порция адреналин держ...\n",
       "1899527  это чванство сторона покрыть карта простой объ...\n",
       "568020            считать имя это верх творческий личность\n",
       "809477   ранее известный режиссер фильм-мясорубка назва...\n",
       "...                                                    ...\n",
       "732180   фильм по-моему это создать отличный атмосфера ...\n",
       "110268   вселенная властелин кольцо масштабный безграни...\n",
       "1692743        минимум эмоция сцена казаться напрашиваться\n",
       "2229084                                  никто нигде ждать\n",
       "2219110                                               дать\n",
       "\n",
       "[2203060 rows x 1 columns]"
      ]
     },
     "metadata": {},
     "output_type": "display_data"
    },
    {
     "data": {
      "text/html": [
       "<div>\n",
       "<style scoped>\n",
       "    .dataframe tbody tr th:only-of-type {\n",
       "        vertical-align: middle;\n",
       "    }\n",
       "\n",
       "    .dataframe tbody tr th {\n",
       "        vertical-align: top;\n",
       "    }\n",
       "\n",
       "    .dataframe thead th {\n",
       "        text-align: right;\n",
       "    }\n",
       "</style>\n",
       "<table border=\"1\" class=\"dataframe\">\n",
       "  <thead>\n",
       "    <tr style=\"text-align: right;\">\n",
       "      <th></th>\n",
       "      <th>review</th>\n",
       "    </tr>\n",
       "  </thead>\n",
       "  <tbody>\n",
       "    <tr>\n",
       "      <th>1895742</th>\n",
       "      <td>взять основа идея обыграть еще блестяще миниму...</td>\n",
       "    </tr>\n",
       "    <tr>\n",
       "      <th>1241220</th>\n",
       "      <td>настоящий человек</td>\n",
       "    </tr>\n",
       "    <tr>\n",
       "      <th>952763</th>\n",
       "      <td>идея фильм</td>\n",
       "    </tr>\n",
       "    <tr>\n",
       "      <th>132948</th>\n",
       "      <td>явно что-то фильм доставать мочь масштабность</td>\n",
       "    </tr>\n",
       "    <tr>\n",
       "      <th>566879</th>\n",
       "      <td>радовать графика</td>\n",
       "    </tr>\n",
       "    <tr>\n",
       "      <th>...</th>\n",
       "      <td>...</td>\n",
       "    </tr>\n",
       "    <tr>\n",
       "      <th>1265313</th>\n",
       "      <td>определенный вещь который позволять сделать пр...</td>\n",
       "    </tr>\n",
       "    <tr>\n",
       "      <th>1517670</th>\n",
       "      <td>честно признаться выбор главный роль обрадовать</td>\n",
       "    </tr>\n",
       "    <tr>\n",
       "      <th>40921</th>\n",
       "      <td>девушка поселиться сердце главное герой являть...</td>\n",
       "    </tr>\n",
       "    <tr>\n",
       "      <th>219034</th>\n",
       "      <td>задира</td>\n",
       "    </tr>\n",
       "    <tr>\n",
       "      <th>1680561</th>\n",
       "      <td>роль вообще свести роль марионетка который анг...</td>\n",
       "    </tr>\n",
       "  </tbody>\n",
       "</table>\n",
       "<p>44961 rows × 1 columns</p>\n",
       "</div>"
      ],
      "text/plain": [
       "                                                    review\n",
       "1895742  взять основа идея обыграть еще блестяще миниму...\n",
       "1241220                                  настоящий человек\n",
       "952763                                          идея фильм\n",
       "132948       явно что-то фильм доставать мочь масштабность\n",
       "566879                                    радовать графика\n",
       "...                                                    ...\n",
       "1265313  определенный вещь который позволять сделать пр...\n",
       "1517670    честно признаться выбор главный роль обрадовать\n",
       "40921    девушка поселиться сердце главное герой являть...\n",
       "219034                                              задира\n",
       "1680561  роль вообще свести роль марионетка который анг...\n",
       "\n",
       "[44961 rows x 1 columns]"
      ]
     },
     "metadata": {},
     "output_type": "display_data"
    }
   ],
   "source": [
    "X_train, X_test = train_test_split(cur_reviews, random_state=SEED, test_size=0.02)\n",
    "\n",
    "display(X_train)\n",
    "display(X_test)"
   ]
  },
  {
   "cell_type": "code",
   "execution_count": 33,
   "id": "51189ab3-617a-4c40-9e92-ce5ffcbc42a3",
   "metadata": {},
   "outputs": [
    {
     "data": {
      "application/vnd.jupyter.widget-view+json": {
       "model_id": "53a8961b87ca4d04b984f942e5ffcc04",
       "version_major": 2,
       "version_minor": 0
      },
      "text/plain": [
       "  0%|          | 0/2203060 [00:00<?, ?it/s]"
      ]
     },
     "metadata": {},
     "output_type": "display_data"
    }
   ],
   "source": [
    "with open('../repos/Attention-Based-Aspect-Extraction/preprocessed_data/review/train.txt', 'wt', encoding='UTF-8') as f:\n",
    "    for line in tqdm(X_train['review']):\n",
    "        if len(line.split()) > 1:\n",
    "            f.write(line + '\\n')"
   ]
  },
  {
   "cell_type": "code",
   "execution_count": 34,
   "id": "b784a65e-8af0-4c6d-a391-d056e5ac05c8",
   "metadata": {},
   "outputs": [
    {
     "data": {
      "application/vnd.jupyter.widget-view+json": {
       "model_id": "597ee607eedc43538cabf1a47a8c0872",
       "version_major": 2,
       "version_minor": 0
      },
      "text/plain": [
       "  0%|          | 0/44961 [00:00<?, ?it/s]"
      ]
     },
     "metadata": {},
     "output_type": "display_data"
    }
   ],
   "source": [
    "with open('../repos/Attention-Based-Aspect-Extraction/preprocessed_data/review/test.txt', 'wt', encoding='UTF-8') as f:\n",
    "    for line in tqdm(X_test['review']):\n",
    "        if len(line.split()) > 1:\n",
    "            f.write(line + '\\n')"
   ]
  },
  {
   "cell_type": "code",
   "execution_count": null,
   "id": "983c7f51-11da-4222-be1c-f83cc46b8d91",
   "metadata": {},
   "outputs": [],
   "source": []
  },
  {
   "cell_type": "code",
   "execution_count": 19,
   "id": "31d8f3f2-f4b9-43f3-b9ac-4aa5eeaff049",
   "metadata": {},
   "outputs": [
    {
     "data": {
      "application/vnd.jupyter.widget-view+json": {
       "model_id": "8191b12070234bc09af1d4ef0b521911",
       "version_major": 2,
       "version_minor": 0
      },
      "text/plain": [
       "  0%|          | 0/2248021 [00:00<?, ?it/s]"
      ]
     },
     "metadata": {},
     "output_type": "display_data"
    }
   ],
   "source": [
    "with open('../repos/Attention-Based-Aspect-Extraction/preprocessed_data/review/train.txt', 'wt', encoding='UTF-8') as f:\n",
    "    for line in tqdm(cur_reviews['review']):\n",
    "        if len(line.split()) > 1:\n",
    "            f.write(line + '\\n')"
   ]
  },
  {
   "cell_type": "code",
   "execution_count": 20,
   "id": "f291eda9-eeb9-44e7-887c-1b5be2f38779",
   "metadata": {},
   "outputs": [],
   "source": [
    "from collections import Counter"
   ]
  },
  {
   "cell_type": "code",
   "execution_count": null,
   "id": "011fcb60-62b6-45f6-8d07-31cae7e32e99",
   "metadata": {},
   "outputs": [],
   "source": [
    "counter = dict(Counter(cur_reviews['review'].str.cat(sep=' ').split()))\n",
    "counter"
   ]
  },
  {
   "cell_type": "code",
   "execution_count": 22,
   "id": "735bc8cd-69e2-46f2-9d3e-e71aaceb23c0",
   "metadata": {},
   "outputs": [],
   "source": [
    "words = []\n",
    "counts = []\n",
    "\n",
    "for k, v in counter.items():\n",
    "    words.append(k)\n",
    "    counts.append(v)"
   ]
  },
  {
   "cell_type": "code",
   "execution_count": 23,
   "id": "a6916cd0-54fa-4b27-a1df-7a814beca825",
   "metadata": {},
   "outputs": [
    {
     "data": {
      "text/html": [
       "<div>\n",
       "<style scoped>\n",
       "    .dataframe tbody tr th:only-of-type {\n",
       "        vertical-align: middle;\n",
       "    }\n",
       "\n",
       "    .dataframe tbody tr th {\n",
       "        vertical-align: top;\n",
       "    }\n",
       "\n",
       "    .dataframe thead th {\n",
       "        text-align: right;\n",
       "    }\n",
       "</style>\n",
       "<table border=\"1\" class=\"dataframe\">\n",
       "  <thead>\n",
       "    <tr style=\"text-align: right;\">\n",
       "      <th></th>\n",
       "      <th>words</th>\n",
       "      <th>counts</th>\n",
       "    </tr>\n",
       "  </thead>\n",
       "  <tbody>\n",
       "    <tr>\n",
       "      <th>0</th>\n",
       "      <td>зеленый</td>\n",
       "      <td>3392</td>\n",
       "    </tr>\n",
       "    <tr>\n",
       "      <th>1</th>\n",
       "      <td>миля</td>\n",
       "      <td>1210</td>\n",
       "    </tr>\n",
       "    <tr>\n",
       "      <th>2</th>\n",
       "      <td>смотреть</td>\n",
       "      <td>61113</td>\n",
       "    </tr>\n",
       "    <tr>\n",
       "      <th>3</th>\n",
       "      <td>10</td>\n",
       "      <td>6134</td>\n",
       "    </tr>\n",
       "    <tr>\n",
       "      <th>4</th>\n",
       "      <td>год</td>\n",
       "      <td>61572</td>\n",
       "    </tr>\n",
       "    <tr>\n",
       "      <th>...</th>\n",
       "      <td>...</td>\n",
       "      <td>...</td>\n",
       "    </tr>\n",
       "    <tr>\n",
       "      <th>194151</th>\n",
       "      <td>ремеслиничество-артиджани</td>\n",
       "      <td>1</td>\n",
       "    </tr>\n",
       "    <tr>\n",
       "      <th>194152</th>\n",
       "      <td>подписотый</td>\n",
       "      <td>1</td>\n",
       "    </tr>\n",
       "    <tr>\n",
       "      <th>194153</th>\n",
       "      <td>ordine</td>\n",
       "      <td>1</td>\n",
       "    </tr>\n",
       "    <tr>\n",
       "      <th>194154</th>\n",
       "      <td>merito</td>\n",
       "      <td>1</td>\n",
       "    </tr>\n",
       "    <tr>\n",
       "      <th>194155</th>\n",
       "      <td>lavoro</td>\n",
       "      <td>1</td>\n",
       "    </tr>\n",
       "  </tbody>\n",
       "</table>\n",
       "<p>194156 rows × 2 columns</p>\n",
       "</div>"
      ],
      "text/plain": [
       "                            words  counts\n",
       "0                         зеленый    3392\n",
       "1                            миля    1210\n",
       "2                        смотреть   61113\n",
       "3                              10    6134\n",
       "4                             год   61572\n",
       "...                           ...     ...\n",
       "194151  ремеслиничество-артиджани       1\n",
       "194152                 подписотый       1\n",
       "194153                     ordine       1\n",
       "194154                     merito       1\n",
       "194155                     lavoro       1\n",
       "\n",
       "[194156 rows x 2 columns]"
      ]
     },
     "metadata": {},
     "output_type": "display_data"
    },
    {
     "data": {
      "text/html": [
       "<div>\n",
       "<style scoped>\n",
       "    .dataframe tbody tr th:only-of-type {\n",
       "        vertical-align: middle;\n",
       "    }\n",
       "\n",
       "    .dataframe tbody tr th {\n",
       "        vertical-align: top;\n",
       "    }\n",
       "\n",
       "    .dataframe thead th {\n",
       "        text-align: right;\n",
       "    }\n",
       "</style>\n",
       "<table border=\"1\" class=\"dataframe\">\n",
       "  <thead>\n",
       "    <tr style=\"text-align: right;\">\n",
       "      <th></th>\n",
       "      <th>words</th>\n",
       "      <th>counts</th>\n",
       "    </tr>\n",
       "  </thead>\n",
       "  <tbody>\n",
       "    <tr>\n",
       "      <th>179</th>\n",
       "      <td>годов-начало</td>\n",
       "      <td>1</td>\n",
       "    </tr>\n",
       "    <tr>\n",
       "      <th>211</th>\n",
       "      <td>иполнить</td>\n",
       "      <td>1</td>\n",
       "    </tr>\n",
       "    <tr>\n",
       "      <th>269</th>\n",
       "      <td>делокруа</td>\n",
       "      <td>1</td>\n",
       "    </tr>\n",
       "    <tr>\n",
       "      <th>286</th>\n",
       "      <td>патришиа</td>\n",
       "      <td>1</td>\n",
       "    </tr>\n",
       "    <tr>\n",
       "      <th>491</th>\n",
       "      <td>гуманистически</td>\n",
       "      <td>2</td>\n",
       "    </tr>\n",
       "    <tr>\n",
       "      <th>...</th>\n",
       "      <td>...</td>\n",
       "      <td>...</td>\n",
       "    </tr>\n",
       "    <tr>\n",
       "      <th>194151</th>\n",
       "      <td>ремеслиничество-артиджани</td>\n",
       "      <td>1</td>\n",
       "    </tr>\n",
       "    <tr>\n",
       "      <th>194152</th>\n",
       "      <td>подписотый</td>\n",
       "      <td>1</td>\n",
       "    </tr>\n",
       "    <tr>\n",
       "      <th>194153</th>\n",
       "      <td>ordine</td>\n",
       "      <td>1</td>\n",
       "    </tr>\n",
       "    <tr>\n",
       "      <th>194154</th>\n",
       "      <td>merito</td>\n",
       "      <td>1</td>\n",
       "    </tr>\n",
       "    <tr>\n",
       "      <th>194155</th>\n",
       "      <td>lavoro</td>\n",
       "      <td>1</td>\n",
       "    </tr>\n",
       "  </tbody>\n",
       "</table>\n",
       "<p>126772 rows × 2 columns</p>\n",
       "</div>"
      ],
      "text/plain": [
       "                            words  counts\n",
       "179                  годов-начало       1\n",
       "211                      иполнить       1\n",
       "269                      делокруа       1\n",
       "286                      патришиа       1\n",
       "491                гуманистически       2\n",
       "...                           ...     ...\n",
       "194151  ремеслиничество-артиджани       1\n",
       "194152                 подписотый       1\n",
       "194153                     ordine       1\n",
       "194154                     merito       1\n",
       "194155                     lavoro       1\n",
       "\n",
       "[126772 rows x 2 columns]"
      ]
     },
     "metadata": {},
     "output_type": "display_data"
    }
   ],
   "source": [
    "word_stats = pd.DataFrame(data={'words': words, 'counts': counts})\n",
    "display(word_stats)\n",
    "\n",
    "display(word_stats.query('counts < 3'))"
   ]
  },
  {
   "cell_type": "code",
   "execution_count": null,
   "id": "613280f7-b47c-4297-b4ed-06af49e783ba",
   "metadata": {
    "scrolled": true
   },
   "outputs": [],
   "source": [
    "word_stats.query('counts < 3')['words'].str.cat(sep=' ')"
   ]
  },
  {
   "cell_type": "code",
   "execution_count": null,
   "id": "044607e7-804d-4a7d-a0fb-8fecd3734176",
   "metadata": {},
   "outputs": [
    {
     "data": {
      "text/html": [
       "<div>\n",
       "<style scoped>\n",
       "    .dataframe tbody tr th:only-of-type {\n",
       "        vertical-align: middle;\n",
       "    }\n",
       "\n",
       "    .dataframe tbody tr th {\n",
       "        vertical-align: top;\n",
       "    }\n",
       "\n",
       "    .dataframe thead th {\n",
       "        text-align: right;\n",
       "    }\n",
       "</style>\n",
       "<table border=\"1\" class=\"dataframe\">\n",
       "  <thead>\n",
       "    <tr style=\"text-align: right;\">\n",
       "      <th></th>\n",
       "      <th>review</th>\n",
       "    </tr>\n",
       "  </thead>\n",
       "  <tbody>\n",
       "    <tr>\n",
       "      <th>0</th>\n",
       "      <td>зелёный миля смотреть 10 год назад</td>\n",
       "    </tr>\n",
       "    <tr>\n",
       "      <th>1</th>\n",
       "      <td>первый примерно впечатление который говорить б...</td>\n",
       "    </tr>\n",
       "    <tr>\n",
       "      <th>2</th>\n",
       "      <td>плакать глубокий грустный история который надо...</td>\n",
       "    </tr>\n",
       "    <tr>\n",
       "      <th>3</th>\n",
       "      <td>решить освежить впечатление пощекотать эмоция ...</td>\n",
       "    </tr>\n",
       "    <tr>\n",
       "      <th>4</th>\n",
       "      <td>взросление прочтение книга фильм дарабонт пока...</td>\n",
       "    </tr>\n",
       "    <tr>\n",
       "      <th>5</th>\n",
       "      <td>это довольно странно учитывать фильм идти час ...</td>\n",
       "    </tr>\n",
       "    <tr>\n",
       "      <th>6</th>\n",
       "      <td>тема расизм злоупотребление власть жизнь смерт...</td>\n",
       "    </tr>\n",
       "    <tr>\n",
       "      <th>7</th>\n",
       "      <td>особенно нелепый весь линия травля перси весь ...</td>\n",
       "    </tr>\n",
       "    <tr>\n",
       "      <th>8</th>\n",
       "      <td>хотеть убить милый потенциально вредный животное</td>\n",
       "    </tr>\n",
       "    <tr>\n",
       "      <th>9</th>\n",
       "      <td>работать блат время депрессия ага</td>\n",
       "    </tr>\n",
       "    <tr>\n",
       "      <th>10</th>\n",
       "      <td>честно сюжетный линия выглядеть разборка старш...</td>\n",
       "    </tr>\n",
       "    <tr>\n",
       "      <th>11</th>\n",
       "      <td>кстати ради больший слезовыжималка сценарист у...</td>\n",
       "    </tr>\n",
       "    <tr>\n",
       "      <th>12</th>\n",
       "      <td>роман-то нравиться постоянный заигрывание тюре...</td>\n",
       "    </tr>\n",
       "    <tr>\n",
       "      <th>13</th>\n",
       "      <td>вино это сценарист режиссёр</td>\n",
       "    </tr>\n",
       "    <tr>\n",
       "      <th>14</th>\n",
       "      <td>общий</td>\n",
       "    </tr>\n",
       "    <tr>\n",
       "      <th>15</th>\n",
       "      <td>просто зелёный миля невозможно экранизировать</td>\n",
       "    </tr>\n",
       "    <tr>\n",
       "      <th>16</th>\n",
       "      <td>помимо событие рефлексия печальный воспоминани...</td>\n",
       "    </tr>\n",
       "    <tr>\n",
       "      <th>17</th>\n",
       "      <td>это большой плотный роман завязка забитый вещь...</td>\n",
       "    </tr>\n",
       "    <tr>\n",
       "      <th>18</th>\n",
       "      <td>всё считать дарабонт сделать всё сила фильм по...</td>\n",
       "    </tr>\n",
       "    <tr>\n",
       "      <th>19</th>\n",
       "      <td>кстати кое-что получиться идеально атмосфера ф...</td>\n",
       "    </tr>\n",
       "  </tbody>\n",
       "</table>\n",
       "</div>"
      ],
      "text/plain": [
       "                                               review\n",
       "0                  зелёный миля смотреть 10 год назад\n",
       "1   первый примерно впечатление который говорить б...\n",
       "2   плакать глубокий грустный история который надо...\n",
       "3   решить освежить впечатление пощекотать эмоция ...\n",
       "4   взросление прочтение книга фильм дарабонт пока...\n",
       "5   это довольно странно учитывать фильм идти час ...\n",
       "6   тема расизм злоупотребление власть жизнь смерт...\n",
       "7   особенно нелепый весь линия травля перси весь ...\n",
       "8    хотеть убить милый потенциально вредный животное\n",
       "9                   работать блат время депрессия ага\n",
       "10  честно сюжетный линия выглядеть разборка старш...\n",
       "11  кстати ради больший слезовыжималка сценарист у...\n",
       "12  роман-то нравиться постоянный заигрывание тюре...\n",
       "13                        вино это сценарист режиссёр\n",
       "14                                              общий\n",
       "15      просто зелёный миля невозможно экранизировать\n",
       "16  помимо событие рефлексия печальный воспоминани...\n",
       "17  это большой плотный роман завязка забитый вещь...\n",
       "18  всё считать дарабонт сделать всё сила фильм по...\n",
       "19  кстати кое-что получиться идеально атмосфера ф..."
      ]
     },
     "execution_count": 13,
     "metadata": {},
     "output_type": "execute_result"
    }
   ],
   "source": [
    "cur_reviews.head(20)"
   ]
  },
  {
   "cell_type": "code",
   "execution_count": null,
   "id": "42924cb5-5aab-46f5-9700-252f96b0b87a",
   "metadata": {},
   "outputs": [
    {
     "data": {
      "text/plain": [
       "(2248341, 1)"
      ]
     },
     "execution_count": 14,
     "metadata": {},
     "output_type": "execute_result"
    }
   ],
   "source": [
    "cur_reviews.shape"
   ]
  }
 ],
 "metadata": {
  "kernelspec": {
   "display_name": "Python 3 (ipykernel)",
   "language": "python",
   "name": "python3"
  },
  "language_info": {
   "codemirror_mode": {
    "name": "ipython",
    "version": 3
   },
   "file_extension": ".py",
   "mimetype": "text/x-python",
   "name": "python",
   "nbconvert_exporter": "python",
   "pygments_lexer": "ipython3",
   "version": "3.9.17"
  }
 },
 "nbformat": 4,
 "nbformat_minor": 5
}
