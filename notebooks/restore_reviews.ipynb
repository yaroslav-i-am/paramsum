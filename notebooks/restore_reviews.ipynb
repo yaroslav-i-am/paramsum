{
 "cells": [
  {
   "cell_type": "code",
   "execution_count": 1,
   "id": "a8318290-1552-471e-8670-d43448ca5a0d",
   "metadata": {},
   "outputs": [],
   "source": [
    "import pandas as pd"
   ]
  },
  {
   "cell_type": "code",
   "execution_count": 3,
   "id": "0a7cf7a5-630c-4c56-ba7d-32951e2c83f3",
   "metadata": {},
   "outputs": [
    {
     "data": {
      "text/html": [
       "<div>\n",
       "<style scoped>\n",
       "    .dataframe tbody tr th:only-of-type {\n",
       "        vertical-align: middle;\n",
       "    }\n",
       "\n",
       "    .dataframe tbody tr th {\n",
       "        vertical-align: top;\n",
       "    }\n",
       "\n",
       "    .dataframe thead th {\n",
       "        text-align: right;\n",
       "    }\n",
       "</style>\n",
       "<table border=\"1\" class=\"dataframe\">\n",
       "  <thead>\n",
       "    <tr style=\"text-align: right;\">\n",
       "      <th></th>\n",
       "      <th>review</th>\n",
       "    </tr>\n",
       "  </thead>\n",
       "  <tbody>\n",
       "    <tr>\n",
       "      <th>0</th>\n",
       "      <td>Одноэтажная Америка. Ряды домов с мощёной улиц...</td>\n",
       "    </tr>\n",
       "    <tr>\n",
       "      <th>1</th>\n",
       "      <td>28 Дней Спустя - один из самых лучших фильмов ...</td>\n",
       "    </tr>\n",
       "    <tr>\n",
       "      <th>2</th>\n",
       "      <td>53-ий анимационный фильм студии Дисней получил...</td>\n",
       "    </tr>\n",
       "    <tr>\n",
       "      <th>3</th>\n",
       "      <td>Лично я с нетерпением ждал выхода этого фильма...</td>\n",
       "    </tr>\n",
       "    <tr>\n",
       "      <th>4</th>\n",
       "      <td>Глядела эту хистори со своим другом-геем. Очен...</td>\n",
       "    </tr>\n",
       "    <tr>\n",
       "      <th>...</th>\n",
       "      <td>...</td>\n",
       "    </tr>\n",
       "    <tr>\n",
       "      <th>90642</th>\n",
       "      <td>Вы же все знаете, что такое безумие? Повторени...</td>\n",
       "    </tr>\n",
       "    <tr>\n",
       "      <th>90643</th>\n",
       "      <td>Всем нам нравится определенное кино или жанр в...</td>\n",
       "    </tr>\n",
       "    <tr>\n",
       "      <th>90644</th>\n",
       "      <td>Я не люблю фильмы, снятые по комиксам. Они все...</td>\n",
       "    </tr>\n",
       "    <tr>\n",
       "      <th>90645</th>\n",
       "      <td>Тон моей рецензии будет действительно слегка у...</td>\n",
       "    </tr>\n",
       "    <tr>\n",
       "      <th>90646</th>\n",
       "      <td>Стивен Кинг, пожалуй, является самым экранизир...</td>\n",
       "    </tr>\n",
       "  </tbody>\n",
       "</table>\n",
       "<p>90647 rows × 1 columns</p>\n",
       "</div>"
      ],
      "text/plain": [
       "                                                  review\n",
       "0      Одноэтажная Америка. Ряды домов с мощёной улиц...\n",
       "1      28 Дней Спустя - один из самых лучших фильмов ...\n",
       "2      53-ий анимационный фильм студии Дисней получил...\n",
       "3      Лично я с нетерпением ждал выхода этого фильма...\n",
       "4      Глядела эту хистори со своим другом-геем. Очен...\n",
       "...                                                  ...\n",
       "90642  Вы же все знаете, что такое безумие? Повторени...\n",
       "90643  Всем нам нравится определенное кино или жанр в...\n",
       "90644  Я не люблю фильмы, снятые по комиксам. Они все...\n",
       "90645  Тон моей рецензии будет действительно слегка у...\n",
       "90646  Стивен Кинг, пожалуй, является самым экранизир...\n",
       "\n",
       "[90647 rows x 1 columns]"
      ]
     },
     "execution_count": 3,
     "metadata": {},
     "output_type": "execute_result"
    }
   ],
   "source": [
    "reviews = pd.read_csv('../data/clean_reviews.csv', index_col=0)\n",
    "reviews"
   ]
  },
  {
   "cell_type": "code",
   "execution_count": null,
   "id": "f77790c0-5f2d-41f4-8f0b-3e375dd47436",
   "metadata": {},
   "outputs": [],
   "source": [
    "with open"
   ]
  }
 ],
 "metadata": {
  "kernelspec": {
   "display_name": "Python 3 (ipykernel)",
   "language": "python",
   "name": "python3"
  },
  "language_info": {
   "codemirror_mode": {
    "name": "ipython",
    "version": 3
   },
   "file_extension": ".py",
   "mimetype": "text/x-python",
   "name": "python",
   "nbconvert_exporter": "python",
   "pygments_lexer": "ipython3",
   "version": "3.9.17"
  }
 },
 "nbformat": 4,
 "nbformat_minor": 5
}
